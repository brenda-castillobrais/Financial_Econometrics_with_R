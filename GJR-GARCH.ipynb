{
 "cells": [
  {
   "cell_type": "markdown",
   "metadata": {
    "collapsed": true
   },
   "source": [
    "# GJR-GARCH(1,1) process with unconditional mean and skewed-t errors\n",
    "## 1. Data simulation\n",
    "In this section, we generate our true data according to the following data generating process: a GJR-GARCH(1,1) for the conditional variance, unconditional mean and skewed-t errors. Formally, we assume that return of asset $i$ at day $t$ is given by \n",
    "\\begin{eqnarray} \n",
    "r_{i,t} &=& \\mu_i + \\sigma_{i,t} z_{i,t}\n",
    "\\label{equation:return} \\\\ \n",
    "\\sigma_{i,t}^2 &=&  \\omega_i + \\beta_i  \\sigma_{i,t-1}^2 + \\alpha_i (\\sigma_{i,t-1} z_{i,t-1})^2 + \\gamma (\\sigma_{i,t-1} z_{i,t-1})^2 I_{\\{z_{i,t-1}<0\\}} \\label{equation:conditionalvariance}  \n",
    "\\end{eqnarray} where  \n",
    "- $z_{i,t}$ is an i.i.d. random variable that follows a skewed-t of Hansen (1994) distribution, with degrees of freedom and asymmetry parameters  denoted by $2<\\nu_i<\\infty$ and $-1<\\lambda_i<1$, respectively.\n",
    "- $\\mu_i$ denotes de unconditional mean.\n",
    "- $\\sigma_{i,t}^2$ corresponds to the conditional variance which describes a GJR-GARCH model\n",
    "- $I$ is an indicator function that takes the value of 1 if the inequality is satisfied and 0 otherwise.\n",
    "- Positiveness restrictions: $\\omega_i>0$, $\\alpha_i\\geq 0$, $\\alpha_i+\\gamma_i>0$ and $\\beta_i\\geq 0$ \n",
    "- Stationarity restriction:  $\\alpha_i+\\frac{1}{2}\\gamma_i+\\beta_i<1$\n",
    "\n",
    "The set of model parameters is $\\theta_i=(\\mu_i, \\omega_i, \\beta_i, \\alpha_i, \\gamma_i,\\nu_i,\\lambda_i)$."
   ]
  },
  {
   "cell_type": "markdown",
   "metadata": {},
   "source": [
    "The following helper function named **skewtinv** computes the inverse of a skewed-t cumulative distribution function, e.g., it computes $z = F^{-1}(p|\\nu,\\lambda)$, where $p$ denotes a cumulative probability and $\\nu$, $\\lambda$ are shape parameters that controls for kurtosis and skewness, respectively. "
   ]
  },
  {
   "cell_type": "code",
   "execution_count": 20,
   "metadata": {},
   "outputs": [],
   "source": [
    "skewtinv <- function(p, nu, lambda) {\n",
    "# USAGE:\n",
    "#   X=skewtinv(P,V,LAMBDA)\n",
    " \n",
    "# INPUTS:\n",
    "#   P      - Values to be inverted, P in [0,1]\n",
    "#   nu     - kurtosis parameter\n",
    "#   lambda - skewness parameter \n",
    "     \n",
    "# OUTPUTS:\n",
    "#   X      - Skewed T distributed random variables corresponding to P\n",
    "\n",
    "# COMMENTS:\n",
    "#   nu > 2\n",
    "#   -.99 < lambda < .99  \n",
    "    \n",
    "# REFERENCE:\n",
    "#   [1] Hansen (1994), Intl.Econ.Rev. (35)\n",
    "\n",
    "c <- gamma((nu+1)/2)/(sqrt(pi*(nu-2))*gamma(nu/2))\n",
    "a <- 4*lambda*c*((nu-2)/(nu-1))\n",
    "b <- sqrt(1 + 3*lambda^2 - a^2)\n",
    "  \n",
    "f1 <- which(p <  (1-lambda)/2)\n",
    "f2 <- which(p >= (1-lambda)/2)\n",
    "\n",
    "inv1 <- ((1-lambda)/b)*sqrt((nu-2)/nu)*qt(p[f1]/(1-lambda),nu) - a/b\n",
    "inv2 <- ((1+lambda)/b)*sqrt((nu-2)/nu)*qt(0.5+1/(1+lambda)*(p[f2]-(1-lambda)/2),nu) - a/b\n",
    "\n",
    "x <- rep(NaN,length(p))\n",
    "x[f1] <- inv1\n",
    "x[f2] <- inv2\n",
    "return(x) \n",
    "}"
   ]
  },
  {
   "cell_type": "code",
   "execution_count": 21,
   "metadata": {},
   "outputs": [],
   "source": [
    "set.seed(12345) # for reproducibility\n",
    "T <- 4000 # Number of simulated data\n",
    "burn <- 200 # we drop first observations\n",
    "TT <- T + burn\n",
    "\n",
    "# Paramteres:\n",
    "# inverse leverage effect:\n",
    "# mu <- 0.07; omega <- 0.03; beta <- 0.8; alpha <- 0.2; gamma <- -0.08; nu <- 3.5; lambda <- -0.1;\n",
    "# leverage effect:\n",
    "mu <- 0.07; omega <- 0.03; beta <- 0.94; alpha <- 0.02; gamma <- 0.08; nu <- 3.5; lambda <- -0.1;\n",
    " \n",
    "# generate TT random variables, uniformly distributed between 0 and 1:\n",
    "Fdata <- runif(TT, min = 0.0001, max = 0.9999)\n",
    "\n",
    "# obtain standardized returns, recall that Z ~ F(z|nu,lambda) where F is a skewed-t CDF:\n",
    "z <- skewtinv(Fdata,nu,lambda)\n",
    "\n",
    "# we will store the simulated conditional variance, returns and prices series here:\n",
    "sigma2 <- replicate(TT,0)\n",
    "ret <- replicate(TT,0)\n",
    "price <- replicate(TT,0)\n",
    "\n",
    "# initial values (required to start the process):\n",
    "sigma2[1] <- omega\n",
    "ret[1] = mu + z[1]*sqrt(sigma2[1])\n",
    "price[1] = 10 # arbitrary\n",
    "\n",
    "for (t in 2 : TT)  {\n",
    "      sigma2[t] <-  omega + beta*sigma2[t-1] + alpha*(z[t-1]*sqrt(sigma2[t-1]))^2 + gamma*min((z[t-1]*sqrt(sigma2[t-1])),0)^2 # GJR-GARCH(1,1) \n",
    "      ret[t] = mu + z[t]*sqrt(sigma2[t])\n",
    "      price[t] = price[t-1]*(1+ret[t]/100)\n",
    "    }\n",
    "\n",
    "date <- seq(as.Date(\"2000-01-01\"),as.Date(\"2019-12-31\"),by = 1)\n",
    "\n",
    "# drop first observations (usually, first observations are not good):\n",
    "truedf <- data.frame(\"date\" = tail(date,T), \"p\" = tail(price,T),\"r\" = tail(ret,T), \"z\" = tail(z,T))"
   ]
  },
  {
   "cell_type": "markdown",
   "metadata": {},
   "source": [
    "Let's take a look to the last observations of our simulated dataset:"
   ]
  },
  {
   "cell_type": "code",
   "execution_count": 22,
   "metadata": {},
   "outputs": [
    {
     "data": {
      "text/html": [
       "<table class=\"dataframe\">\n",
       "<caption>A data.frame: 6 × 4</caption>\n",
       "<thead>\n",
       "\t<tr><th></th><th scope=col>date</th><th scope=col>p</th><th scope=col>r</th><th scope=col>z</th></tr>\n",
       "\t<tr><th></th><th scope=col>&lt;date&gt;</th><th scope=col>&lt;dbl&gt;</th><th scope=col>&lt;dbl&gt;</th><th scope=col>&lt;dbl&gt;</th></tr>\n",
       "</thead>\n",
       "<tbody>\n",
       "\t<tr><th scope=row>3995</th><td>2019-12-26</td><td>147.7466</td><td>-0.03406161</td><td>-0.04759810</td></tr>\n",
       "\t<tr><th scope=row>3996</th><td>2019-12-27</td><td>144.3724</td><td>-2.28376900</td><td>-1.10662855</td></tr>\n",
       "\t<tr><th scope=row>3997</th><td>2019-12-28</td><td>144.4247</td><td> 0.03616307</td><td>-0.01538584</td></tr>\n",
       "\t<tr><th scope=row>3998</th><td>2019-12-29</td><td>145.0998</td><td> 0.46746955</td><td> 0.18579603</td></tr>\n",
       "\t<tr><th scope=row>3999</th><td>2019-12-30</td><td>149.2523</td><td> 2.86182806</td><td> 1.34088007</td></tr>\n",
       "\t<tr><th scope=row>4000</th><td>2019-12-31</td><td>144.9063</td><td>-2.91185642</td><td>-1.44456758</td></tr>\n",
       "</tbody>\n",
       "</table>\n"
      ],
      "text/latex": [
       "A data.frame: 6 × 4\n",
       "\\begin{tabular}{r|llll}\n",
       "  & date & p & r & z\\\\\n",
       "  & <date> & <dbl> & <dbl> & <dbl>\\\\\n",
       "\\hline\n",
       "\t3995 & 2019-12-26 & 147.7466 & -0.03406161 & -0.04759810\\\\\n",
       "\t3996 & 2019-12-27 & 144.3724 & -2.28376900 & -1.10662855\\\\\n",
       "\t3997 & 2019-12-28 & 144.4247 &  0.03616307 & -0.01538584\\\\\n",
       "\t3998 & 2019-12-29 & 145.0998 &  0.46746955 &  0.18579603\\\\\n",
       "\t3999 & 2019-12-30 & 149.2523 &  2.86182806 &  1.34088007\\\\\n",
       "\t4000 & 2019-12-31 & 144.9063 & -2.91185642 & -1.44456758\\\\\n",
       "\\end{tabular}\n"
      ],
      "text/markdown": [
       "\n",
       "A data.frame: 6 × 4\n",
       "\n",
       "| <!--/--> | date &lt;date&gt; | p &lt;dbl&gt; | r &lt;dbl&gt; | z &lt;dbl&gt; |\n",
       "|---|---|---|---|---|\n",
       "| 3995 | 2019-12-26 | 147.7466 | -0.03406161 | -0.04759810 |\n",
       "| 3996 | 2019-12-27 | 144.3724 | -2.28376900 | -1.10662855 |\n",
       "| 3997 | 2019-12-28 | 144.4247 |  0.03616307 | -0.01538584 |\n",
       "| 3998 | 2019-12-29 | 145.0998 |  0.46746955 |  0.18579603 |\n",
       "| 3999 | 2019-12-30 | 149.2523 |  2.86182806 |  1.34088007 |\n",
       "| 4000 | 2019-12-31 | 144.9063 | -2.91185642 | -1.44456758 |\n",
       "\n"
      ],
      "text/plain": [
       "     date       p        r           z          \n",
       "3995 2019-12-26 147.7466 -0.03406161 -0.04759810\n",
       "3996 2019-12-27 144.3724 -2.28376900 -1.10662855\n",
       "3997 2019-12-28 144.4247  0.03616307 -0.01538584\n",
       "3998 2019-12-29 145.0998  0.46746955  0.18579603\n",
       "3999 2019-12-30 149.2523  2.86182806  1.34088007\n",
       "4000 2019-12-31 144.9063 -2.91185642 -1.44456758"
      ]
     },
     "metadata": {},
     "output_type": "display_data"
    }
   ],
   "source": [
    "tail(truedf)"
   ]
  },
  {
   "cell_type": "markdown",
   "metadata": {},
   "source": [
    "Some descriptive statistics of our simulated data:"
   ]
  },
  {
   "cell_type": "code",
   "execution_count": 23,
   "metadata": {},
   "outputs": [
    {
     "data": {
      "text/plain": [
       "       p                r                   z            \n",
       " Min.   : 14.58   Min.   :-17.69707   Min.   :-7.264076  \n",
       " 1st Qu.: 42.81   1st Qu.: -0.70708   1st Qu.:-0.461484  \n",
       " Median :114.17   Median :  0.16556   Median : 0.059886  \n",
       " Mean   :100.66   Mean   :  0.07393   Mean   :-0.005174  \n",
       " 3rd Qu.:137.45   3rd Qu.:  0.95114   3rd Qu.: 0.515237  \n",
       " Max.   :209.27   Max.   : 12.88380   Max.   : 6.152402  "
      ]
     },
     "metadata": {},
     "output_type": "display_data"
    }
   ],
   "source": [
    "summary(truedf[,-1]) "
   ]
  },
  {
   "cell_type": "markdown",
   "metadata": {},
   "source": [
    "Data visualization:"
   ]
  },
  {
   "cell_type": "code",
   "execution_count": 24,
   "metadata": {},
   "outputs": [],
   "source": [
    "# libraries for visualization\n",
    "library(ggplot2)\n",
    "library(ggpubr)"
   ]
  },
  {
   "cell_type": "code",
   "execution_count": 25,
   "metadata": {},
   "outputs": [
    {
     "data": {
      "image/png": "[encoded data removed]",
      "text/plain": [
       "plot without title"
      ]
     },
     "metadata": {
      "image/png": {
       "height": 900,
       "width": 780
      }
     },
     "output_type": "display_data"
    }
   ],
   "source": [
    "pplot <- ggplot(truedf, aes(x = date)) + \n",
    "  geom_line(aes(y = p), size = 0.3, color = \"darkblue\") +\n",
    "  labs(title = \"Price\", \n",
    "    #subtitle = print(\"Total sample\"),\n",
    "    x = \"date\",\n",
    "    y = \"€\" )\n",
    "\n",
    "rplot <- ggplot(truedf, aes(x = date)) + \n",
    "  geom_line(aes(y = r), size = 0.3, color = \"darkred\") +\n",
    "  labs(title = \"Return\", \n",
    "    x = \"date\",\n",
    "    y = \"%\" )\n",
    "\n",
    "zplot <- ggplot(truedf, aes(x = date)) + \n",
    "  geom_line(aes(y = z), size = 0.3, color = \"darkgreen\") +\n",
    "  labs(title = \"Standardized return\", \n",
    "    #subtitle = print(\"Total sample\"),\n",
    "    x = \"date\",\n",
    "    y = \"%\" )\n",
    "\n",
    "options(repr.plot.width=13, repr.plot.height=15)\n",
    "figure <- ggarrange(pplot, rplot, zplot, \n",
    "                    ncol = 1, nrow = 3)\n",
    "\n",
    "annotate_figure(figure, top = text_grob(\"Simulated data\", color = \"black\", face = \"bold\", size = 18))  "
   ]
  },
  {
   "cell_type": "markdown",
   "metadata": {},
   "source": [
    "## 2. Maximum likelihood estimation\n",
    "Next, we estimate the parameters of the model by maximum likelihood (ML). The ML estimator of $\\theta$ is given by $$\\hat{\\theta} = \\arg \\max_{\\theta}(L_{z}(\\theta))= \\arg \\max_{\\theta} \\sum_{t=1}^{T}\\log(f(z_{t})),$$ where $f$ denotes the skewed-t density function of Hansen (1994).\n",
    "\n",
    "The following helper function called **GJRloglik** computes $L_{z}(\\theta)$. So that, our goal is to find the parameter set that maximizes the value of GJRloglik, given our data."
   ]
  },
  {
   "cell_type": "code",
   "execution_count": 26,
   "metadata": {},
   "outputs": [],
   "source": [
    "GJRloglik <- function(par, ret) {\n",
    "    # Mean: unconditional mean \n",
    "    # Errors distribution: skewed-t (Hansen, 1994)  \n",
    "    TT <- length(ret)\n",
    "    \n",
    "    # Starting values:\n",
    "    rbar <- mean(ret)\n",
    "    condVar <- matrix(rep(0,TT),TT)\n",
    "    epsi <- matrix(rep(0,TT),TT)\n",
    "    z <- matrix(rep(0,TT),TT)\n",
    "    condVar[1] <- mean((ret-rbar)^2)\n",
    "    epsi[1] <- sqrt(condVar[1])\n",
    "    z[1] <- 0\n",
    "  \n",
    "    # Unconditional mean:\n",
    "    mu <- par[1]\n",
    "  \n",
    "    # Conditional variance:\n",
    "    # sigma_{t}^2 = omega + beta*sigma_{t-1}^2 + alpha*epsilon_{t-1}^2 + gamma*epsilon{t-1}^2*ind{z_{t-1}<0}\n",
    "    b0 <- par[2] # omega\n",
    "    b1 <- par[3] # beta\n",
    "    b2 <- par[4] # alpha\n",
    "    b3 <- par[5] # gamma\n",
    "    \n",
    "    # GJR-GARCH(1,1) :\n",
    "    for (t in 2 : TT)  {\n",
    "      condVar[t] <-  b0 + b1*condVar[t-1] + b2*epsi[t-1]^2 + b3*min(epsi[t-1],0)^2 # GJR-GARCH(1,1) \n",
    "      z[t] <- (ret[t]-mu)/sqrt(condVar[t])   \n",
    "      epsi[t] <- z[t]*sqrt(condVar[t]) \n",
    "    }\n",
    "    sigmaPrime <- sqrt( b0 + b1*tail(condVar,1) + b2*tail(epsi,1)^2 + b3*min(tail(epsi,1),0)^2 )\n",
    "    \n",
    "    # Distribution parameters:\n",
    "    a <- tail(par,2) \n",
    "    nu <- a[1] # degrees of freedom\n",
    "    lambda <- a[2] # skewnes parameter\n",
    "   \n",
    "  \n",
    "    # Log-likelihood\n",
    "    logc <- lgamma((nu+1)/2) - lgamma(nu/2) - log(sqrt(pi*(nu-2))) \n",
    "    c = exp(logc) \n",
    "    a <- 4*lambda*c*((nu-2)/(nu-1))\n",
    "    logb <- 0.5*log(1 + 3*lambda^2 - a^2)\n",
    "    b <- exp(logb)\n",
    "    f1 <- which(z <  (-a/b))\n",
    "    f2 <- which(z >= (-a/b))\n",
    "    ll <- rep(NaN,length(z))\n",
    "    ll1 <- logb + logc - ((nu+1)/2)*log(1 + (1/(nu-2))*((b*z[f1]+a)/(1-lambda))^2 ) - 0.5*log(condVar[f1])\n",
    "    ll2 <- logb + logc - ((nu+1)/2)*log(1 + (1/(nu-2))*((b*z[f2]+a)/(1+lambda))^2 ) - 0.5*log(condVar[f2])\n",
    "    ll[f1] <- ll1\n",
    "    ll[f2] <- ll2 \n",
    "    LL <- -(sum(ll[2:length(ll)]))\n",
    "    \n",
    "  return(LL)\n",
    "}"
   ]
  },
  {
   "cell_type": "markdown",
   "metadata": {},
   "source": [
    "Estimation:"
   ]
  },
  {
   "cell_type": "code",
   "execution_count": 27,
   "metadata": {},
   "outputs": [],
   "source": [
    "# required library\n",
    "library(pracma)"
   ]
  },
  {
   "cell_type": "code",
   "execution_count": 28,
   "metadata": {},
   "outputs": [
    {
     "name": "stdout",
     "output_type": "stream",
     "text": [
      "        true MLestimate   s.e. p.value\n",
      "mu      0.07       0.05 0.0234  0.0304\n",
      "omega   0.03       0.06 0.0134  0.0000\n",
      "beta    0.94       0.92 0.0100  0.0000\n",
      "alpha   0.02       0.03 0.0102  0.0008\n",
      "gamma   0.08       0.06 0.0157  0.0000\n",
      "nu      3.50       3.65 0.2267  0.0000\n",
      "lambda -0.10      -0.14 0.0211  0.0000\n"
     ]
    }
   ],
   "source": [
    "# Initial values\n",
    "mu0 <- mean(truedf$r)\n",
    "omega0 <- 0.01 ; beta0 <- 0.9 ; alpha0 <- 0.01 ; gamma0 <- 0.01\n",
    "nu0 <- 4 ; lambda0 <- - 0.2\n",
    "par0 <- c(mu0, omega0, beta0, alpha0, gamma0, nu0, lambda0) \n",
    "\n",
    "# Model restrictions\n",
    "lb <- c(-100, rep(0.0001,3), -10, 2.01, -0.999) # lower bounds for GJR-GARCH(1,1) parameters: [mu, omega(>0), beta(>0), alpha(>0), gamma, nu(>2), lambda > -0.99]\n",
    "ub <- c(rep(100,6), 0.999)                     # upper bounds for GJR-GARCH(1,1) parameters: [mu, omega, beta, alpha, gamma, nu, lambda < 0.99]\n",
    "A  <- matrix(rbind(c(0, 0, 1, 1, 0.5, 0, 0), c(0, 0, 0, -1, -1, 0, 0)), 2)   # alpha + beta + 0.5*gamma < 1 and alpha + gamma > 0\n",
    "b  <- matrix(c(0.999, -0.001),2)    \n",
    "Aeq  <- NULL\n",
    "beq  <- NULL\n",
    "x1 <- fmincon(x0 = par0, \n",
    "            ret = truedf$r, \n",
    "            GJRloglik, # objective function (created previously as helper function)\n",
    "            ub=ub, lb=lb, \n",
    "            A=A, b=b, \n",
    "            Aeq=Aeq, beq=beq, tol=1e-05)\n",
    "par <- x1$par\n",
    "\n",
    "# Standard errors:\n",
    "hessianMatrix <- hessian(GJRloglik, x1$par, ret=truedf$r)\n",
    "se <- sqrt(diag(inv(hessianMatrix)))\n",
    "\n",
    "# p-values:\n",
    "tstat <- abs(par/se)\n",
    "pvalue <- 2*pt(tstat, df=T-1, lower.tail = FALSE) # Null: hat(par) = 0\n",
    "\n",
    "estdf <- data.frame(\"true\"=c(mu,omega,beta,alpha,gamma,nu,lambda), \n",
    "                    \"MLestimate\"=round(par,2),\n",
    "                    \"s.e.\"=round(se,4),\n",
    "                    \"p-value\"=round(pvalue,4),\n",
    "                   row.names = c('mu','omega','beta','alpha','gamma','nu','lambda'))\n",
    "\n",
    "print(estdf)"
   ]
  },
  {
   "cell_type": "markdown",
   "metadata": {},
   "source": [
    "Log-likelihood, AIC and BIC:"
   ]
  },
  {
   "cell_type": "code",
   "execution_count": 29,
   "metadata": {},
   "outputs": [
    {
     "name": "stdout",
     "output_type": "stream",
     "text": [
      "       LL       AIC       BIC \n",
      "-7337.983 14689.967 14734.025 \n"
     ]
    }
   ],
   "source": [
    "LogLik <- - x1$value \n",
    "AIC <- 2*length(par) - 2*LogLik \n",
    "BIC <- length(par)*log(T) - 2*LogLik \n",
    "print(c(\"LL\"=LogLik,\"AIC\"=AIC,\"BIC\"=BIC))"
   ]
  },
  {
   "cell_type": "markdown",
   "metadata": {},
   "source": [
    "### References\n",
    "- Hansen, B. (1994). Autoregressive Conditional Density Estimation. International Economic Review, 35(3), 705-730. doi:10.2307/2527081"
   ]
  }
 ],
 "metadata": {
  "kernelspec": {
   "display_name": "R",
   "language": "R",
   "name": "ir"
  },
  "language_info": {
   "codemirror_mode": "r",
   "file_extension": ".r",
   "mimetype": "text/x-r-source",
   "name": "R",
   "pygments_lexer": "r",
   "version": "4.1.2"
  }
 },
 "nbformat": 4,
 "nbformat_minor": 1
}
