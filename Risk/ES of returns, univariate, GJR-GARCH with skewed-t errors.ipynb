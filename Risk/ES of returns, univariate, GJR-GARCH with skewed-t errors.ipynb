{
 "cells": [
  {
   "cell_type": "markdown",
   "id": "bdb9b894",
   "metadata": {},
   "source": [
    "# Expected Shortfall (ES) of returns series and backtesting (univariate) \n",
    "I use a **GJR-GARCH** model with **skewed-t** errors to estimate one-day ahead ES of univariate return series. Then, I evaluate this risk measure according to backtesting techniques.\n",
    "\n",
    "## 1. Load and prepare the data"
   ]
  },
  {
   "cell_type": "code",
   "execution_count": 6,
   "id": "14aa3a15",
   "metadata": {},
   "outputs": [],
   "source": [
    "# libraires\n",
    "library(pracma)\n",
    "library(ggplot2)"
   ]
  },
  {
   "cell_type": "code",
   "execution_count": 2,
   "id": "6c9fbf4d",
   "metadata": {},
   "outputs": [
    {
     "data": {
      "text/html": [
       "<table class=\"dataframe\">\n",
       "<caption>A data.frame: 6 × 2</caption>\n",
       "<thead>\n",
       "\t<tr><th></th><th scope=col>date</th><th scope=col>ret</th></tr>\n",
       "\t<tr><th></th><th scope=col>&lt;date&gt;</th><th scope=col>&lt;dbl&gt;</th></tr>\n",
       "</thead>\n",
       "<tbody>\n",
       "\t<tr><th scope=row>1604</th><td>2022-06-01</td><td>-0.08738184</td></tr>\n",
       "\t<tr><th scope=row>1605</th><td>2022-06-02</td><td> 1.66715234</td></tr>\n",
       "\t<tr><th scope=row>1606</th><td>2022-06-03</td><td>-3.93185999</td></tr>\n",
       "\t<tr><th scope=row>1607</th><td>2022-06-06</td><td> 0.52140293</td></tr>\n",
       "\t<tr><th scope=row>1608</th><td>2022-06-07</td><td> 1.74330472</td></tr>\n",
       "\t<tr><th scope=row>1609</th><td>2022-06-08</td><td>-0.50560480</td></tr>\n",
       "</tbody>\n",
       "</table>\n"
      ],
      "text/latex": [
       "A data.frame: 6 × 2\n",
       "\\begin{tabular}{r|ll}\n",
       "  & date & ret\\\\\n",
       "  & <date> & <dbl>\\\\\n",
       "\\hline\n",
       "\t1604 & 2022-06-01 & -0.08738184\\\\\n",
       "\t1605 & 2022-06-02 &  1.66715234\\\\\n",
       "\t1606 & 2022-06-03 & -3.93185999\\\\\n",
       "\t1607 & 2022-06-06 &  0.52140293\\\\\n",
       "\t1608 & 2022-06-07 &  1.74330472\\\\\n",
       "\t1609 & 2022-06-08 & -0.50560480\\\\\n",
       "\\end{tabular}\n"
      ],
      "text/markdown": [
       "\n",
       "A data.frame: 6 × 2\n",
       "\n",
       "| <!--/--> | date &lt;date&gt; | ret &lt;dbl&gt; |\n",
       "|---|---|---|\n",
       "| 1604 | 2022-06-01 | -0.08738184 |\n",
       "| 1605 | 2022-06-02 |  1.66715234 |\n",
       "| 1606 | 2022-06-03 | -3.93185999 |\n",
       "| 1607 | 2022-06-06 |  0.52140293 |\n",
       "| 1608 | 2022-06-07 |  1.74330472 |\n",
       "| 1609 | 2022-06-08 | -0.50560480 |\n",
       "\n"
      ],
      "text/plain": [
       "     date       ret        \n",
       "1604 2022-06-01 -0.08738184\n",
       "1605 2022-06-02  1.66715234\n",
       "1606 2022-06-03 -3.93185999\n",
       "1607 2022-06-06  0.52140293\n",
       "1608 2022-06-07  1.74330472\n",
       "1609 2022-06-08 -0.50560480"
      ]
     },
     "metadata": {},
     "output_type": "display_data"
    }
   ],
   "source": [
    "stock <- \"AAPL\"\n",
    "\n",
    "t1 <- as.integer(ISOdate(2016,1,17,hour=0))\n",
    "t2 <- as.integer(ISOdate(2022,6,9,hour=0))\n",
    "\n",
    "url <- paste(\"https://query1.finance.yahoo.com/v7/finance/download/\",\n",
    "             stock,\n",
    "             \"?period1=\", \n",
    "             as.integer(t1),\n",
    "             \"&period2=\",\n",
    "             as.integer(t2),\n",
    "             \"&interval=1d&events=history&includeAdjustedClose=true\",\n",
    "             sep=\"\")\n",
    "\n",
    "# Downloading the .csv file:\n",
    "data <- read.csv(url)\n",
    "data['Date'] <- as.Date(data$Date)\n",
    "pricesdf <- data.frame(date=data$Date, price=data$Adj.Close)\n",
    "\n",
    "# Compute log-returns:\n",
    "genretdf <- function(pricesdf) {\n",
    "  prices <- data.matrix(pricesdf)\n",
    "  ret <- 100*(diff(log(prices[,2:ncol(prices)])))  \n",
    "  date <- as.Date(pricesdf$date[-1]) \n",
    "  retdf <- data.frame(date,ret)\n",
    "  return(retdf)\n",
    "  }\n",
    "\n",
    "retdf <- genretdf(pricesdf)\n",
    "tail(retdf)"
   ]
  },
  {
   "cell_type": "markdown",
   "id": "6bc07eed",
   "metadata": {},
   "source": [
    "## 2. ES (rolling window estimation)\n",
    "### 2.1. GJR-GARCH\n",
    "The most frequent procedure to estimate ES (and VaR) is to propose a parametric model, derive the ES (or VaR) implied by the parametric model, and then estimate the model parameters. In this exercise, I assume that returns $r_t$ follow a GJR-GARCH model with skewed-t errors, i.e., \n",
    "\\begin{eqnarray} \n",
    "r_{t} &=& \\mu + \\sigma_{t} z_{t}\\\\ \n",
    "\\sigma_{t}^2 &=&  \\omega + \\beta  \\sigma_{t-1}^2 + \\alpha (\\sigma_{t-1} z_{t-1})^2 + \\gamma (\\sigma_{t-1} z_{t-1})^2 I_{\\{z_{t-1}<0\\}}\n",
    "\\end{eqnarray} where  \n",
    "- $z_{t}$ is an i.i.d. random variable that follows a skewed-t of Hansen (1994) distribution, with degrees of freedom and asymmetry parameters  denoted by $2<\\nu<\\infty$ and $-1<\\lambda<1$, respectively.\n",
    "- $\\mu$ denotes de unconditional mean.\n",
    "- $\\sigma_{t}^2$ corresponds to the conditional variance which describes a GJR-GARCH model.\n",
    "- $I$ is an indicator function that takes the value of 1 if the inequality is satisfied and 0 otherwise.\n",
    "- Positiveness restrictions: $\\omega>0$, $\\alpha\\geq 0$, $\\alpha+\\gamma>0$ and $\\beta\\geq 0$. \n",
    "- Stationarity restriction:  $\\alpha+\\frac{1}{2}\\gamma+\\beta<1$.\n",
    "\n",
    "There are 7 parameters to be estimated, e.g., $\\theta:=(\\mu, \\omega, \\beta, \\alpha, \\gamma,\\nu,\\lambda)$.\n",
    "\n",
    "### 2.2. ES (closed formula)\n",
    "For a given $\\alpha\\in(0,1)$, the $\\alpha$-level ES at time $t$ is defined as:\n",
    "\\begin{equation} \n",
    "ES_t(\\alpha)=\\mathbb{E}\\left(r_t|r_t\\leq\\text{VaR}_{t}(\\alpha)\\right), \\\\\n",
    "\\end{equation}\n",
    "where $\\text{VaR}_{t}(\\alpha)$ denotes the value-at-risk (e.g., $\\alpha$-quantile) of returns series at time $t$.\n",
    "\n",
    "In this particular case, given that returns are defined as above, the analytical expression to obtain $\\text{ES}_{t}(\\alpha)$ is given by: \n",
    "\\begin{equation} \n",
    "\\text{ES}_t(\\alpha)= \\mu + \\sigma_t  ES_{Z}(\\alpha) ,\n",
    "\\end{equation} \n",
    "\n",
    "where\n",
    "\n",
    "\\begin{equation}\n",
    "ES_{Z}(\\alpha) = \\frac{ES_{Y}(\\alpha) - m_y}{v_{Y^{1/2}}}\n",
    "\\end{equation}\n",
    "\n",
    "where\n",
    "\n",
    "\\begin{equation}\n",
    "m_y = \\frac{2\\lambda\\sqrt{\\nu}\\hspace{0.1cm}\\Gamma(\\frac{\\nu-1}{2})}{\\sqrt{\\pi}\\hspace{0.1cm}\\Gamma(\\frac{\\nu}{2})}, \n",
    "\\end{equation}\n",
    "\n",
    "\\begin{equation}\n",
    "v_y = \\frac{4\\nu\\left(\\left(1-\\frac{1-\\lambda}{2}\\right)^3+\\left(\\frac{1-\\lambda}{2}\\right)^3\\right)}{\\nu-2} - m_Y^2, \n",
    "\\end{equation}\n",
    "\n",
    "and\n",
    "\n",
    "\\begin{equation}\n",
    "\\text{ES}_{Y}(\\alpha)=\\left\\{ \\begin{array}{l}\n",
    "-\\frac{\\nu}{\\alpha (\\nu-1)}\\left(1-\\lambda \\right)^{2}f_{\\nu}\\left(F_{\\nu}^{-1}\\left(\\frac{\\alpha}{1-\\lambda}\\right)\\right)\\left(1+\\frac{F_{\\nu}^{-1}\\left(\\frac{\\alpha }{1-\\lambda}\\right)^{2}}{\\nu}\\right) \\text{ if }\\alpha \\leq \\frac{1-\\lambda}{2},  \\\\  \n",
    "-\\frac{4}{\\alpha}\\frac{\\nu}{\\nu-1}\\left( \\left(1-\\frac{1-\\lambda}{2}\\right)^2 f_\\nu\\left(F_\\nu^{-1}\\left(\\frac{1-\\alpha}{1+\\lambda}\\right)\\right)\\left(1+\\frac{F_\\nu^{-1}\\left(\\frac{1-\\alpha}{1+\\lambda}\\right)^2}{\\nu}\\right) - \\lambda f_\\nu(0)\\right) \\text{ if }\\alpha > \\frac{1-\\lambda}{2},\n",
    "\\end{array}\n",
    "\\right.\n",
    "\\end{equation}\n",
    "\n",
    "\n"
   ]
  },
  {
   "cell_type": "markdown",
   "id": "0c066a94",
   "metadata": {},
   "source": [
    "Some required helper functions:\n",
    "\n",
    "* `skewtinv(p,nu,lambda)` computes $z=F^{-1}(p|\\nu,\\lambda)$, given $p,\\nu,\\lambda$.\n",
    "* `ESz(alpha,nu,lambda)` computes $ES_z(\\alpha)$, given $p,\\nu,\\lambda$.\n",
    "* `GJRloglik(par, ret)` computes $-L_{z}(\\theta)= -\\sum_{t=1}^{T}\\log(f(z_{t}))$, given par$:=\\theta$ and ret$:=\\{r_{t}\\}_{t=1}^T$. The minus symbol is because we estimate parameters, $\\theta$, by maximizing this likelihood, however, the optimizer that we use here, `fmincon`, is able to minimize functions only. So that, that minus symbol transform our maximization problem into a minimization one.\n",
    "* `GJRout(par, ret)` computes $-L_{z}(\\theta)$, $\\{\\log(f(z_{t})\\}_{t=1}^T$, $\\{z_{t}\\}_{t=1}^T$, $\\{\\sigma^2_t\\}_{t=1}^T$ and $\\sigma_{t+1}$, given par$:=\\theta$ and ret$:=\\{r_{t}\\}_{t=1}^T$.\n",
    "* `skewtpdf(x, nu, lambda)` computes the skewed-t *pdf*, e.g., $f(x|\\nu,\\lambda)$, given $x,\\nu,\\lambda$.\n",
    "* `skewtcdf(x, nu, lambda)` computes the skewed-t *cdf*, e.g., $F(x|\\nu,\\lambda)$, given $x,\\nu,\\lambda$."
   ]
  },
  {
   "cell_type": "code",
   "execution_count": 3,
   "id": "3f05f5f2",
   "metadata": {},
   "outputs": [],
   "source": [
    "skewtinv <- function(p, nu, lambda) {\n",
    "# USAGE:\n",
    "#   X=skewtinv(P,V,LAMBDA)\n",
    " \n",
    "# INPUTS:\n",
    "#   P      - Values to be inverted, P in [0,1]\n",
    "#   nu     - kurtosis parameter\n",
    "#   lambda - skewness parameter \n",
    "     \n",
    "# OUTPUTS:\n",
    "#   X      - Skewed T distributed random variables corresponding to P\n",
    "\n",
    "# COMMENTS:\n",
    "#   nu > 2\n",
    "#   -.99 < lambda < .99  \n",
    "    \n",
    "# REFERENCE:\n",
    "#   [1] Hansen (1994), Intl.Econ.Rev. (35)\n",
    "\n",
    "c <- gamma((nu+1)/2)/(sqrt(pi*(nu-2))*gamma(nu/2))\n",
    "a <- 4*lambda*c*((nu-2)/(nu-1))\n",
    "b <- sqrt(1 + 3*lambda^2 - a^2)\n",
    "  \n",
    "f1 <- which(p <  (1-lambda)/2)\n",
    "f2 <- which(p >= (1-lambda)/2)\n",
    "\n",
    "inv1 <- ((1-lambda)/b)*sqrt((nu-2)/nu)*qt(p[f1]/(1-lambda),nu) - a/b\n",
    "inv2 <- ((1+lambda)/b)*sqrt((nu-2)/nu)*qt(0.5+1/(1+lambda)*(p[f2]-(1-lambda)/2),nu) - a/b\n",
    "\n",
    "x <- rep(NaN,length(p))\n",
    "x[f1] <- inv1\n",
    "x[f2] <- inv2\n",
    "return(x) \n",
    "}\n",
    "\n",
    "ESz <- function(alpha, nu, lambda) {\n",
    "    mY <- (2*lambda*sqrt(nu)*gamma((nu-1)/2))/(sqrt(pi)*gamma(nu/2))\n",
    "    vY <- (4*nu*((1-(1-lambda)/2)^3 + ((1-lambda)/2)^3))/(nu-2) - mY^2\n",
    "  if (alpha <= (1-lambda)/2) {\n",
    "    ESy <- -nu/(alpha*(nu-1))*(1-lambda)^2*dt(qt((alpha/(1-lambda)),nu),nu)*(1+(qt((alpha/(1-lambda)),nu))^2/nu)\n",
    "            } else {\n",
    "    ESy <- -(4/alpha)*(nu/(nu-1))*((1-(1-lambda)/2)^2*dt(qt(((1-alpha)/(1+lambda)),nu),nu)*(1+(qt((1-alpha)/(1+lambda),nu))^2/nu)-lambda*dt(0,nu))\n",
    "  }\n",
    "    ESz <- (ESy-mY)/sqrt(vY)\n",
    "  return(ESz) \n",
    "}\n",
    "\n",
    "GJRloglik <- function(par, ret) {\n",
    "    # Mean: unconditional mean \n",
    "    # Errors distribution: skewed-t (Hansen, 1994)  \n",
    "    TT <- length(ret)\n",
    "    \n",
    "    # Starting values:\n",
    "    rbar <- mean(ret)\n",
    "    condVar <- matrix(rep(0,TT),TT)\n",
    "    epsi <- matrix(rep(0,TT),TT)\n",
    "    z <- matrix(rep(0,TT),TT)\n",
    "    condVar[1] <- mean((ret-rbar)^2)\n",
    "    epsi[1] <- sqrt(condVar[1])\n",
    "    z[1] <- 0\n",
    "  \n",
    "    # Unconditional mean:\n",
    "    mu <- par[1]\n",
    "  \n",
    "    # Conditional variance:\n",
    "    # sigma_{t}^2 = omega + beta*sigma_{t-1}^2 + alpha*epsilon_{t-1}^2 + gamma*epsilon{t-1}^2*ind{z_{t-1}<0}\n",
    "    b0 <- par[2] # omega\n",
    "    b1 <- par[3] # beta\n",
    "    b2 <- par[4] # alpha\n",
    "    b3 <- par[5] # gamma\n",
    "    \n",
    "    # GJR-GARCH(1,1) :\n",
    "    for (t in 2 : TT)  {\n",
    "      condVar[t] <-  b0 + b1*condVar[t-1] + b2*epsi[t-1]^2 + b3*min(epsi[t-1],0)^2 # GJR-GARCH(1,1) \n",
    "      z[t] <- (ret[t]-mu)/sqrt(condVar[t])   \n",
    "      epsi[t] <- z[t]*sqrt(condVar[t]) \n",
    "    }\n",
    "    sigmaPrime <- sqrt( b0 + b1*tail(condVar,1) + b2*tail(epsi,1)^2 + b3*min(tail(epsi,1),0)^2 )\n",
    "    \n",
    "    # Distribution parameters:\n",
    "    a <- tail(par,2) \n",
    "    nu <- a[1] # degrees of freedom\n",
    "    lambda <- a[2] # skewnes parameter\n",
    "   \n",
    "  \n",
    "    # Log-likelihood\n",
    "    logc <- lgamma((nu+1)/2) - lgamma(nu/2) - log(sqrt(pi*(nu-2))) \n",
    "    c = exp(logc) \n",
    "    a <- 4*lambda*c*((nu-2)/(nu-1))\n",
    "    logb <- 0.5*log(1 + 3*lambda^2 - a^2)\n",
    "    b <- exp(logb)\n",
    "    f1 <- which(z <  (-a/b))\n",
    "    f2 <- which(z >= (-a/b))\n",
    "    ll <- rep(NaN,length(z))\n",
    "    ll1 <- logb + logc - ((nu+1)/2)*log(1 + (1/(nu-2))*((b*z[f1]+a)/(1-lambda))^2 ) - 0.5*log(condVar[f1])\n",
    "    ll2 <- logb + logc - ((nu+1)/2)*log(1 + (1/(nu-2))*((b*z[f2]+a)/(1+lambda))^2 ) - 0.5*log(condVar[f2])\n",
    "    ll[f1] <- ll1\n",
    "    ll[f2] <- ll2 \n",
    "    LL <- -(sum(ll[2:length(ll)]))\n",
    "    \n",
    "  return(LL)\n",
    "}\n",
    "\n",
    "GJRout <- function(par, ret) {\n",
    "    # Mean: unconditional mean \n",
    "    TT <- length(ret)\n",
    "\n",
    "    # Starting values:\n",
    "    rbar <- mean(ret)\n",
    "    condVar <- matrix(rep(0,TT),TT)\n",
    "    epsi <- matrix(rep(0,TT),TT)\n",
    "    z <- matrix(rep(0,TT),TT)\n",
    "    condVar[1] <- mean((ret-rbar)^2)\n",
    "    epsi[1] <- sqrt(condVar[1])\n",
    "    z[1] <- 1\n",
    "\n",
    "    # Unconditional mean:\n",
    "    mu <- par[1]\n",
    "\n",
    "    # sigma_{t}^2 = omega + beta*sigma_{t-1}^2 + alpha*epsilon_{t-1}^2 + gamma*epsilon{t-1}^2*ind{z_{t-1}<0}\n",
    "    b0 <- par[2] # omega\n",
    "    b1 <- par[3] # beta\n",
    "    b2 <- par[4] # alpha\n",
    "    b3 <- par[5] # gamma\n",
    "  \n",
    "    # GJR-GARCH(1,1) :\n",
    "    for (t in 2 : TT)  {\n",
    "      condVar[t] <-  b0 + b1*condVar[t-1] + b2*epsi[t-1]^2 + b3*min(epsi[t-1],0)^2 # GJR-GARCH(1,1) \n",
    "      z[t] <- (ret[t]-mu)/sqrt(condVar[t])   \n",
    "      epsi[t] <- z[t]*sqrt(condVar[t]) \n",
    "    }\n",
    "    sigmaPrime <- sqrt( b0 + b1*tail(condVar,1) + b2*tail(epsi,1)^2 + b3*min(tail(epsi,1),0)^2 )\n",
    "  \n",
    "\n",
    "    # shape parameters:\n",
    "    a <- tail(par,2) \n",
    "    nu <- a[1] # degrees of freedom\n",
    "    lambda <- a[2] # skewnes parameter\n",
    "  \n",
    "\n",
    "    # Log-likelihood\n",
    "    logc <- lgamma((nu+1)/2) - lgamma(nu/2) - log(sqrt(pi*(nu-2))) \n",
    "    c = exp(logc) \n",
    "    a <- 4*lambda*c*((nu-2)/(nu-1))\n",
    "    logb <- 0.5*log(1 + 3*lambda^2 - a^2)\n",
    "    b <- exp(logb)\n",
    "    f1 <- which(z <  (-a/b))\n",
    "    f2 <- which(z >= (-a/b))\n",
    "    ll <- rep(NaN,length(z))\n",
    "    ll1 <- logb + logc - ((nu+1)/2)*log(1 + (1/(nu-2))*((b*z[f1]+a)/(1-lambda))^2 ) - 0.5*log(condVar[f1])\n",
    "    ll2 <- logb + logc - ((nu+1)/2)*log(1 + (1/(nu-2))*((b*z[f2]+a)/(1+lambda))^2 ) - 0.5*log(condVar[f2])\n",
    "    ll[f1] <- ll1\n",
    "    ll[f2] <- ll2 \n",
    "    LL <- -(sum(ll[2:length(ll)]))\n",
    " \n",
    "    result <- list(LL=LL,ll=ll,z=z,condVar=condVar, sigmaPrime=sigmaPrime)\n",
    "    return(result)\n",
    "}\n",
    "\n",
    "skewtpdf <- function(x, nu, lambda) {\n",
    "  # Compute the Hansen's skewed-t PDF (equation 10 in the paper). \n",
    "  \n",
    "  # COMMENTS:\n",
    "  #   nu > 2\n",
    "  #   -.99 < lambda < .99  \n",
    "  \n",
    "  # REFERENCE:\n",
    "  #   [1] Hansen (1994), Intl.Econ.Rev. (35)\n",
    "  \n",
    "  c <- gamma((nu+1)/2)/(sqrt(pi*(nu-2))*gamma(nu/2))\n",
    "  a <- 4*lambda*c*((nu-2)/(nu-1))\n",
    "  b <- sqrt(1 + 3*lambda^2 - a^2)\n",
    "  \n",
    "  f1 <- which(x <  -a/b)\n",
    "  f2 <- which(x >= -a/b)\n",
    "  \n",
    "  y1 <- 1 + (1/(nu-2))*((b*x[f1]+a)/(1-lambda))^2\n",
    "  y2 <- 1 + (1/(nu-2))*((b*x[f2]+a)/(1+lambda))^2\n",
    "  \n",
    "  density = rep(NaN,length(x))\n",
    "  density[f1] <- b*c*y1^(-(nu+1)/2) \n",
    "  density[f2] <- b*c*y2^(-(nu+1)/2) \n",
    " \n",
    "  return(density) \n",
    "}\n",
    "\n",
    "skewtcdf <- function(x, nu, lambda) {\n",
    "  # Compute the Hansen's skewed-t CDF\n",
    "  # USAGE:\n",
    "  #   P = skewtcdf(X,NU,LAMBDA)\n",
    "  \n",
    "  # INPUTS:\n",
    "  #   X      - Standardized T random variables, either scalar or column vector\n",
    "  #   nu     - kurtosis parameter\n",
    "  #   lambda - skewness parameter \n",
    "  \n",
    "  # OUTPUTS:\n",
    "  #   P      - Cumulative distribution evaluated at x\n",
    "  \n",
    "  # COMMENTS:\n",
    "  #   nu > 2\n",
    "  #   -.99 < lambda < .99  \n",
    "  \n",
    "  # REFERENCE:\n",
    "  #   [1] Hansen (1994), Intl.Econ.Rev. (35)\n",
    "  \n",
    "  c <- gamma((nu+1)/2)/(sqrt(pi*(nu-2))*gamma(nu/2))\n",
    "  a <- 4*lambda*c*((nu-2)/(nu-1))\n",
    "  b <- sqrt(1 + 3*lambda^2 - a^2)\n",
    "  \n",
    "  f1 <- which(x <  -a/b)\n",
    "  f2 <- which(x >= -a/b)\n",
    "  \n",
    "  y1 <- (b*x+a)/(1-lambda)*sqrt(nu/(nu-2))  \n",
    "  y2 <- (b*x+a)/(1+lambda)*sqrt(nu/(nu-2)) \n",
    "  \n",
    "  p = rep(NaN,length(x))\n",
    "  p[f1] <- (1-lambda)*pt(y1[f1], nu, lower.tail = TRUE, log.p = FALSE)\n",
    "  p[f2] <- ((1-lambda)/2  + (1+lambda)*(pt(y2[f2], nu, lower.tail = TRUE, log.p = FALSE)-0.5))\n",
    " \n",
    "  return(p) \n",
    "}"
   ]
  },
  {
   "cell_type": "markdown",
   "id": "ce64378f",
   "metadata": {},
   "source": [
    "### Rolling window estimation:\n",
    "* **In sample:** first $T_0$ observations.\n",
    "* **Out-of-sample:** last $T-T_0$ observations."
   ]
  },
  {
   "cell_type": "code",
   "execution_count": 4,
   "id": "3259d733",
   "metadata": {},
   "outputs": [],
   "source": [
    "# settings\n",
    "T0 <- 1000 # in-sample size (estimation window)\n",
    "alpha <- 0.05 # coverage level for VaR and ES"
   ]
  },
  {
   "cell_type": "code",
   "execution_count": 7,
   "id": "67903bc7",
   "metadata": {},
   "outputs": [],
   "source": [
    "# rolling window estimation\n",
    "TT <- nrow(retdf)\n",
    "OOS <- TT-T0 \n",
    "par <- matrix(rep(NaN,7*OOS),OOS) # I will store here the estimated paremeters of each estimation window\n",
    "sigmaprime <- NULL # I will store here one-day-ahead standard deviation of returns\n",
    "ES <- NULL\n",
    "\n",
    "# these VaR estimates are required for the Kratz backtest for N=4:\n",
    "alphaj_4 <- c(alpha, (3/4)*alpha, (1/2)*alpha, (1/4)*alpha) # alpha1, alpha2, alpha3, alpha4\n",
    "VaR1_4 <- NULL; VaR2_4 <- NULL; VaR3_4 <- NULL; VaR4_4 <- NULL\n",
    "# these VaR estimates are required for the Kratz backtest for N=8:\n",
    "alphaj_8 <- c(alpha, (7/8)*alpha, (6/8)*alpha, (5/8)*alpha, (4/8)*alpha, (3/8)*alpha, (2/8)*alpha, (1/8)*alpha) # alpha1, alpha2, alpha3, alpha4,  alpha5, alpha6, alpha7, alpha8\n",
    "VaR1_8 <- NULL; VaR2_8 <- NULL; VaR3_8 <- NULL; VaR4_8 <- NULL; VaR5_8 <- NULL; VaR6_8 <- NULL; VaR7_8 <- NULL; VaR8_8 <- NULL\n",
    "\n",
    "# Optimization restrictions:\n",
    "lb <- c(-100, rep(0.001,3), -1 ,  2.01, -0.999)  \n",
    "ub <- c(rep(100,6), 0.999)                    \n",
    "A  <- matrix(rbind(c(0, 0, 1, 1, 0.5, 0, 0), c(0, 0, 0, -1, -1, 0, 0)), 2)  \n",
    "b  <- matrix(c(0.999, -0.001),2)    \n",
    "Aeq  <- NULL\n",
    "beq  <- NULL\n",
    "  \n",
    "# Rolling  window loop:\n",
    "t <- 1\n",
    "while (t <= OOS) { \n",
    "    tt <- t+T0-1\n",
    "    ret <- retdf[t:tt,\"ret\"]\n",
    "    mu0 <- mean(ret)\n",
    "    omega0 <- 0.01 ; beta0 <- 0.8 ; alpha0 <- 0.08 ; gamma0 <- 0.09\n",
    "    nu0 <- 4 ; lambda0 <- - 0.2\n",
    "    x0 <- c(mu0, omega0, beta0, alpha0, gamma0, nu0, lambda0) \n",
    "    x1 <- fmincon(x0 = x0, \n",
    "                  ret = ret, \n",
    "                  GJRloglik, # objective function\n",
    "                  ub=ub, lb=lb, \n",
    "                  A=A, b=b, \n",
    "                  Aeq=Aeq, beq=beq, tol=1e-04)\n",
    "    par0 <- x1$par  \n",
    "    par[t,] <- par0  \n",
    "    out <- GJRout(par=as.numeric(par0), ret=ret) \n",
    "    sigmaprime <- rbind(sigmaprime, out$sigmaPrime)\n",
    "    # ES closed formula:\n",
    "    ES0 <- par0[1] + tail(sigmaprime,1)*ESz(alpha,par0[6],par0[7])\n",
    "    ES <- rbind(ES,ES0)\n",
    "    # ES approximation N=4:\n",
    "    VaR10 <- par0[1] + tail(sigmaprime,1)*skewtinv(alphaj_4[1],par0[6],par0[7])\n",
    "    VaR1_4 <- rbind(VaR1_4, VaR10)\n",
    "    VaR20 <- par0[1] + tail(sigmaprime,1)*skewtinv(alphaj_4[2],par0[6],par0[7])\n",
    "    VaR2_4 <- rbind(VaR2_4, VaR20)\n",
    "    VaR30 <- par0[1] + tail(sigmaprime,1)*skewtinv(alphaj_4[3],par0[6],par0[7])\n",
    "    VaR3_4 <- rbind(VaR3_4, VaR30)\n",
    "    VaR40 <- par0[1] + tail(sigmaprime,1)*skewtinv(alphaj_4[4],par0[6],par0[7])\n",
    "    VaR4_4 <- rbind(VaR4_4, VaR40)\n",
    "    # ES approximation N=8:\n",
    "    VaR10 <- par0[1] + tail(sigmaprime,1)*skewtinv(alphaj_8[1],par0[6],par0[7])\n",
    "    VaR1_8 <- rbind(VaR1_8, VaR10)\n",
    "    VaR20 <- par0[1] + tail(sigmaprime,1)*skewtinv(alphaj_8[2],par0[6],par0[7])\n",
    "    VaR2_8 <- rbind(VaR2_8, VaR20)\n",
    "    VaR30 <- par0[1] + tail(sigmaprime,1)*skewtinv(alphaj_8[3],par0[6],par0[7])\n",
    "    VaR3_8 <- rbind(VaR3_8, VaR30)\n",
    "    VaR40 <- par0[1] + tail(sigmaprime,1)*skewtinv(alphaj_8[4],par0[6],par0[7])\n",
    "    VaR4_8 <- rbind(VaR4_8, VaR40) \n",
    "    VaR50 <- par0[1] + tail(sigmaprime,1)*skewtinv(alphaj_8[5],par0[6],par0[7])\n",
    "    VaR5_8 <- rbind(VaR5_8, VaR50)\n",
    "    VaR60 <- par0[1] + tail(sigmaprime,1)*skewtinv(alphaj_8[6],par0[6],par0[7])\n",
    "    VaR6_8 <- rbind(VaR6_8, VaR60)\n",
    "    VaR70 <- par0[1] + tail(sigmaprime,1)*skewtinv(alphaj_8[7],par0[6],par0[7])\n",
    "    VaR7_8 <- rbind(VaR7_8, VaR70)\n",
    "    VaR80 <- par0[1] + tail(sigmaprime,1)*skewtinv(alphaj_8[8],par0[6],par0[7])\n",
    "    VaR8_8 <- rbind(VaR8_8, VaR80)\n",
    "    t <- t + 1     \n",
    "}\n",
    "\n",
    "Date <- retdf$date\n",
    "Date <- subset(retdf$date, (retdf$date >= as.Date(Date[T0+1])))\n",
    "   \n",
    "pardf <-  data.frame(Date,par)\n",
    "colnames(pardf) <- c(\"date\",\"mu\",\"omega\",\"beta\",\"alpha\",\"gamma\",\"nu\",\"lambda\")\n",
    "\n",
    "VaRdf_N4 <- data.frame(Date,\"ret\"=subset(retdf$ret, (retdf$date >= as.Date(retdf$date[T0+1]))),VaR1_4,VaR2_4,VaR3_4,VaR4_4)\n",
    "VaRdf_N8 <- data.frame(Date,\"ret\"=subset(retdf$ret, (retdf$date >= as.Date(retdf$date[T0+1]))),VaR1_8,VaR2_8,VaR3_8,VaR4_8,VaR5_8,VaR6_8,VaR7_8,VaR8_8)"
   ]
  },
  {
   "cell_type": "markdown",
   "id": "86bd3cbd",
   "metadata": {},
   "source": [
    "## 3. Visualization"
   ]
  },
  {
   "cell_type": "code",
   "execution_count": 8,
   "id": "fa5944f2",
   "metadata": {},
   "outputs": [
    {
     "data": {
      "text/html": [
       "<table class=\"dataframe\">\n",
       "<caption>A data.frame: 6 × 3</caption>\n",
       "<thead>\n",
       "\t<tr><th></th><th scope=col>Date</th><th scope=col>ret</th><th scope=col>ES</th></tr>\n",
       "\t<tr><th></th><th scope=col>&lt;date&gt;</th><th scope=col>&lt;dbl&gt;</th><th scope=col>&lt;dbl&gt;</th></tr>\n",
       "</thead>\n",
       "<tbody>\n",
       "\t<tr><th scope=row>1</th><td>2020-01-09</td><td> 2.1018227</td><td>-2.317778</td></tr>\n",
       "\t<tr><th scope=row>2</th><td>2020-01-10</td><td> 0.2258343</td><td>-2.290272</td></tr>\n",
       "\t<tr><th scope=row>3</th><td>2020-01-13</td><td> 2.1139345</td><td>-2.216309</td></tr>\n",
       "\t<tr><th scope=row>4</th><td>2020-01-14</td><td>-1.3595398</td><td>-2.199167</td></tr>\n",
       "\t<tr><th scope=row>5</th><td>2020-01-15</td><td>-0.4294526</td><td>-2.663928</td></tr>\n",
       "\t<tr><th scope=row>6</th><td>2020-01-16</td><td> 1.2448519</td><td>-2.603364</td></tr>\n",
       "</tbody>\n",
       "</table>\n"
      ],
      "text/latex": [
       "A data.frame: 6 × 3\n",
       "\\begin{tabular}{r|lll}\n",
       "  & Date & ret & ES\\\\\n",
       "  & <date> & <dbl> & <dbl>\\\\\n",
       "\\hline\n",
       "\t1 & 2020-01-09 &  2.1018227 & -2.317778\\\\\n",
       "\t2 & 2020-01-10 &  0.2258343 & -2.290272\\\\\n",
       "\t3 & 2020-01-13 &  2.1139345 & -2.216309\\\\\n",
       "\t4 & 2020-01-14 & -1.3595398 & -2.199167\\\\\n",
       "\t5 & 2020-01-15 & -0.4294526 & -2.663928\\\\\n",
       "\t6 & 2020-01-16 &  1.2448519 & -2.603364\\\\\n",
       "\\end{tabular}\n"
      ],
      "text/markdown": [
       "\n",
       "A data.frame: 6 × 3\n",
       "\n",
       "| <!--/--> | Date &lt;date&gt; | ret &lt;dbl&gt; | ES &lt;dbl&gt; |\n",
       "|---|---|---|---|\n",
       "| 1 | 2020-01-09 |  2.1018227 | -2.317778 |\n",
       "| 2 | 2020-01-10 |  0.2258343 | -2.290272 |\n",
       "| 3 | 2020-01-13 |  2.1139345 | -2.216309 |\n",
       "| 4 | 2020-01-14 | -1.3595398 | -2.199167 |\n",
       "| 5 | 2020-01-15 | -0.4294526 | -2.663928 |\n",
       "| 6 | 2020-01-16 |  1.2448519 | -2.603364 |\n",
       "\n"
      ],
      "text/plain": [
       "  Date       ret        ES       \n",
       "1 2020-01-09  2.1018227 -2.317778\n",
       "2 2020-01-10  0.2258343 -2.290272\n",
       "3 2020-01-13  2.1139345 -2.216309\n",
       "4 2020-01-14 -1.3595398 -2.199167\n",
       "5 2020-01-15 -0.4294526 -2.663928\n",
       "6 2020-01-16  1.2448519 -2.603364"
      ]
     },
     "metadata": {},
     "output_type": "display_data"
    }
   ],
   "source": [
    "OOSdf <- data.frame(Date,\"ret\"=subset(retdf$ret, (retdf$date >= as.Date(retdf$date[T0+1]))),ES)\n",
    "rownames(OOSdf) <- NULL\n",
    "head(OOSdf)"
   ]
  },
  {
   "cell_type": "code",
   "execution_count": 10,
   "id": "94e2dcce",
   "metadata": {},
   "outputs": [
    {
     "data": {
      "image/png": "[encoded data removed]",
      "text/plain": [
       "plot without title"
      ]
     },
     "metadata": {
      "image/png": {
       "height": 540,
       "width": 900
      }
     },
     "output_type": "display_data"
    }
   ],
   "source": [
    "labels <- c(\"returns\" = \"black\",\"ES (closed formula)\" = \"green\")\n",
    "ffigure <- ggplot(OOSdf, aes(x = Date)) +\n",
    "  geom_line(aes(y = ret, color=\"returns\"), linetype = \"solid\", size = 0.8) +\n",
    "  geom_line(aes(y = ES, color=\"ES (closed formula)\"), linetype = \"solid\", size = 1) +\n",
    "  labs(title = \"Out of sample returns and ES estimates\",\n",
    "       subtitle = paste0(\"Coverage level: \", alpha),\n",
    "       #caption = \" \",\n",
    "       color = \"Series\",\n",
    "       x = \"date\",\n",
    "       y = \"returns, ES\") +\n",
    "  scale_color_manual(values = labels)\n",
    "options(repr.plot.width=15, repr.plot.height=9)\n",
    "ffigure +  theme_bw(base_line_size = 0.1)"
   ]
  },
  {
   "cell_type": "markdown",
   "id": "87322b4e",
   "metadata": {},
   "source": [
    "## 4. Backtesting\n",
    "### 4.1.  Unconditional test of Du & Escanciano (2017)"
   ]
  },
  {
   "cell_type": "markdown",
   "id": "5dd29571",
   "metadata": {},
   "source": [
    "Du and Escanciano's Expected Shortfall backtests are based on cumulative hits. Let $u_t\\equiv F(z_t)$, then, the cumulative hit is defined as \\begin{eqnarray}\n",
    "H_t(\\alpha)&=&\\int_{0}^{\\alpha}h_t(u)du\\\\\n",
    "H_t(\\alpha)&=& \\frac{1}{\\alpha}(\\alpha-u_t)\\mathbb{I}(u_t<\\alpha),\n",
    "\\end{eqnarray}\n",
    " \n",
    "Since $h_t(u)$ has mean $u$, by Fubini's theorem, $H_t(\\alpha)$ has mean $\\frac{\\alpha}{2}$. The unconditional backtest for ES is a t-test for the null hypothesis $\\mathbb{E}(H_t(\\alpha)) = \\frac{\\alpha}{2}$ and is the analogue for ES of the unconditional VaR backtest proposed in Kupiec (1995).\n",
    "\n",
    "The t-test statistic is \\begin{equation} \n",
    "U_{ES}=\\frac{\\sqrt{n}(\\overline{H}(\\alpha)-\\alpha/2)}{\\sqrt{\\alpha(1/3 - \\alpha/4)}},\n",
    "\\end{equation}\n",
    "\n",
    "where \n",
    "- $n$ is the number of out-of-sample observations \n",
    "- $\\overline{H}(\\alpha)=\\frac{1}{n}\\sum_{t=1}^n \\hat{H}_t(\\alpha)$ \n",
    "- $\\hat{H}_t(\\alpha)=\\frac{1}{\\alpha}(\\alpha-\\hat{u}_t)\\mathbb{I}(\\hat{u}_t<\\alpha)$.\n",
    "\n",
    "If the estimation period (**in-sample** lenght) is **larger than** the evaluation period (**out-of-sample** lenght), then $U_{ES}\\overset{d}{\\sim}N(0,1)$. So that, the null hypothesis of a correctly specified model is rejected at the 5% significance level if the absolute value of the test statistic is greater than 1.96."
   ]
  },
  {
   "cell_type": "code",
   "execution_count": 11,
   "id": "9caa04c9",
   "metadata": {},
   "outputs": [
    {
     "name": "stdout",
     "output_type": "stream",
     "text": [
      "  statistic p.value reject_H0\n",
      "1    1.5221   0.128     FALSE\n"
     ]
    }
   ],
   "source": [
    "# Unconditional test of Du & Escanciano (2017)\n",
    "# H0: the model is correctly specified\n",
    "zt <- (OOSdf$ret - pardf[,\"mu\"])/sigmaprime  \n",
    "ut <- NULL\n",
    "for (i in 1:OOS){\n",
    "    ut <- rbind(ut,skewtcdf(zt[i],pardf[i,\"nu\"],pardf[i,\"lambda\"]))\n",
    "}\n",
    "hit <- OOSdf$ret < OOSdf$VaR  \n",
    "Hit <- (1/alpha)*(alpha-ut)*(ut<alpha)\n",
    "Hbar <- mean(Hit)\n",
    "Ues <- (sqrt(OOS)*(Hbar-alpha/2))/(sqrt(alpha*(1/3-alpha/4)))\n",
    "pval <- 2*pnorm(-abs(Ues))\n",
    "print(data.frame(\"statistic\"=round(Ues,4),\"p-value\"=round(pval,4),\"reject_H0\"=abs(Ues)>1.96))"
   ]
  },
  {
   "cell_type": "markdown",
   "id": "c1d50253",
   "metadata": {},
   "source": [
    "We do not reject the null hypothesis that the model is correctly specified with a significance level of 5%."
   ]
  },
  {
   "cell_type": "markdown",
   "id": "68b36835",
   "metadata": {},
   "source": [
    "### 4.2. Kratz et al. (2018)\n",
    "Define $\\alpha_j$ by $$\\alpha_j = \\alpha - \\frac{j-1}{N}\\alpha,\\hspace{0.2cm} j=1,...,N, \\hspace{0.2cm} N\\in\\mathbb{N},$$ for some $\\alpha$, with $\\alpha_0=1$ and $\\alpha_{N+1}=0$.\n",
    "\n",
    "The idea of a multilevel VaR backtest serving as an implicit backtest of expected shortfall stems naturally from an approximation of ES proposed by Emmer et al. (2015). These authors show that $$ES_t(\\alpha) \\approx \\frac{1}{N}\\left(VaR_t(\\alpha_1) + ... + VaR_t(\\alpha_N) \\right)$$\n",
    "\n",
    "Define the hit indicator of level $\\alpha_j$ at time $t$ by $I_{t,j}=\\mathbb{I}_{\\{r_t<VaR_t(\\alpha_j)\\}}$, where $\\mathbb{I}_{A}$ denotes an event indicator for event $A$. Testing simultaneously VaR estimates at $N$ levels leads to a multinomial distribution. Define $X_t=\\sum_{j=1}^{N}I_{t,j}$, then the sequence $(X_t)_{t=1,...,n}$ counts the number of VaR levels that are breached. The sequence $(X_t)$ should satisfy two conditions:\n",
    "* The unconditional coverage hipothesis, $P(X_j\\leq j) = 1-\\alpha_j,\\hspace{0.2cm} j=0,...,N,\\hspace{0.2cm} \\text{for all } t$.\n",
    "* The independence hypothesis, $X_t$ is independent of $X_s$ for $s\\neq t$.\n",
    "\n",
    "Define the cell counts by \\begin{equation} O_j = \\sum_{t=1}^{n}\\mathbb{I}_{\\{X_t=j\\}}, \\hspace{0.2cm} j=0,1,...,N.\n",
    "\\end{equation}\n",
    "\n",
    "The random vector $(O_0,...,O_N)$ should follow the multinomial distribution $$(O_0,...,O_N) \\sim MN(n,(\\alpha_0-\\alpha_1,...,\\alpha_N-\\alpha_{N+1})),$$ where $n$ is the number of trials or experiments that we realize (the out-of-sample size in our case). More formally, let $1=\\theta_0<\\theta_1<...<\\theta_N<\\theta_{N+1}=0$ be an arbitrary sequence of parameters and consider the model $(O_0,...,O_N) \\sim MN(n,(\\theta_0-\\theta_1,...,\\theta_N-\\theta_{N+1}))$. We test the null and alternative hypotheses given by \\begin{eqnarray} H_0 &:& \\theta_j = \\alpha_j \\hspace{0.2cm} \\text{for} \\hspace{0.2cm} j=1,...,N\\\\\n",
    "H_1 &:& \\theta_j \\neq \\alpha_j \\hspace{0.2cm} \\text{for at least one }j\\in\\{1,...,N\\}\\end{eqnarray}\n",
    "\n",
    "According to Kratz et al. (2018), three test statistics can be used to evaluate these hypotheses. The test statistic used here is $$\\overset{\\sim}{S}_N = 2 \\sum_{j:0\\leq j\\leq N,O_j\\neq 0} O_j \\log\\left( \\frac{O_j}{n(\\alpha_j-\\alpha_{j+1})} \\right)\\overset{d}{\\sim} \\chi^2_N$$\n",
    "\n",
    "The null hypothesis is rejected when $\\overset{\\sim}{S}_N>\\chi^2_N$. Under the null hypothesis our estimated model of returns satisfy the unconditional coverage hypothesis and the independence hypothesis, what means that our Expected Shortfall is well estimated."
   ]
  },
  {
   "cell_type": "markdown",
   "id": "7d6b25a2",
   "metadata": {},
   "source": [
    "### N=4"
   ]
  },
  {
   "cell_type": "code",
   "execution_count": null,
   "id": "34f9204e",
   "metadata": {},
   "outputs": [],
   "source": [
    "# Kratz et al. (2018) for N=4\n",
    "O0 <- sum(OOSdf$ret > VaRdf_N4$VaR1_4)\n",
    "O1 <- sum(OOSdf$ret < VaRdf_N4$VaR1_4 & OOSdf$ret > VaRdf_N4$VaR2_4)\n",
    "O2 <- sum(OOSdf$ret < VaRdf_N4$VaR2_4 & OOSdf$ret > VaRdf_N4$VaR3_4)\n",
    "O3 <- sum(OOSdf$ret < VaRdf_N4$VaR3_4 & OOSdf$ret > VaRdf_N4$VaR4_4)\n",
    "O4 <- sum(OOSdf$ret < VaRdf_N4$VaR4_4)\n",
    " \n",
    "S4 <- 2 * (O0*log(O0/(OOS*(1-alphaj_4[1]))) + \n",
    "           O1*log(O1/(OOS*(alphaj_4[1]-alphaj_4[2]))) + \n",
    "           O2*log(O2/(OOS*(alphaj_4[2]-alphaj_4[3]))) +\n",
    "           O3*log(O3/(OOS*(alphaj_4[3]-alphaj_4[4]))) +\n",
    "           O4*log(O4/(OOS*(alphaj_4[4]-0)))\n",
    "          )\n",
    " \n",
    "pval <- 1-pchisq(S4,4)\n",
    "\n",
    "print(data.frame(\"statistic\"=round(S4,4),\"p-value\"=round(pval,4),\"reject_H0\"=S4>qchisq(0.95,4)))"
   ]
  },
  {
   "cell_type": "markdown",
   "id": "af013a76",
   "metadata": {},
   "source": [
    "We do not reject the null hypothesis that the model is correctly specified with a significance level of 5%."
   ]
  },
  {
   "cell_type": "code",
   "execution_count": 16,
   "id": "bbe859cd",
   "metadata": {},
   "outputs": [
    {
     "name": "stdout",
     "output_type": "stream",
     "text": [
      "  alpha_j alpha_j_hat\n",
      "1  0.0500      0.0673\n",
      "2  0.0375      0.0493\n",
      "3  0.0250      0.0312\n",
      "4  0.0125      0.0164\n"
     ]
    }
   ],
   "source": [
    "print(round(data.frame(\"alpha_j\"=alphaj_4,\"alpha_j_hat\"=c((OOS-O0)/OOS,(OOS-O0-O1)/OOS,(OOS-O0-O1-O2)/OOS,(OOS-O0-O1-O2-O3)/OOS)),4))"
   ]
  },
  {
   "cell_type": "markdown",
   "id": "b84ee20c",
   "metadata": {},
   "source": [
    "### N=8"
   ]
  },
  {
   "cell_type": "code",
   "execution_count": 17,
   "id": "2bd63d12",
   "metadata": {},
   "outputs": [
    {
     "name": "stdout",
     "output_type": "stream",
     "text": [
      "  statistic p.value reject_H0\n",
      "1    7.3445     0.5     FALSE\n"
     ]
    }
   ],
   "source": [
    "# Kratz et al. (2018) for N=8\n",
    "O0 <- sum(OOSdf$ret > VaRdf_N8$VaR1_8)\n",
    "O1 <- sum(OOSdf$ret < VaRdf_N8$VaR1_8 & OOSdf$ret > VaRdf_N8$VaR2_8)\n",
    "O2 <- sum(OOSdf$ret < VaRdf_N8$VaR2_8 & OOSdf$ret > VaRdf_N8$VaR3_8)\n",
    "O3 <- sum(OOSdf$ret < VaRdf_N8$VaR3_8 & OOSdf$ret > VaRdf_N8$VaR4_8)\n",
    "O4 <- sum(OOSdf$ret < VaRdf_N8$VaR4_8 & OOSdf$ret > VaRdf_N8$VaR5_8)\n",
    "O5 <- sum(OOSdf$ret < VaRdf_N8$VaR5_8 & OOSdf$ret > VaRdf_N8$VaR6_8)\n",
    "O6 <- sum(OOSdf$ret < VaRdf_N8$VaR6_8 & OOSdf$ret > VaRdf_N8$VaR7_8)\n",
    "O7 <- sum(OOSdf$ret < VaRdf_N8$VaR7_8 & OOSdf$ret > VaRdf_N8$VaR8_8)\n",
    "O8 <- sum(OOSdf$ret < VaRdf_N8$VaR8_8)\n",
    " \n",
    "S8 <- 2 * (O0*log(O0/(OOS*(1-alphaj_8[1]))) + \n",
    "           O1*log(O1/(OOS*(alphaj_8[1]-alphaj_8[2]))) + \n",
    "           O2*log(O2/(OOS*(alphaj_8[2]-alphaj_8[3]))) +\n",
    "           O3*log(O3/(OOS*(alphaj_8[3]-alphaj_8[4]))) +\n",
    "           O4*log(O4/(OOS*(alphaj_8[4]-alphaj_8[5]))) +\n",
    "           O5*log(O5/(OOS*(alphaj_8[5]-alphaj_8[6]))) +\n",
    "           O6*log(O6/(OOS*(alphaj_8[6]-alphaj_8[7]))) +\n",
    "           O7*log(O7/(OOS*(alphaj_8[7]-alphaj_8[8]))) +\n",
    "           O8*log(O8/(OOS*(alphaj_8[8]-0)))\n",
    "          )\n",
    " \n",
    "pval <- 1-pchisq(S8,8)\n",
    "\n",
    "print(data.frame(\"statistic\"=round(S8,4),\"p-value\"=round(pval,4),\"reject_H0\"=S8>qchisq(0.95,8)))"
   ]
  },
  {
   "cell_type": "markdown",
   "id": "ea4ed848",
   "metadata": {},
   "source": [
    "We do not reject the null hypothesis that the model is correctly specified with a significance level of 5%."
   ]
  },
  {
   "cell_type": "code",
   "execution_count": 18,
   "id": "1cee7496",
   "metadata": {},
   "outputs": [
    {
     "name": "stdout",
     "output_type": "stream",
     "text": [
      "  alpha_j alpha_j_hat\n",
      "1  0.0500      0.0673\n",
      "2  0.0438      0.0591\n",
      "3  0.0375      0.0493\n",
      "4  0.0312      0.0427\n",
      "5  0.0250      0.0312\n",
      "6  0.0188      0.0263\n",
      "7  0.0125      0.0164\n",
      "8  0.0063      0.0049\n"
     ]
    }
   ],
   "source": [
    "print(round(data.frame(\"alpha_j\"=alphaj_8,\n",
    "                       \"alpha_j_hat\"=c((OOS-O0)/OOS,(OOS-O0-O1)/OOS,(OOS-O0-O1-O2)/OOS,(OOS-O0-O1-O2-O3)/OOS,\n",
    "                                       (OOS-O0-O1-O2-O3-O4)/OOS,(OOS-O0-O1-O2-O3-O4-O5)/OOS, (OOS-O0-O1-O2-O3-O4-O5-O6)/OOS,\n",
    "                                       (OOS-O0-O1-O2-O3-O4-O5-O6-O7)/OOS)),4))"
   ]
  },
  {
   "cell_type": "code",
   "execution_count": 20,
   "id": "19969db9",
   "metadata": {},
   "outputs": [
    {
     "data": {
      "image/png": "[encoded data removed]",
      "text/plain": [
       "plot without title"
      ]
     },
     "metadata": {
      "image/png": {
       "height": 540,
       "width": 900
      }
     },
     "output_type": "display_data"
    }
   ],
   "source": [
    "# Approximated ES of Kratz et al. (2018) vs ES of closed formula:\n",
    "ESkratz4 <- (1/4)*(VaRdf_N4$VaR1_4 + VaRdf_N4$VaR2_4 + VaRdf_N4$VaR3_4 + VaRdf_N4$VaR4_4) # equation (1.1) in Kratz (2018), for N=4\n",
    "ESkratz8 <- (1/8)*(VaRdf_N8$VaR1_8 + VaRdf_N8$VaR2_8 + VaRdf_N8$VaR3_8 + VaRdf_N8$VaR4_8 + VaRdf_N8$VaR5_8 + VaRdf_N8$VaR6_8 + VaRdf_N8$VaR7_8 + VaRdf_N8$VaR8_8) # equation (1.1) in Kratz (2018), for N=4\n",
    "\n",
    "ESdf <- data.frame(Date,\"ret\"=subset(retdf$ret, (retdf$date >= as.Date(retdf$date[T0+1]))),ESkratz4,ESkratz8,ES)\n",
    "labels <- c(\"returns\" = \"black\",\"ES closed formula\"=\"green\",\"ES Kratz (N=4)\"=\"red\", \"ES Kratz (N=8)\"=\"blue\")\n",
    "ffigure <- ggplot(ESdf, aes(x = Date)) +\n",
    "  geom_line(aes(y = ret, color=\"returns\"), linetype = \"solid\", size = 0.8) +\n",
    "  geom_line(aes(y = ES, color=\"ES closed formula\"), linetype = \"solid\", size = 1) +\n",
    "  geom_line(aes(y = ESkratz4, color=\"ES Kratz (N=4)\"), linetype = \"solid\", size = 1) +  \n",
    "  geom_line(aes(y = ESkratz8, color=\"ES Kratz (N=8)\"), linetype = \"solid\", size = 1) + \n",
    "  labs(title = \"Out of sample returns and ES estimates\",\n",
    "       subtitle = paste0(\"Coverage level for ES: \", alpha),\n",
    "       #caption = \" \",\n",
    "       color = \"Series\",\n",
    "       x = \"date\",\n",
    "       y = \"returns, ES\") +\n",
    "  scale_color_manual(values = labels)\n",
    "options(repr.plot.width=15, repr.plot.height=9)\n",
    "ffigure +  theme_bw(base_line_size = 0.1)    "
   ]
  },
  {
   "cell_type": "markdown",
   "id": "6f148777",
   "metadata": {},
   "source": [
    "Notice that the ES approximation with $N=8$ is better (e.g., closer to the closed formula ES) than the one with $N=4$."
   ]
  },
  {
   "cell_type": "markdown",
   "id": "a1d5efb9",
   "metadata": {},
   "source": [
    " "
   ]
  },
  {
   "cell_type": "markdown",
   "id": "69b29662",
   "metadata": {},
   "source": [
    "**References:**\n",
    "*  Du, Z. and Escanciano, J.C. (2017). \"Backtesting Expected Shortfall: Accounting for Tail Risk\", Management Science, Vol. 63, No. 4, 940-958.\n",
    "* Emmer, S. , Kratz, M. , Tasche, D. (2015). \"What is the best risk measure in practice?\", J. Risk 18, 31–60 .\n",
    "* Hansen, B. E. (1994). “Autoregressive conditional density estimation,” International Economic Review, 705–730.\n",
    "* Kratz, M., Lok, Y.H. and McNeil, A.J. (2018). \"Multinomial VaR backtests: A simple implicit approach to backtesting expected shortfall\" Journal of Banking and Finance, 88, 393-407.\n",
    "* Kupiec, P. H. (1995). “Techniques for Verifying the Accuracy of Risk Measurement Models”, The Journal of Derivatives, 3, 73–84."
   ]
  }
 ],
 "metadata": {
  "kernelspec": {
   "display_name": "R",
   "language": "R",
   "name": "ir"
  },
  "language_info": {
   "codemirror_mode": "r",
   "file_extension": ".r",
   "mimetype": "text/x-r-source",
   "name": "R",
   "pygments_lexer": "r",
   "version": "4.1.2"
  }
 },
 "nbformat": 4,
 "nbformat_minor": 5
}
