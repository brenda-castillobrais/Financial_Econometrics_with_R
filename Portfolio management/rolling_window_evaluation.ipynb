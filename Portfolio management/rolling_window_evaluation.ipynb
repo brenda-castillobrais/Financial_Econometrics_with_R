{
 "cells": [
  {
   "cell_type": "code",
   "execution_count": 29,
   "id": "b7190ed7-26ed-4e62-8b81-adc798d688ae",
   "metadata": {},
   "outputs": [],
   "source": [
    "# Libraries\n",
    "library(pracma)\n",
    "library(VineCopula)\n",
    "library(ggplot2)"
   ]
  },
  {
   "cell_type": "code",
   "execution_count": 30,
   "id": "51c495b8-f7c0-4dea-ba2b-304fec5504da",
   "metadata": {},
   "outputs": [],
   "source": [
    "# Settings:\n",
    "freq <- \"Monthly\"\n",
    "freq1 <- 20 # weights rebalancing frequency: monthly (every 20 days)\n",
    "d <- 6 # portfolio dimension (number of stocks)\n",
    "T0 <- 1000 # in-sample size\n",
    "alpha = 0.05 # coverage level for expected shortfall\n",
    "N = 100000 # Number of simulated samples to solve portfolio optimizaion problem"
   ]
  },
  {
   "cell_type": "markdown",
   "id": "7cb91cd5-57d0-4f9e-98a5-36517eee36a8",
   "metadata": {},
   "source": [
    "## 1. Load and merge the data"
   ]
  },
  {
   "cell_type": "code",
   "execution_count": 31,
   "id": "16e2fe2c-2d8c-4133-8f05-8c4165fd6111",
   "metadata": {},
   "outputs": [
    {
     "data": {
      "text/html": [
       "<table class=\"dataframe\">\n",
       "<caption>A data.frame: 6 × 7</caption>\n",
       "<thead>\n",
       "\t<tr><th></th><th scope=col>date</th><th scope=col>AAPL</th><th scope=col>AMZN</th><th scope=col>MSFT</th><th scope=col>GOOGL</th><th scope=col>BRK.A</th><th scope=col>JPM</th></tr>\n",
       "\t<tr><th></th><th scope=col>&lt;date&gt;</th><th scope=col>&lt;dbl&gt;</th><th scope=col>&lt;dbl&gt;</th><th scope=col>&lt;dbl&gt;</th><th scope=col>&lt;dbl&gt;</th><th scope=col>&lt;dbl&gt;</th><th scope=col>&lt;dbl&gt;</th></tr>\n",
       "</thead>\n",
       "<tbody>\n",
       "\t<tr><th scope=row>1</th><td>2016-01-04</td><td>24.15150</td><td>31.8495</td><td>49.26915</td><td>37.9720</td><td>196295</td><td>53.08822</td></tr>\n",
       "\t<tr><th scope=row>2</th><td>2016-01-05</td><td>23.54628</td><td>31.6895</td><td>49.49391</td><td>38.0765</td><td>197000</td><td>53.18002</td></tr>\n",
       "\t<tr><th scope=row>3</th><td>2016-01-06</td><td>23.08548</td><td>31.6325</td><td>48.59485</td><td>37.9665</td><td>197415</td><td>52.41232</td></tr>\n",
       "\t<tr><th scope=row>4</th><td>2016-01-07</td><td>22.11117</td><td>30.3970</td><td>46.90459</td><td>37.0500</td><td>195580</td><td>50.29279</td></tr>\n",
       "\t<tr><th scope=row>5</th><td>2016-01-08</td><td>22.22809</td><td>30.3525</td><td>47.04845</td><td>36.5455</td><td>193900</td><td>49.16627</td></tr>\n",
       "\t<tr><th scope=row>6</th><td>2016-01-11</td><td>22.58801</td><td>30.8870</td><td>47.02147</td><td>36.6535</td><td>193060</td><td>49.09118</td></tr>\n",
       "</tbody>\n",
       "</table>\n"
      ],
      "text/latex": [
       "A data.frame: 6 × 7\n",
       "\\begin{tabular}{r|lllllll}\n",
       "  & date & AAPL & AMZN & MSFT & GOOGL & BRK.A & JPM\\\\\n",
       "  & <date> & <dbl> & <dbl> & <dbl> & <dbl> & <dbl> & <dbl>\\\\\n",
       "\\hline\n",
       "\t1 & 2016-01-04 & 24.15150 & 31.8495 & 49.26915 & 37.9720 & 196295 & 53.08822\\\\\n",
       "\t2 & 2016-01-05 & 23.54628 & 31.6895 & 49.49391 & 38.0765 & 197000 & 53.18002\\\\\n",
       "\t3 & 2016-01-06 & 23.08548 & 31.6325 & 48.59485 & 37.9665 & 197415 & 52.41232\\\\\n",
       "\t4 & 2016-01-07 & 22.11117 & 30.3970 & 46.90459 & 37.0500 & 195580 & 50.29279\\\\\n",
       "\t5 & 2016-01-08 & 22.22809 & 30.3525 & 47.04845 & 36.5455 & 193900 & 49.16627\\\\\n",
       "\t6 & 2016-01-11 & 22.58801 & 30.8870 & 47.02147 & 36.6535 & 193060 & 49.09118\\\\\n",
       "\\end{tabular}\n"
      ],
      "text/markdown": [
       "\n",
       "A data.frame: 6 × 7\n",
       "\n",
       "| <!--/--> | date &lt;date&gt; | AAPL &lt;dbl&gt; | AMZN &lt;dbl&gt; | MSFT &lt;dbl&gt; | GOOGL &lt;dbl&gt; | BRK.A &lt;dbl&gt; | JPM &lt;dbl&gt; |\n",
       "|---|---|---|---|---|---|---|---|\n",
       "| 1 | 2016-01-04 | 24.15150 | 31.8495 | 49.26915 | 37.9720 | 196295 | 53.08822 |\n",
       "| 2 | 2016-01-05 | 23.54628 | 31.6895 | 49.49391 | 38.0765 | 197000 | 53.18002 |\n",
       "| 3 | 2016-01-06 | 23.08548 | 31.6325 | 48.59485 | 37.9665 | 197415 | 52.41232 |\n",
       "| 4 | 2016-01-07 | 22.11117 | 30.3970 | 46.90459 | 37.0500 | 195580 | 50.29279 |\n",
       "| 5 | 2016-01-08 | 22.22809 | 30.3525 | 47.04845 | 36.5455 | 193900 | 49.16627 |\n",
       "| 6 | 2016-01-11 | 22.58801 | 30.8870 | 47.02147 | 36.6535 | 193060 | 49.09118 |\n",
       "\n"
      ],
      "text/plain": [
       "  date       AAPL     AMZN    MSFT     GOOGL   BRK.A  JPM     \n",
       "1 2016-01-04 24.15150 31.8495 49.26915 37.9720 196295 53.08822\n",
       "2 2016-01-05 23.54628 31.6895 49.49391 38.0765 197000 53.18002\n",
       "3 2016-01-06 23.08548 31.6325 48.59485 37.9665 197415 52.41232\n",
       "4 2016-01-07 22.11117 30.3970 46.90459 37.0500 195580 50.29279\n",
       "5 2016-01-08 22.22809 30.3525 47.04845 36.5455 193900 49.16627\n",
       "6 2016-01-11 22.58801 30.8870 47.02147 36.6535 193060 49.09118"
      ]
     },
     "metadata": {},
     "output_type": "display_data"
    }
   ],
   "source": [
    "stocks <- c(\"AAPL\", \"AMZN\", \"MSFT\", \"GOOGL\", \"BRK-A\", \"JPM\")\n",
    "datalist <- list() \n",
    "t1 <- as.integer(ISOdate(2016,1,1,hour=0))\n",
    "t2 <- as.integer(ISOdate(2022,9,6,hour=0))\n",
    "\n",
    "for (stock in stocks) {\n",
    "    url <- paste(\"https://query1.finance.yahoo.com/v7/finance/download/\",\n",
    "                 stock,\n",
    "                 \"?period1=\",\n",
    "                 as.integer(t1),\n",
    "                 \"&period2=\",\n",
    "                 as.integer(t2),\n",
    "                 \"&interval=1d&events=history&includeAdjustedClose=true\",\n",
    "                 sep=\"\")\n",
    "    data <- read.csv(url)\n",
    "    data['Date'] <- as.Date(data$Date)    \n",
    "    datalist[[stock]] <- data.frame(date=data$Date,price=data$Adj.Close)\n",
    "}\n",
    "\n",
    "# Merge\n",
    "prices <- data.frame(datalist$AAPL)\n",
    "colnames(prices) <- c('date','AAPL')\n",
    "for (i in 2:length(datalist)) {\n",
    "    temp <- datalist[[i]]\n",
    "    colnames(temp) <- c('date', stocks[i])\n",
    "    prices <- merge(prices,temp,by=\"date\")\n",
    "}\n",
    "prices <- data.frame(prices)\n",
    "head(prices)"
   ]
  },
  {
   "cell_type": "markdown",
   "id": "fcb744a6-ad1c-46c7-b817-02a49eeb54ae",
   "metadata": {},
   "source": [
    "## 2. Generate log-returns"
   ]
  },
  {
   "cell_type": "code",
   "execution_count": 32,
   "id": "d647a1e8-91b7-4aae-8b43-50e455640626",
   "metadata": {},
   "outputs": [
    {
     "data": {
      "text/html": [
       "<table class=\"dataframe\">\n",
       "<caption>A data.frame: 6 × 7</caption>\n",
       "<thead>\n",
       "\t<tr><th></th><th scope=col>date</th><th scope=col>AAPL</th><th scope=col>AMZN</th><th scope=col>MSFT</th><th scope=col>GOOGL</th><th scope=col>BRK.A</th><th scope=col>JPM</th></tr>\n",
       "\t<tr><th></th><th scope=col>&lt;date&gt;</th><th scope=col>&lt;dbl&gt;</th><th scope=col>&lt;dbl&gt;</th><th scope=col>&lt;dbl&gt;</th><th scope=col>&lt;dbl&gt;</th><th scope=col>&lt;dbl&gt;</th><th scope=col>&lt;dbl&gt;</th></tr>\n",
       "</thead>\n",
       "<tbody>\n",
       "\t<tr><th scope=row>1</th><td>2016-01-05</td><td>-2.5378520</td><td>-0.50362874</td><td> 0.45516288</td><td> 0.2748248</td><td> 0.3585099</td><td> 0.1727647</td></tr>\n",
       "\t<tr><th scope=row>2</th><td>2016-01-06</td><td>-1.9763998</td><td>-0.18003542</td><td>-1.83320727</td><td>-0.2893128</td><td> 0.2104383</td><td>-1.4540951</td></tr>\n",
       "\t<tr><th scope=row>3</th><td>2016-01-07</td><td>-4.3121028</td><td>-3.98411866</td><td>-3.54020396</td><td>-2.4435841</td><td>-0.9338609</td><td>-4.1280028</td></tr>\n",
       "\t<tr><th scope=row>4</th><td>2016-01-08</td><td> 0.5274074</td><td>-0.14649671</td><td> 0.30622983</td><td>-1.3710210</td><td>-0.8626941</td><td>-2.2653867</td></tr>\n",
       "\t<tr><th scope=row>5</th><td>2016-01-11</td><td> 1.6062296</td><td> 1.74564316</td><td>-0.05735734</td><td> 0.2950807</td><td>-0.4341541</td><td>-0.1528475</td></tr>\n",
       "\t<tr><th scope=row>6</th><td>2016-01-12</td><td> 1.4408922</td><td> 0.02428559</td><td> 0.91360951</td><td> 1.6599241</td><td> 0.4857138</td><td> 0.2207226</td></tr>\n",
       "</tbody>\n",
       "</table>\n"
      ],
      "text/latex": [
       "A data.frame: 6 × 7\n",
       "\\begin{tabular}{r|lllllll}\n",
       "  & date & AAPL & AMZN & MSFT & GOOGL & BRK.A & JPM\\\\\n",
       "  & <date> & <dbl> & <dbl> & <dbl> & <dbl> & <dbl> & <dbl>\\\\\n",
       "\\hline\n",
       "\t1 & 2016-01-05 & -2.5378520 & -0.50362874 &  0.45516288 &  0.2748248 &  0.3585099 &  0.1727647\\\\\n",
       "\t2 & 2016-01-06 & -1.9763998 & -0.18003542 & -1.83320727 & -0.2893128 &  0.2104383 & -1.4540951\\\\\n",
       "\t3 & 2016-01-07 & -4.3121028 & -3.98411866 & -3.54020396 & -2.4435841 & -0.9338609 & -4.1280028\\\\\n",
       "\t4 & 2016-01-08 &  0.5274074 & -0.14649671 &  0.30622983 & -1.3710210 & -0.8626941 & -2.2653867\\\\\n",
       "\t5 & 2016-01-11 &  1.6062296 &  1.74564316 & -0.05735734 &  0.2950807 & -0.4341541 & -0.1528475\\\\\n",
       "\t6 & 2016-01-12 &  1.4408922 &  0.02428559 &  0.91360951 &  1.6599241 &  0.4857138 &  0.2207226\\\\\n",
       "\\end{tabular}\n"
      ],
      "text/markdown": [
       "\n",
       "A data.frame: 6 × 7\n",
       "\n",
       "| <!--/--> | date &lt;date&gt; | AAPL &lt;dbl&gt; | AMZN &lt;dbl&gt; | MSFT &lt;dbl&gt; | GOOGL &lt;dbl&gt; | BRK.A &lt;dbl&gt; | JPM &lt;dbl&gt; |\n",
       "|---|---|---|---|---|---|---|---|\n",
       "| 1 | 2016-01-05 | -2.5378520 | -0.50362874 |  0.45516288 |  0.2748248 |  0.3585099 |  0.1727647 |\n",
       "| 2 | 2016-01-06 | -1.9763998 | -0.18003542 | -1.83320727 | -0.2893128 |  0.2104383 | -1.4540951 |\n",
       "| 3 | 2016-01-07 | -4.3121028 | -3.98411866 | -3.54020396 | -2.4435841 | -0.9338609 | -4.1280028 |\n",
       "| 4 | 2016-01-08 |  0.5274074 | -0.14649671 |  0.30622983 | -1.3710210 | -0.8626941 | -2.2653867 |\n",
       "| 5 | 2016-01-11 |  1.6062296 |  1.74564316 | -0.05735734 |  0.2950807 | -0.4341541 | -0.1528475 |\n",
       "| 6 | 2016-01-12 |  1.4408922 |  0.02428559 |  0.91360951 |  1.6599241 |  0.4857138 |  0.2207226 |\n",
       "\n"
      ],
      "text/plain": [
       "  date       AAPL       AMZN        MSFT        GOOGL      BRK.A     \n",
       "1 2016-01-05 -2.5378520 -0.50362874  0.45516288  0.2748248  0.3585099\n",
       "2 2016-01-06 -1.9763998 -0.18003542 -1.83320727 -0.2893128  0.2104383\n",
       "3 2016-01-07 -4.3121028 -3.98411866 -3.54020396 -2.4435841 -0.9338609\n",
       "4 2016-01-08  0.5274074 -0.14649671  0.30622983 -1.3710210 -0.8626941\n",
       "5 2016-01-11  1.6062296  1.74564316 -0.05735734  0.2950807 -0.4341541\n",
       "6 2016-01-12  1.4408922  0.02428559  0.91360951  1.6599241  0.4857138\n",
       "  JPM       \n",
       "1  0.1727647\n",
       "2 -1.4540951\n",
       "3 -4.1280028\n",
       "4 -2.2653867\n",
       "5 -0.1528475\n",
       "6  0.2207226"
      ]
     },
     "metadata": {},
     "output_type": "display_data"
    }
   ],
   "source": [
    "genretdf <- function(pricesdf, nonans = TRUE) {\n",
    "  prices <- data.matrix(pricesdf)\n",
    "  ret <- 100*(diff(log(prices[,2:ncol(prices)])))  \n",
    "  TT <- nrow(ret)\n",
    "  pricesdf <- pricesdf[1:TT+1,]\n",
    "  date <- as.Date(pricesdf$date) \n",
    "  retdf <- data.frame(date,ret)\n",
    "  if (nonans==TRUE){\n",
    "    retdf <- na.omit(retdf) \n",
    "  }\n",
    "  return(retdf)\n",
    "}\n",
    "\n",
    "retdf <- genretdf(prices, nonans=TRUE)\n",
    "head(retdf)"
   ]
  },
  {
   "cell_type": "markdown",
   "id": "9a31b747-702a-4fd9-bbe5-bdba71882b18",
   "metadata": {},
   "source": [
    "## 3. Helper functions\n",
    "3.1. Log-Likelihood of the GJR-GARCH(1,1,1) with skewed-t errors. Required for maximum likelihood parameter estimation."
   ]
  },
  {
   "cell_type": "code",
   "execution_count": 33,
   "id": "3d1d5e24-8d0c-405a-a2bc-034a1ec42d0e",
   "metadata": {},
   "outputs": [],
   "source": [
    "# Likelihood of the GJR-GARCH(1,1,1) with skewed-t errors\n",
    "GJRGARCHloglik <- function(par, ret) {\n",
    "  # Mean: unconditional mean\n",
    "  # Error's distribution: skewed-t of Hansen (1994)  \n",
    "  TT <- length(ret)\n",
    "  \n",
    "  # Starting values:\n",
    "  rbar <- mean(ret)\n",
    "  condVar <- matrix(rep(0,TT),TT)\n",
    "  epsi <- matrix(rep(0,TT),TT)\n",
    "  z <- matrix(rep(0,TT),TT)\n",
    "  condVar[1] <- mean((ret-rbar)^2)\n",
    "  epsi[1] <- sqrt(condVar[1])\n",
    "  z[1] <- 1\n",
    "  \n",
    "  # Unconditional mean:\n",
    "  mu <- par[1]\n",
    "  \n",
    "  # Conditional variance:\n",
    "  # sigma_{t}^2 = omega + beta*sigma_{t-1}^2 + alpha*epsilon_{t-1}^2 + gamma*epsilon{t-1}^2*ind{z_{t-1}<0}\n",
    "  b0 <- par[2] # omega\n",
    "  b1 <- par[3] # beta\n",
    "  b2 <- par[4] # alpha\n",
    "  b3 <- par[5] # gamma\n",
    "    \n",
    "  # GJR-GARCH(1,1) :\n",
    "  for (t in 2 : TT)  {\n",
    "    condVar[t] <-  b0 + b1*condVar[t-1] + b2*epsi[t-1]^2 + b3*min(epsi[t-1],0)^2 # GJR-GARCH(1,1) \n",
    "    z[t] <- (ret[t]-mu)/sqrt(condVar[t])   \n",
    "    epsi[t] <- z[t]*sqrt(condVar[t]) \n",
    "  }\n",
    "  sigmaPrime <- sqrt( b0 + b1*tail(condVar,1) + b2*tail(epsi,1)^2 + b3*min(tail(epsi,1),0)^2 )\n",
    "\n",
    "  # Skewed-t shape parameters:\n",
    "  a <- tail(par,2) \n",
    "  nu <- a[1] # degrees of freedom\n",
    "  lambda <- a[2] # skewnes parameter\n",
    "  \n",
    "  # Log-likelihood\n",
    "  logc <- lgamma((nu+1)/2) - lgamma(nu/2) - log(sqrt(pi*(nu-2))) \n",
    "  c = exp(logc) \n",
    "  a <- 4*lambda*c*((nu-2)/(nu-1))\n",
    "  logb <- 0.5*log(1 + 3*lambda^2 - a^2)\n",
    "  b <- exp(logb)\n",
    "  f1 <- which(z <  (-a/b))\n",
    "  f2 <- which(z >= (-a/b))\n",
    "  ll <- rep(NaN,length(z))\n",
    "  ll1 <- logb + logc - ((nu+1)/2)*log(1 + (1/(nu-2))*((b*z[f1]+a)/(1-lambda))^2 ) - 0.5*log(condVar[f1])\n",
    "  ll2 <- logb + logc - ((nu+1)/2)*log(1 + (1/(nu-2))*((b*z[f2]+a)/(1+lambda))^2 ) - 0.5*log(condVar[f2])\n",
    "  ll[f1] <- ll1\n",
    "  ll[f2] <- ll2 \n",
    "  LL <- -sum(ll)\n",
    "  return(LL)\n",
    "}"
   ]
  },
  {
   "cell_type": "markdown",
   "id": "e7d7fe02-6c09-4ca3-8a38-45147d7f048b",
   "metadata": {},
   "source": [
    "3.2. Skewed-t CDF"
   ]
  },
  {
   "cell_type": "code",
   "execution_count": 34,
   "id": "05655966-d92e-47ba-82f4-eeb5fc35de2e",
   "metadata": {},
   "outputs": [],
   "source": [
    "# Skewed-t CDF\n",
    "skewtcdf <- function(x, nu, lambda) {\n",
    "  c <- gamma((nu+1)/2)/(sqrt(pi*(nu-2))*gamma(nu/2))\n",
    "  a <- 4*lambda*c*((nu-2)/(nu-1))\n",
    "  b <- sqrt(1 + 3*lambda^2 - a^2)\n",
    "  \n",
    "  f1 <- which(x <  -a/b)\n",
    "  f2 <- which(x >= -a/b)\n",
    "  \n",
    "  y1 <- (b*x+a)/(1-lambda)*sqrt(nu/(nu-2))  \n",
    "  y2 <- (b*x+a)/(1+lambda)*sqrt(nu/(nu-2)) \n",
    "  \n",
    "  p = rep(NaN,length(x))\n",
    "  p[f1] <- (1-lambda)*pt(y1[f1], nu, lower.tail = TRUE, log.p = FALSE)\n",
    "  p[f2] <- ((1-lambda)/2  + (1+lambda)*(pt(y2[f2], nu, lower.tail = TRUE, log.p = FALSE)-0.5))\n",
    "  \n",
    "  return(p) \n",
    "}"
   ]
  },
  {
   "cell_type": "markdown",
   "id": "756d0be3-5d25-4e96-a58d-5ba838a51e04",
   "metadata": {},
   "source": [
    "3.3. Inverse of the Skewed-t CDF"
   ]
  },
  {
   "cell_type": "code",
   "execution_count": 35,
   "id": "0187d889-4070-4809-b57f-903b88225e80",
   "metadata": {},
   "outputs": [],
   "source": [
    "skewtinv <- function(p, nu, lambda) {\n",
    "c <- gamma((nu+1)/2)/(sqrt(pi*(nu-2))*gamma(nu/2))\n",
    "a <- 4*lambda*c*((nu-2)/(nu-1))\n",
    "b <- sqrt(1 + 3*lambda^2 - a^2)\n",
    "  \n",
    "f1 <- which(p <  (1-lambda)/2)\n",
    "f2 <- which(p >= (1-lambda)/2)\n",
    "\n",
    "inv1 <- ((1-lambda)/b)*sqrt((nu-2)/nu)*qt(p[f1]/(1-lambda),nu) - a/b\n",
    "inv2 <- ((1+lambda)/b)*sqrt((nu-2)/nu)*qt(0.5+1/(1+lambda)*(p[f2]-(1-lambda)/2),nu) - a/b\n",
    "\n",
    "x <- rep(NaN,length(p))\n",
    "x[f1] <- inv1\n",
    "x[f2] <- inv2\n",
    "return(x) \n",
    "}"
   ]
  },
  {
   "cell_type": "markdown",
   "id": "d7ccf6ee-4d3b-4e65-b3ea-311134aa96fc",
   "metadata": {},
   "source": [
    "3.4. Function that computes GJR-GARCH(1,1,1) outputs: zdata, conditional variance, sigma prime"
   ]
  },
  {
   "cell_type": "code",
   "execution_count": 36,
   "id": "5b89c5d1-cfb1-4de1-bebc-2c8e64f0f196",
   "metadata": {},
   "outputs": [],
   "source": [
    "GJRGARCHoutputs <- function(par, ret) {\n",
    "  # Conditional volatility: GJR-GARCH(1,1,1)\n",
    "  # Mean: unconditional mean\n",
    "  # Error distribution: Skewed-t of Hansen (1994) \n",
    "  TT <- length(ret)\n",
    "  \n",
    "  # Starting values:\n",
    "  rbar <- mean(ret)\n",
    "  condVar <- matrix(rep(0,TT),TT)\n",
    "  epsi <- matrix(rep(0,TT),TT)\n",
    "  z <- matrix(rep(0,TT),TT)\n",
    "  condVar[1] <- mean((ret-rbar)^2)\n",
    "  epsi[1] <- sqrt(condVar[1])\n",
    "  z[1] <- 1\n",
    "  \n",
    "  # Unconditional mean:\n",
    "  mu <- par[1]\n",
    "  \n",
    "  # Conditional variance:\n",
    "  # sigma_{t}^2 = omega + beta*sigma_{t-1}^2 + alpha*epsilon_{t-1}^2 + gamma*epsilon{t-1}^2*ind{z_{t-1}<0}\n",
    "  b0 <- par[2] # omega\n",
    "  b1 <- par[3] # beta\n",
    "  b2 <- par[4] # alpha\n",
    "  b3 <- par[5] # gamma\n",
    "    \n",
    "  # GJR-GARCH(1,1) :\n",
    "  for (t in 2 : TT)  {\n",
    "  condVar[t] <-  b0 + b1*condVar[t-1] + b2*epsi[t-1]^2 + b3*min(epsi[t-1],0)^2 # GJR-GARCH(1,1) \n",
    "  z[t] <- (ret[t]-mu)/sqrt(condVar[t])   \n",
    "  epsi[t] <- z[t]*sqrt(condVar[t]) \n",
    "  }\n",
    "  sigmaPrime <- sqrt( b0 + b1*tail(condVar,1) + b2*tail(epsi,1)^2 + b3*min(tail(epsi,1),0)^2 )\n",
    " \n",
    "  # Distribution parameters:\n",
    "  a <- tail(par,2) \n",
    "  nu <- a[1] # degrees of freedom\n",
    "  lambda <- a[2] # skewnes parameter\n",
    "\n",
    "  # Output\n",
    "  out <- list(z=z,condVar=condVar,sigmaPrime=sigmaPrime)\n",
    "  return(out)\n",
    "}"
   ]
  },
  {
   "cell_type": "markdown",
   "id": "90872d6c-f84f-4bdf-bbc8-e5c97bd1537a",
   "metadata": {},
   "source": [
    "3.5. Objective function in the portfolio optimization problem"
   ]
  },
  {
   "cell_type": "code",
   "execution_count": 37,
   "id": "fb6694d9-5c2e-44cb-bee4-ae9ee7f492ca",
   "metadata": {},
   "outputs": [],
   "source": [
    "# Objective function (expected shortfall)\n",
    "ES_RockafellarUryasev2000 <- function(x0, rdata, alpha) {\n",
    "  m = ncol(rdata)\n",
    "  v = x0[1]\n",
    "  w = matrix(x0[1:m+1])\n",
    "  rp = t(w)%*%t(rdata)\n",
    "  di = pmax(0, v-rp)\n",
    "  ES = - (1/alpha)*mean(di) + v\n",
    "  ES = - ES\n",
    "  return(ES)\n",
    "}"
   ]
  },
  {
   "cell_type": "markdown",
   "id": "572c9e3b-25d9-4e6b-9e4e-0519de30d791",
   "metadata": {},
   "source": [
    "## 4. Rolling window estimation"
   ]
  },
  {
   "cell_type": "code",
   "execution_count": 38,
   "id": "264e1aab-d380-409e-8a65-b0a682279229",
   "metadata": {},
   "outputs": [],
   "source": [
    "# Settings\n",
    "TT <- nrow(retdf)\n",
    "OOS <- TT-T0 \n",
    "marginparnames <- c(\"mu\",\"omega\",\"beta\",\"alpha\",\"gamma\",\"nu\",\"lambda\")\n",
    "weights <- matrix(rep(NaN,d*OOS),OOS)\n",
    "colnames(weights) <- names(retdf[,2:ncol(retdf)])\n",
    "RealRet <- matrix(rep(NaN,OOS),OOS) # monthly rebalancing\n",
    "RealRet2 <- matrix(rep(NaN,OOS),OOS) # no rebalancing, use always the first optimal strategy \n",
    "EW_port <- matrix(rep(NaN,OOS),OOS) # equally-weighted\n",
    "equallyweights <- matrix(rep(1/d,d),1)"
   ]
  },
  {
   "cell_type": "code",
   "execution_count": 39,
   "id": "43203385-b9fb-4c34-bd4d-ba0b1ba9919c",
   "metadata": {},
   "outputs": [],
   "source": [
    "# Rolling  window loop:\n",
    "t <- 1\n",
    "while (t < OOS) {\n",
    "    tt <- t+T0-1\n",
    "    \n",
    "    # Margins\n",
    "    par1 <- NULL\n",
    "    for (i in names(retdf[,2:ncol(retdf)])){ \n",
    "      ret <- retdf[t:tt,i]\n",
    "      mu0 <- mean(ret)\n",
    "      omega0 <- 0.01 ; beta0 <- 0.87 ; alpha0 <- 0.08 ; gamma0 <- 0.09\n",
    "      nu0 <- 4 ; lambda0 <- - 0.2\n",
    "      par0 <- c(mu0, omega0, beta0, alpha0, gamma0, nu0, lambda0) \n",
    "\n",
    "      lb <- c(-100, rep(0.001,3), -1, 2.01, -0.99) # lower bounds for GARCH(1,1) parameters: [mu, omega(>0), beta(>0), alpha(>0), gamma(=>0), nu(>2), lambda > -0.99]\n",
    "      ub <- c(rep(100,6), 0.999)                      # upper bounds for GARCH(1,1) parameters: [mu, omega, beta, alpha, gamma, nu, lamnda < 0.99]\n",
    "      A  <- matrix(rbind(c(0, 0, 1, 1, 0.5, 0, 0), c(0, 0, 0, -1, -1, 0, 0)), 2)   # alpha + beta + 0.5*gamma < 1\n",
    "      b  <- matrix(c(0.999, -0.001),2)    \n",
    "      Aeq  <- NULL\n",
    "      beq  <- NULL\n",
    "      x1 <- fmincon(x0 = par0, \n",
    "                    ret = ret, \n",
    "                    GJRGARCHloglik, # objective function\n",
    "                    ub=ub, lb=lb, \n",
    "                    A=A, b=b, \n",
    "                    Aeq=Aeq, beq=beq, tol=1e-03)\n",
    "      par0 <- x1$par\n",
    "      par1 <- rbind(par1,par0)\n",
    "    }\n",
    "    rownames(par1) <- names(retdf[,2:ncol(retdf)])\n",
    "    colnames(par1) <- marginparnames\n",
    "    \n",
    "    # Copula\n",
    "    v <- list()\n",
    "    dd <- d + 1\n",
    "    for (i in names(retdf[,2:dd])){\n",
    "      ret <- as.matrix(retdf[t:tt,i])\n",
    "      out <- GJRGARCHoutputs(par=as.numeric(par0), ret=ret) \n",
    "      z <- as.matrix(out$z)\n",
    "      v[[i]] <- skewtcdf(z, as.numeric(par1[i,\"nu\"]), as.numeric(par1[i,\"lambda\"]))\n",
    "    }\n",
    "\n",
    "    vdata <- matrix(rep(NaN,d*nrow(retdf[t:tt,])), nrow(retdf[t:tt,]))\n",
    "    colnames(vdata) <- names(retdf[,2:dd]) \n",
    "    for (i in names(retdf[,2:dd])) {\n",
    "      vdata[,i] <- v[[i]]\n",
    "    }\n",
    "    \n",
    "    # R-Vine Copula\n",
    "    RVineStruct <- RVineStructureSelect(data=vdata, familyset = NA, type=\"RVine\",\n",
    "                                          selectioncrit = \"BIC\",\n",
    "                                          indeptest = TRUE, level = 0.05,\n",
    "                                          trunclevel = NA, progress = FALSE,\n",
    "                                          weights = NA,\n",
    "                                          treecrit = \"tau\",\n",
    "                                          rotations = TRUE,\n",
    "                                          se = FALSE,\n",
    "                                          presel = FALSE,\n",
    "                                          method = \"mle\",\n",
    "                                          cores = 1)\n",
    "\n",
    "    # Portfolio optimization \n",
    "    w <- matrix(rep(NaN,d),1)\n",
    "\n",
    "    # Simulate dependent uniforms, v, from the copula\n",
    "    RVinePar <- RVineStruct\n",
    "    RVM <- RVineMatrix(Matrix = RVinePar$Matrix, family = RVinePar$family,\n",
    "                         par = RVinePar$par, par2 = RVinePar$par2,\n",
    "                         names=names(retdf[,2:dd]))\n",
    "\n",
    "    vdata <- RVineSim(N, RVM, U = NULL)\n",
    "\n",
    "    # z = F^(-1)(v) \n",
    "    zdata <- matrix(rep(NaN,N*d),N)\n",
    "    colnames(zdata) <- names(retdf[,2:dd])\n",
    "    for (i in names(retdf[,2:dd])){\n",
    "      zdata[,i] <- skewtinv(vdata[,i],as.numeric(par1[i,\"nu\"]),as.numeric(par1[i,\"lambda\"]))\n",
    "    }\n",
    "\n",
    "    # r = mu + sqrt(ht)*z\n",
    "    rdata <- matrix(rep(NaN,N*d),N)\n",
    "    colnames(rdata) <- names(retdf[,2:dd])\n",
    "    for (i in names(retdf[,2:dd])){\n",
    "      ret <- as.numeric(retdf[t:tt,i])\n",
    "      out <- GJRGARCHoutputs(par=as.matrix(par1[i,]), ret=ret) \n",
    "      sigmaprime <- as.numeric(out$sigmaPrime)\n",
    "      rdata[,i] <- par1[i,\"mu\"] + sigmaprime*zdata[,i]\n",
    "    }\n",
    "\n",
    "    # Non-linear optimization\n",
    "    # Starting values: \n",
    "    v0 <- -0.1\n",
    "    w0 <- rep(1,d)*(1/d)  \n",
    "    x0 <- matrix(c(v0,w0),1)\n",
    "\n",
    "    # Optimization restrictions:\n",
    "    lb <- c(-100, rep(0,d))  # lower bounds for x = (v,w1, ... ,wm)\n",
    "    ub <- c( 100, rep(1,d))  # upper bounds for x = (v,w1, ... ,wm)\n",
    "    A  <- - matrix(c(0, par1[ ,\"mu\"]),1)\n",
    "    b  <- - (min(par1[ ,\"mu\"]) + (max(par1[ ,\"mu\"])-min(par1[ ,\"mu\"]))/1.3 ) # not the GMR portfolio, something a bit riskier\n",
    "    Aeq  <- matrix(c(0, rep(1,d)),1)  # w1 + w2 + ... + wd = 1\n",
    "    beq   <- 1 \n",
    "\n",
    "    # Global minimum risk portfolio:\n",
    "    x1 <- fmincon(x0=x0,\n",
    "                  rdata=rdata,\n",
    "                  alpha=alpha,\n",
    "                  ES_RockafellarUryasev2000,\n",
    "                  ub=ub,\n",
    "                  lb=lb,\n",
    "                  A=A,\n",
    "                  b=b,\n",
    "                  Aeq=Aeq,\n",
    "                  beq=beq,\n",
    "                  tol = 1e-04)\n",
    "\n",
    "    # Variables final values\n",
    "    xw <- x1$par\n",
    "    w <- tail(xw, d) # corresponding weights for the minimum E(r) portfolio\n",
    "    \n",
    "    t0 <- t\n",
    "    if (t+freq1-1 > OOS) {\n",
    "        t1 <- OOS\n",
    "    } else {\n",
    "        t1 <- t+freq1-1\n",
    "    }\n",
    "    \n",
    "    i <- 1\n",
    "    for (j in t0:t1) {\n",
    "        weights[j,] <- w\n",
    "        RealRet[j,1] <- as.numeric(weights[j,]%*%as.numeric(matrix(retdf[tt+i,2:dd])))\n",
    "        RealRet2[j,1] <- as.numeric(weights[1,]%*%as.numeric(matrix(retdf[tt+i,2:dd])))\n",
    "        EW_port[j,1] <- as.numeric(equallyweights%*%as.numeric(matrix(retdf[tt+i,2:dd])))\n",
    "        i <- i + 1\n",
    "      }\n",
    "    t <- t + freq1\n",
    "}"
   ]
  },
  {
   "cell_type": "code",
   "execution_count": 40,
   "id": "26e32200-6c80-4061-9d5b-afa700bbcc2d",
   "metadata": {},
   "outputs": [],
   "source": [
    "# Evolution of Wealth\n",
    "W0 <- 1000 # initial investment\n",
    "\n",
    "wealth <- matrix(rep(NaN,OOS*3),OOS)\n",
    "colnames(wealth) <- c(\"Optimization (monthly rebalancing)\",\"Optimization (no rebalancing)\",\"Equally-weighted\")\n",
    "\n",
    "for (t in 1:OOS) {\n",
    "    if (t == 1) {\n",
    "        wealth[t,\"Optimization (monthly rebalancing)\"] <- W0*(1+RealRet[t]/100)\n",
    "        wealth[t,\"Optimization (no rebalancing)\"] <- W0*(1+RealRet2[t]/100)\n",
    "        wealth[t,\"Equally-weighted\"] <- W0*(1+EW_port[t]/100)  \n",
    "    } else if (t != 1) {\n",
    "        wealth[t,\"Optimization (monthly rebalancing)\"] <- wealth[t-1,\"Optimization (monthly rebalancing)\"]*(1+RealRet[t]/100)\n",
    "        wealth[t,\"Optimization (no rebalancing)\"] <- wealth[t-1,\"Optimization (no rebalancing)\"]*(1+RealRet2[t]/100)\n",
    "        wealth[t,\"Equally-weighted\"] <- wealth[t-1,\"Equally-weighted\"]*(1+EW_port[t]/100) \n",
    "    }\n",
    "}\n",
    "\n",
    "Date <- retdf$date\n",
    "Date <- as.Date(subset(retdf$date, (retdf$date >=  Date[T0+1]))  )\n",
    "wealthdf <- data.frame(Date,wealth)\n",
    "wealthdf <- na.omit(wealthdf) \n",
    "colnames(wealthdf) <- c(\"Date\",\"OptimizationA\",\"OptimizationB\",\"EW\")"
   ]
  },
  {
   "cell_type": "markdown",
   "id": "92d9d00f-a1f7-4bcd-a0b1-d65f11d77e76",
   "metadata": {},
   "source": [
    "## 5. Results\n",
    "### 5.1. Evolution of wealth's plot "
   ]
  },
  {
   "cell_type": "code",
   "execution_count": 41,
   "id": "7653e0ed-a9e0-4262-97b0-4772f9adad35",
   "metadata": {},
   "outputs": [
    {
     "data": {
      "image/png": "[encoded data removed]",
      "text/plain": [
       "plot without title"
      ]
     },
     "metadata": {
      "image/png": {
       "height": 540,
       "width": 900
      }
     },
     "output_type": "display_data"
    }
   ],
   "source": [
    "methods <- c(\"Optimization (monthly rebalancing)\" = \"red\",\n",
    "             \"Optimization (no rebalancing)\" = \"blue\",\n",
    "             \"Equally-Weighted\"=\"darkgreen\")\n",
    "ewfigure <- ggplot(wealthdf, aes(x = Date)) +\n",
    "  geom_line(aes(y = OptimizationA, color=\"Optimization (monthly rebalancing)\"), linetype = \"solid\", size = 1) +\n",
    "  geom_line(aes(y = OptimizationB, color=\"Optimization (no rebalancing)\"), linetype = \"solid\", size = 1) +\n",
    "  geom_line(aes(y = EW, color=\"Equally-Weighted\"), linetype = \"solid\", size = 1) +\n",
    "  labs(title = \"Evolution of wealth\",\n",
    "       subtitle = paste0(\"Portfolio dimension: \", d),\n",
    "       caption = paste0(\"Initial investment: $\", W0,\" (no transaction costs included)\"),\n",
    "       color = \"Investment strategy\",\n",
    "       x = \"date\",\n",
    "       y = \"$\") +\n",
    "  scale_color_manual(values = methods)\n",
    "options(repr.plot.width=15, repr.plot.height=9)\n",
    "ewfigure +  theme_bw(base_line_size = 0.1)"
   ]
  },
  {
   "cell_type": "code",
   "execution_count": 54,
   "id": "b1045602",
   "metadata": {},
   "outputs": [
    {
     "name": "stdout",
     "output_type": "stream",
     "text": [
      "[1] \"Fund B (blue line) strategy:\"\n",
      "  AAPL   AMZN   MSFT  GOOGL  BRK.A    JPM \n",
      "0.6308 0.2604 0.0039 0.0000 0.1048 0.0000 \n"
     ]
    }
   ],
   "source": [
    "print(\"Fund B (blue line) strategy:\")\n",
    "print(round(weights[1,],4))"
   ]
  },
  {
   "cell_type": "markdown",
   "id": "c4f9955f-d309-48bb-9ed9-27b2738cf986",
   "metadata": {},
   "source": [
    "### 5.2. Some remarks"
   ]
  },
  {
   "cell_type": "code",
   "execution_count": 14,
   "id": "3a060f54-c49c-48cf-ba12-c3d65aa5dbc6",
   "metadata": {},
   "outputs": [
    {
     "name": "stdout",
     "output_type": "stream",
     "text": [
      "          Date OptimizationA OptimizationB       EW\n",
      "679 2022-09-02      1707.574      1622.043 1308.224\n"
     ]
    },
    {
     "data": {
      "text/html": [
       "'At the end of the investment horizon, the gap between portfolio values of funds A and C is $399.35 (no transaction costs included)'"
      ],
      "text/latex": [
       "'At the end of the investment horizon, the gap between portfolio values of funds A and C is \\$399.35 (no transaction costs included)'"
      ],
      "text/markdown": [
       "'At the end of the investment horizon, the gap between portfolio values of funds A and C is $399.35 (no transaction costs included)'"
      ],
      "text/plain": [
       "[1] \"At the end of the investment horizon, the gap between portfolio values of funds A and C is $399.35 (no transaction costs included)\""
      ]
     },
     "metadata": {},
     "output_type": "display_data"
    },
    {
     "data": {
      "text/html": [
       "'At the end of the investment horizon, the gap between portfolio values of funds B and C is $313.82'"
      ],
      "text/latex": [
       "'At the end of the investment horizon, the gap between portfolio values of funds B and C is \\$313.82'"
      ],
      "text/markdown": [
       "'At the end of the investment horizon, the gap between portfolio values of funds B and C is $313.82'"
      ],
      "text/plain": [
       "[1] \"At the end of the investment horizon, the gap between portfolio values of funds B and C is $313.82\""
      ]
     },
     "metadata": {},
     "output_type": "display_data"
    }
   ],
   "source": [
    "print(tail(wealthdf,1))\n",
    "diff1 <- round(tail(wealthdf[,\"OptimizationA\"],1)- tail(wealthdf[,\"EW\"],1),2)\n",
    "diff2 <- round(tail(wealthdf[,\"OptimizationB\"],1)- tail(wealthdf[,\"EW\"],1),2)\n",
    "paste0(\"At the end of the investment horizon, the gap between portfolio values of funds A and C is $\", diff1, \" (no transaction costs included)\")\n",
    "paste0(\"At the end of the investment horizon, the gap between portfolio values of funds B and C is $\", diff2)"
   ]
  },
  {
   "cell_type": "markdown",
   "id": "64e795c6-dd6a-4caf-a753-f317b6fa6432",
   "metadata": {},
   "source": [
    "We simulated the strategies of three funds, A, B and C. The three of them invested $1,000 in 2019-12-23 but follow different stratefies:\n",
    "* **Fund A**: econometrical approach to choose portfolio weights, updating weights every 20 labor days (monthly rebalancing). \n",
    "* **Fund B:** econometrical approach to choose portfolio weights. Solve the optimization problem once and keep the strategy fixed during the whole investment horizon.\n",
    "* **Fund C:** equally-weighted strategy, i.e., they invested the same proportion in each stock and never rebalanced those weights.\n",
    "\n",
    "In this specific case, the strategy followed by fund A yields to much higer benefits than the ones followed by funds B and C, however, transaction costs are not included.  Optimal portfolios are found according to Rockafellar and Uryasev (2000). The strategy is given by choosing the global minimum risk portfolio.\n",
    "\n",
    "Note: notice that in this exercise, we discretionary select 6 stocks constituents of the S&P 500. In practice, we should follow some criteria to decide which stocks should be included in the portfolio in order to diversify. However, the main goal of this exercise is to illustrate the rolling window approach and how an econometric approach based on GJR-GARCH models, copulas and Rockafellar and Uryasev (2000) may yield to better portfolio performance with respect to an equally-weighted strategy."
   ]
  },
  {
   "cell_type": "markdown",
   "id": "12cebe20",
   "metadata": {},
   "source": [
    "Even without rebalancing, the optimization approach is better than the equally-weighted strategy."
   ]
  }
 ],
 "metadata": {
  "kernelspec": {
   "display_name": "R",
   "language": "R",
   "name": "ir"
  },
  "language_info": {
   "codemirror_mode": "r",
   "file_extension": ".r",
   "mimetype": "text/x-r-source",
   "name": "R",
   "pygments_lexer": "r",
   "version": "4.1.2"
  }
 },
 "nbformat": 4,
 "nbformat_minor": 5
}
