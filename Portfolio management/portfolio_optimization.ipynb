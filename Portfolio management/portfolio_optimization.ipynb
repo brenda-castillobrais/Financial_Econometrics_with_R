{
 "cells": [
  {
   "cell_type": "markdown",
   "id": "4769eb6f-afde-449b-9fca-919adf8a77ef",
   "metadata": {},
   "source": [
    "## 1. Create a dataset of several stock prices downloaded directly from Yahoo Finance"
   ]
  },
  {
   "cell_type": "code",
   "execution_count": 1,
   "id": "4e60b469-12a8-476b-ad13-568cd46fcec2",
   "metadata": {},
   "outputs": [
    {
     "data": {
      "text/html": [
       "<table class=\"dataframe\">\n",
       "<caption>A data.frame: 6 × 7</caption>\n",
       "<thead>\n",
       "\t<tr><th></th><th scope=col>date</th><th scope=col>AAPL</th><th scope=col>AMZN</th><th scope=col>MSFT</th><th scope=col>GOOGL</th><th scope=col>BRK.A</th><th scope=col>JPM</th></tr>\n",
       "\t<tr><th></th><th scope=col>&lt;date&gt;</th><th scope=col>&lt;dbl&gt;</th><th scope=col>&lt;dbl&gt;</th><th scope=col>&lt;dbl&gt;</th><th scope=col>&lt;dbl&gt;</th><th scope=col>&lt;dbl&gt;</th><th scope=col>&lt;dbl&gt;</th></tr>\n",
       "</thead>\n",
       "<tbody>\n",
       "\t<tr><th scope=row>3038</th><td>2022-02-09</td><td>175.7772</td><td>161.1895</td><td>309.1899</td><td>141.5920</td><td>483900</td><td>154.0848</td></tr>\n",
       "\t<tr><th scope=row>3039</th><td>2022-02-10</td><td>171.6291</td><td>159.0035</td><td>300.4172</td><td>138.6200</td><td>480105</td><td>153.4452</td></tr>\n",
       "\t<tr><th scope=row>3040</th><td>2022-02-11</td><td>168.1590</td><td>153.2935</td><td>293.1248</td><td>134.2825</td><td>479370</td><td>151.4478</td></tr>\n",
       "\t<tr><th scope=row>3041</th><td>2022-02-14</td><td>168.3983</td><td>155.1670</td><td>293.0851</td><td>135.5260</td><td>472410</td><td>150.0408</td></tr>\n",
       "\t<tr><th scope=row>3042</th><td>2022-02-15</td><td>172.2972</td><td>156.5105</td><td>298.5196</td><td>136.6085</td><td>473980</td><td>152.2350</td></tr>\n",
       "\t<tr><th scope=row>3043</th><td>2022-02-16</td><td>172.0579</td><td>158.1005</td><td>298.1712</td><td>137.7380</td><td>474444</td><td>152.5105</td></tr>\n",
       "</tbody>\n",
       "</table>\n"
      ],
      "text/latex": [
       "A data.frame: 6 × 7\n",
       "\\begin{tabular}{r|lllllll}\n",
       "  & date & AAPL & AMZN & MSFT & GOOGL & BRK.A & JPM\\\\\n",
       "  & <date> & <dbl> & <dbl> & <dbl> & <dbl> & <dbl> & <dbl>\\\\\n",
       "\\hline\n",
       "\t3038 & 2022-02-09 & 175.7772 & 161.1895 & 309.1899 & 141.5920 & 483900 & 154.0848\\\\\n",
       "\t3039 & 2022-02-10 & 171.6291 & 159.0035 & 300.4172 & 138.6200 & 480105 & 153.4452\\\\\n",
       "\t3040 & 2022-02-11 & 168.1590 & 153.2935 & 293.1248 & 134.2825 & 479370 & 151.4478\\\\\n",
       "\t3041 & 2022-02-14 & 168.3983 & 155.1670 & 293.0851 & 135.5260 & 472410 & 150.0408\\\\\n",
       "\t3042 & 2022-02-15 & 172.2972 & 156.5105 & 298.5196 & 136.6085 & 473980 & 152.2350\\\\\n",
       "\t3043 & 2022-02-16 & 172.0579 & 158.1005 & 298.1712 & 137.7380 & 474444 & 152.5105\\\\\n",
       "\\end{tabular}\n"
      ],
      "text/markdown": [
       "\n",
       "A data.frame: 6 × 7\n",
       "\n",
       "| <!--/--> | date &lt;date&gt; | AAPL &lt;dbl&gt; | AMZN &lt;dbl&gt; | MSFT &lt;dbl&gt; | GOOGL &lt;dbl&gt; | BRK.A &lt;dbl&gt; | JPM &lt;dbl&gt; |\n",
       "|---|---|---|---|---|---|---|---|\n",
       "| 3038 | 2022-02-09 | 175.7772 | 161.1895 | 309.1899 | 141.5920 | 483900 | 154.0848 |\n",
       "| 3039 | 2022-02-10 | 171.6291 | 159.0035 | 300.4172 | 138.6200 | 480105 | 153.4452 |\n",
       "| 3040 | 2022-02-11 | 168.1590 | 153.2935 | 293.1248 | 134.2825 | 479370 | 151.4478 |\n",
       "| 3041 | 2022-02-14 | 168.3983 | 155.1670 | 293.0851 | 135.5260 | 472410 | 150.0408 |\n",
       "| 3042 | 2022-02-15 | 172.2972 | 156.5105 | 298.5196 | 136.6085 | 473980 | 152.2350 |\n",
       "| 3043 | 2022-02-16 | 172.0579 | 158.1005 | 298.1712 | 137.7380 | 474444 | 152.5105 |\n",
       "\n"
      ],
      "text/plain": [
       "     date       AAPL     AMZN     MSFT     GOOGL    BRK.A  JPM     \n",
       "3038 2022-02-09 175.7772 161.1895 309.1899 141.5920 483900 154.0848\n",
       "3039 2022-02-10 171.6291 159.0035 300.4172 138.6200 480105 153.4452\n",
       "3040 2022-02-11 168.1590 153.2935 293.1248 134.2825 479370 151.4478\n",
       "3041 2022-02-14 168.3983 155.1670 293.0851 135.5260 472410 150.0408\n",
       "3042 2022-02-15 172.2972 156.5105 298.5196 136.6085 473980 152.2350\n",
       "3043 2022-02-16 172.0579 158.1005 298.1712 137.7380 474444 152.5105"
      ]
     },
     "metadata": {},
     "output_type": "display_data"
    }
   ],
   "source": [
    "# Choose the assets that will be included in the dataset\n",
    "stocks <- c(\"AAPL\", \"AMZN\", \"MSFT\", \"GOOGL\", \"BRK-A\", \"JPM\")\n",
    "datalist <- list() \n",
    "t1 <- as.integer(ISOdate(2010,1,17,hour=0))\n",
    "t2 <- as.integer(ISOdate(2022,2,17,hour=0))\n",
    "\n",
    "for (stock in stocks) {\n",
    "    url <- paste(\"https://query1.finance.yahoo.com/v7/finance/download/\",\n",
    "                 stock,\n",
    "                 \"?period1=\",\n",
    "                 as.integer(t1),\n",
    "                 \"&period2=\",\n",
    "                 as.integer(t2),\n",
    "                 \"&interval=1d&events=history&includeAdjustedClose=true\",\n",
    "                 sep=\"\")\n",
    "    data <- read.csv(url)\n",
    "    data['Date'] <- as.Date(data$Date)    \n",
    "    datalist[[stock]] <- data.frame(date=data$Date,price=data$Adj.Close)\n",
    "}\n",
    "\n",
    "# Merge\n",
    "prices <- data.frame(datalist$AAPL)\n",
    "colnames(prices) <- c('date','AAPL')\n",
    "for (i in 2:length(datalist)) {\n",
    "    temp <- datalist[[i]]\n",
    "    colnames(temp) <- c('date', stocks[i])\n",
    "    prices <- merge(prices,temp,by=\"date\")\n",
    "}\n",
    "prices <- data.frame(prices)\n",
    "tail(prices)"
   ]
  },
  {
   "cell_type": "markdown",
   "id": "bccbd301-b15e-46fb-ad50-b56c848216c9",
   "metadata": {},
   "source": [
    "## 2. Generate log-returns\n",
    "Let $P_{i,t}$ denote the price of stock $i$ at date $t$. Hence, the log-return of stock $i$ at date $t$ would given by $$R_{i,t} = \\log\\left(\\frac{P_{i,t}}{P_{i,t-1}}\\right)$$"
   ]
  },
  {
   "cell_type": "code",
   "execution_count": 2,
   "id": "241b003d-5555-4704-97e5-ffbf6e7ad19a",
   "metadata": {},
   "outputs": [
    {
     "data": {
      "text/html": [
       "<table class=\"dataframe\">\n",
       "<caption>A data.frame: 6 × 7</caption>\n",
       "<thead>\n",
       "\t<tr><th></th><th scope=col>date</th><th scope=col>AAPL</th><th scope=col>AMZN</th><th scope=col>MSFT</th><th scope=col>GOOGL</th><th scope=col>BRK.A</th><th scope=col>JPM</th></tr>\n",
       "\t<tr><th></th><th scope=col>&lt;date&gt;</th><th scope=col>&lt;dbl&gt;</th><th scope=col>&lt;dbl&gt;</th><th scope=col>&lt;dbl&gt;</th><th scope=col>&lt;dbl&gt;</th><th scope=col>&lt;dbl&gt;</th><th scope=col>&lt;dbl&gt;</th></tr>\n",
       "</thead>\n",
       "<tbody>\n",
       "\t<tr><th scope=row>3037</th><td>2022-02-09</td><td> 0.8259462</td><td>-0.1388698</td><td> 2.15998410</td><td> 1.5609308</td><td> 0.38719210</td><td> 0.4159418</td></tr>\n",
       "\t<tr><th scope=row>3038</th><td>2022-02-10</td><td>-2.3881717</td><td>-1.3654508</td><td>-2.87833913</td><td>-2.1213307</td><td>-0.78734438</td><td>-0.4159418</td></tr>\n",
       "\t<tr><th scope=row>3039</th><td>2022-02-11</td><td>-2.0425570</td><td>-3.6571773</td><td>-2.45736803</td><td>-3.1790543</td><td>-0.15320882</td><td>-1.3102428</td></tr>\n",
       "\t<tr><th scope=row>3040</th><td>2022-02-14</td><td> 0.1422159</td><td> 1.2147597</td><td>-0.01354566</td><td> 0.9217714</td><td>-1.46254892</td><td>-0.9333939</td></tr>\n",
       "\t<tr><th scope=row>3041</th><td>2022-02-15</td><td> 2.2888499</td><td> 0.8621086</td><td> 1.83726111</td><td> 0.7955696</td><td> 0.33178741</td><td> 1.4518011</td></tr>\n",
       "\t<tr><th scope=row>3042</th><td>2022-02-16</td><td>-0.1389868</td><td> 1.0107781</td><td>-0.11679417</td><td> 0.8234173</td><td> 0.09784654</td><td> 0.1808054</td></tr>\n",
       "</tbody>\n",
       "</table>\n"
      ],
      "text/latex": [
       "A data.frame: 6 × 7\n",
       "\\begin{tabular}{r|lllllll}\n",
       "  & date & AAPL & AMZN & MSFT & GOOGL & BRK.A & JPM\\\\\n",
       "  & <date> & <dbl> & <dbl> & <dbl> & <dbl> & <dbl> & <dbl>\\\\\n",
       "\\hline\n",
       "\t3037 & 2022-02-09 &  0.8259462 & -0.1388698 &  2.15998410 &  1.5609308 &  0.38719210 &  0.4159418\\\\\n",
       "\t3038 & 2022-02-10 & -2.3881717 & -1.3654508 & -2.87833913 & -2.1213307 & -0.78734438 & -0.4159418\\\\\n",
       "\t3039 & 2022-02-11 & -2.0425570 & -3.6571773 & -2.45736803 & -3.1790543 & -0.15320882 & -1.3102428\\\\\n",
       "\t3040 & 2022-02-14 &  0.1422159 &  1.2147597 & -0.01354566 &  0.9217714 & -1.46254892 & -0.9333939\\\\\n",
       "\t3041 & 2022-02-15 &  2.2888499 &  0.8621086 &  1.83726111 &  0.7955696 &  0.33178741 &  1.4518011\\\\\n",
       "\t3042 & 2022-02-16 & -0.1389868 &  1.0107781 & -0.11679417 &  0.8234173 &  0.09784654 &  0.1808054\\\\\n",
       "\\end{tabular}\n"
      ],
      "text/markdown": [
       "\n",
       "A data.frame: 6 × 7\n",
       "\n",
       "| <!--/--> | date &lt;date&gt; | AAPL &lt;dbl&gt; | AMZN &lt;dbl&gt; | MSFT &lt;dbl&gt; | GOOGL &lt;dbl&gt; | BRK.A &lt;dbl&gt; | JPM &lt;dbl&gt; |\n",
       "|---|---|---|---|---|---|---|---|\n",
       "| 3037 | 2022-02-09 |  0.8259462 | -0.1388698 |  2.15998410 |  1.5609308 |  0.38719210 |  0.4159418 |\n",
       "| 3038 | 2022-02-10 | -2.3881717 | -1.3654508 | -2.87833913 | -2.1213307 | -0.78734438 | -0.4159418 |\n",
       "| 3039 | 2022-02-11 | -2.0425570 | -3.6571773 | -2.45736803 | -3.1790543 | -0.15320882 | -1.3102428 |\n",
       "| 3040 | 2022-02-14 |  0.1422159 |  1.2147597 | -0.01354566 |  0.9217714 | -1.46254892 | -0.9333939 |\n",
       "| 3041 | 2022-02-15 |  2.2888499 |  0.8621086 |  1.83726111 |  0.7955696 |  0.33178741 |  1.4518011 |\n",
       "| 3042 | 2022-02-16 | -0.1389868 |  1.0107781 | -0.11679417 |  0.8234173 |  0.09784654 |  0.1808054 |\n",
       "\n"
      ],
      "text/plain": [
       "     date       AAPL       AMZN       MSFT        GOOGL      BRK.A      \n",
       "3037 2022-02-09  0.8259462 -0.1388698  2.15998410  1.5609308  0.38719210\n",
       "3038 2022-02-10 -2.3881717 -1.3654508 -2.87833913 -2.1213307 -0.78734438\n",
       "3039 2022-02-11 -2.0425570 -3.6571773 -2.45736803 -3.1790543 -0.15320882\n",
       "3040 2022-02-14  0.1422159  1.2147597 -0.01354566  0.9217714 -1.46254892\n",
       "3041 2022-02-15  2.2888499  0.8621086  1.83726111  0.7955696  0.33178741\n",
       "3042 2022-02-16 -0.1389868  1.0107781 -0.11679417  0.8234173  0.09784654\n",
       "     JPM       \n",
       "3037  0.4159418\n",
       "3038 -0.4159418\n",
       "3039 -1.3102428\n",
       "3040 -0.9333939\n",
       "3041  1.4518011\n",
       "3042  0.1808054"
      ]
     },
     "metadata": {},
     "output_type": "display_data"
    }
   ],
   "source": [
    "# compute log-returns\n",
    "genretdf <- function(pricesdf, nonans = TRUE) {\n",
    "  prices <- data.matrix(pricesdf)\n",
    "  ret <- 100*(diff(log(prices[,2:ncol(prices)])))  \n",
    "  TT <- nrow(ret)\n",
    "  pricesdf <- pricesdf[1:TT+1,]\n",
    "  date <- as.Date(pricesdf$date) \n",
    "  retdf <- data.frame(date,ret)\n",
    "  if (nonans==TRUE){\n",
    "    retdf <- na.omit(retdf) \n",
    "  }\n",
    "  return(retdf)\n",
    "}\n",
    "\n",
    "retdf <- genretdf(prices, nonans=TRUE)\n",
    "tail(retdf)"
   ]
  },
  {
   "cell_type": "markdown",
   "id": "e5464e58-269c-4380-ba41-54c27de7cd76",
   "metadata": {},
   "source": [
    "## 3. Margins\n",
    "A GJR-GARCH(1,1,1) model with Hansen's (1994) skewed-t errors is used for margins, i.e., we assume that\n",
    "\\begin{eqnarray} \n",
    "R_{i,t} &=& \\mu_i + \\sigma_{i,t} Z_{i,t} \\\\ \n",
    "\\sigma_{i,t}^2 &=&  \\omega + \\beta  \\sigma_{i,t-1}^2 + \\alpha (\\sigma_{i,t-1} z_{i,t-1})^2 + \\gamma (\\sigma_{i,t-1} z_{i,t-1})^2 I_{\\{z_{i,t-1}<0\\}}\n",
    "\\end{eqnarray}\n",
    "\n",
    "where:\n",
    "\n",
    "* $Z_{i,t}$ is an i.i.d. random variable that follows a skewed-t of Hansen (1994) distribution, with degrees of freedom and asymmetry parameters denoted by $2<\\nu<\\infty$ and $-1<\\eta<1$, respectively. \n",
    "* $\\mu_i$ denotes de unconditional mean\n",
    "* $I$ is an indicator function that takes the value of 1 if the inequality is satisfied and 0 otherwise.\n",
    "* Positiveness restrictions: $\\omega_i>0$, $\\alpha_i\\geq 0$, $\\alpha_i+\\gamma_i>0$ and $\\beta_i\\geq 0$ \n",
    "* Stationarity restriction:  $\\gamma < 2(1-\\alpha-\\beta)$\n",
    "\n",
    "Notice that for each asset return $i\\in\\{1,...,d\\}$, there are 7 parameters to be estimated $$\\theta_i=(\\mu_i, \\omega_i, \\beta_i, \\alpha_i, \\gamma_i,\\nu_i,\\eta_i)$$"
   ]
  },
  {
   "cell_type": "code",
   "execution_count": 3,
   "id": "140c87bc-7308-4d4b-874b-c1eadeb5b38f",
   "metadata": {},
   "outputs": [],
   "source": [
    "GJRGARCHloglik <- function(par, ret) {\n",
    "  # Mean: unconditional mean\n",
    "  # Error's distribution: skewed-t of Hansen (1994)  \n",
    "  TT <- length(ret)\n",
    "  \n",
    "  # Starting values:\n",
    "  rbar <- mean(ret)\n",
    "  condVar <- matrix(rep(0,TT),TT)\n",
    "  epsi <- matrix(rep(0,TT),TT)\n",
    "  z <- matrix(rep(0,TT),TT)\n",
    "  condVar[1] <- mean((ret-rbar)^2)\n",
    "  epsi[1] <- sqrt(condVar[1])\n",
    "  z[1] <- 1\n",
    "  \n",
    "  # Unconditional mean:\n",
    "  mu <- par[1]\n",
    "  \n",
    "  # Conditional variance:\n",
    "  # sigma_{t}^2 = omega + beta*sigma_{t-1}^2 + alpha*epsilon_{t-1}^2 + gamma*epsilon{t-1}^2*ind{z_{t-1}<0}\n",
    "  b0 <- par[2] # omega\n",
    "  b1 <- par[3] # beta\n",
    "  b2 <- par[4] # alpha\n",
    "  b3 <- par[5] # gamma\n",
    "    \n",
    "  # GJR-GARCH(1,1) :\n",
    "  for (t in 2 : TT)  {\n",
    "    condVar[t] <-  b0 + b1*condVar[t-1] + b2*epsi[t-1]^2 + b3*min(epsi[t-1],0)^2 # GJR-GARCH(1,1) \n",
    "    z[t] <- (ret[t]-mu)/sqrt(condVar[t])   \n",
    "    epsi[t] <- z[t]*sqrt(condVar[t]) \n",
    "  }\n",
    "    sigmaPrime <- sqrt( b0 + b1*tail(condVar,1) + b2*tail(epsi,1)^2 + b3*min(tail(epsi,1),0)^2 )\n",
    "\n",
    "  # Skewed-t shape parameters:\n",
    "    a <- tail(par,2) \n",
    "    nu <- a[1] # degrees of freedom\n",
    "    lambda <- a[2] # skewnes parameter\n",
    "  \n",
    "  \n",
    "  # Log-likelihood\n",
    "  logc <- lgamma((nu+1)/2) - lgamma(nu/2) - log(sqrt(pi*(nu-2))) \n",
    "  c = exp(logc) \n",
    "  a <- 4*lambda*c*((nu-2)/(nu-1))\n",
    "  logb <- 0.5*log(1 + 3*lambda^2 - a^2)\n",
    "  b <- exp(logb)\n",
    "  f1 <- which(z <  (-a/b))\n",
    "  f2 <- which(z >= (-a/b))\n",
    "  ll <- rep(NaN,length(z))\n",
    "  ll1 <- logb + logc - ((nu+1)/2)*log(1 + (1/(nu-2))*((b*z[f1]+a)/(1-lambda))^2 ) - 0.5*log(condVar[f1])\n",
    "  ll2 <- logb + logc - ((nu+1)/2)*log(1 + (1/(nu-2))*((b*z[f2]+a)/(1+lambda))^2 ) - 0.5*log(condVar[f2])\n",
    "  ll[f1] <- ll1\n",
    "  ll[f2] <- ll2 \n",
    "  LL <- -sum(ll)\n",
    "  return(LL)\n",
    "}"
   ]
  },
  {
   "cell_type": "code",
   "execution_count": 4,
   "id": "4428b837-b76f-46f1-a5a9-8d43d362261e",
   "metadata": {},
   "outputs": [],
   "source": [
    "# Estimate GJR-GARCH parameters by Maximum Likelihood for each asset:\n",
    "#install.packages(\"pracma\", repos=\"http://R-Forge.R-project.org\")\n",
    "#install.packages(\"NlcOptim\")\n",
    "library(pracma)\n",
    "\n",
    "par1 <- NULL\n",
    "se1 <- NULL\n",
    "gofind1 <- NULL\n",
    "\n",
    "for (i in names(retdf[,2:ncol(retdf)])){ \n",
    "  ret <- retdf[,i]\n",
    "  mu0 <- mean(ret)\n",
    "  omega0 <- 0.01 ; beta0 <- 0.87 ; alpha0 <- 0.08 ; gamma0 <- 0.09\n",
    "  nu0 <- 4 ; lambda0 <- - 0.2\n",
    "  par0 <- c(mu0, omega0, beta0, alpha0, gamma0, nu0, lambda0) \n",
    "  \n",
    "  lb <- c(-100, rep(0.00001,3), -1, 2.01, -0.99) # lower bounds for GARCH(1,1) parameters: [mu, omega(>0), beta(>0), alpha(>0), gamma(=>0), nu(>2), lambda > -0.99]\n",
    "  ub <- c(rep(100,6), 0.99)                      # upper bounds for GARCH(1,1) parameters: [mu, omega, beta, alpha, gamma, nu, lamnda < 0.99]\n",
    "  A  <- matrix(rbind(c(0, 0, 1, 1, 0.5, 0, 0), c(0, 0, 0, -1, -1, 0, 0)), 2)   # alpha + beta + 0.5*gamma < 1\n",
    "  b  <- matrix(c(0.999, -0.0001),2)    \n",
    "  Aeq  <- NULL\n",
    "  beq  <- NULL\n",
    "  x1 <- fmincon(x0 = par0, \n",
    "                ret = ret, \n",
    "                GJRGARCHloglik, # objective function\n",
    "                ub=ub, lb=lb, \n",
    "                A=A, b=b, \n",
    "                Aeq=Aeq, beq=beq, tol=1e-05)\n",
    "  par0 <- x1$par\n",
    "  par1 <- rbind(par1,par0)\n",
    "  hessianMatrix <- hessian(GJRGARCHloglik, x1$par, ret=ret)\n",
    "  se0 <- sqrt(diag(inv(hessianMatrix)))\n",
    "  se1 <- rbind(se1,se0)\n",
    "  LogLik <- - x1$value \n",
    "  AIC <- 2*length(par0) - 2*LogLik \n",
    "  BIC <- length(par0)*log(nrow(retdf)) - 2*LogLik \n",
    "  gofind0 <- c(LogLik,AIC,BIC)\n",
    "  gofind1 <- rbind(gofind1,gofind0)\n",
    "}"
   ]
  },
  {
   "cell_type": "code",
   "execution_count": 5,
   "id": "ca713bf5-c14d-4697-8533-be01f48c3f67",
   "metadata": {},
   "outputs": [
    {
     "data": {
      "text/html": [
       "<table class=\"dataframe\">\n",
       "<caption>A data.frame: 6 × 7</caption>\n",
       "<thead>\n",
       "\t<tr><th></th><th scope=col>mu</th><th scope=col>omega</th><th scope=col>beta</th><th scope=col>alpha</th><th scope=col>gamma</th><th scope=col>nu</th><th scope=col>lambda</th></tr>\n",
       "\t<tr><th></th><th scope=col>&lt;dbl&gt;</th><th scope=col>&lt;dbl&gt;</th><th scope=col>&lt;dbl&gt;</th><th scope=col>&lt;dbl&gt;</th><th scope=col>&lt;dbl&gt;</th><th scope=col>&lt;dbl&gt;</th><th scope=col>&lt;dbl&gt;</th></tr>\n",
       "</thead>\n",
       "<tbody>\n",
       "\t<tr><th scope=row>AAPL</th><td>0.12978435</td><td>0.16638333</td><td>0.8358638</td><td>0.031445036</td><td>0.1669702</td><td>4.848357</td><td>-0.019006261</td></tr>\n",
       "\t<tr><th scope=row>AMZN</th><td>0.10249669</td><td>0.23998005</td><td>0.8436016</td><td>0.019162700</td><td>0.1693909</td><td>4.132827</td><td>-0.017243507</td></tr>\n",
       "\t<tr><th scope=row>MSFT</th><td>0.07979481</td><td>0.10945588</td><td>0.8515882</td><td>0.028103727</td><td>0.1634672</td><td>4.664140</td><td>-0.014707025</td></tr>\n",
       "\t<tr><th scope=row>GOOGL</th><td>0.06547232</td><td>0.12138362</td><td>0.8859608</td><td>0.004658702</td><td>0.1374019</td><td>3.789466</td><td>-0.056483639</td></tr>\n",
       "\t<tr><th scope=row>BRK.A</th><td>0.04130865</td><td>0.04861686</td><td>0.8530933</td><td>0.040133557</td><td>0.1460449</td><td>5.883988</td><td> 0.019962555</td></tr>\n",
       "\t<tr><th scope=row>JPM</th><td>0.06076057</td><td>0.06955375</td><td>0.8830098</td><td>0.026204430</td><td>0.1391215</td><td>5.631543</td><td>-0.005293909</td></tr>\n",
       "</tbody>\n",
       "</table>\n"
      ],
      "text/latex": [
       "A data.frame: 6 × 7\n",
       "\\begin{tabular}{r|lllllll}\n",
       "  & mu & omega & beta & alpha & gamma & nu & lambda\\\\\n",
       "  & <dbl> & <dbl> & <dbl> & <dbl> & <dbl> & <dbl> & <dbl>\\\\\n",
       "\\hline\n",
       "\tAAPL & 0.12978435 & 0.16638333 & 0.8358638 & 0.031445036 & 0.1669702 & 4.848357 & -0.019006261\\\\\n",
       "\tAMZN & 0.10249669 & 0.23998005 & 0.8436016 & 0.019162700 & 0.1693909 & 4.132827 & -0.017243507\\\\\n",
       "\tMSFT & 0.07979481 & 0.10945588 & 0.8515882 & 0.028103727 & 0.1634672 & 4.664140 & -0.014707025\\\\\n",
       "\tGOOGL & 0.06547232 & 0.12138362 & 0.8859608 & 0.004658702 & 0.1374019 & 3.789466 & -0.056483639\\\\\n",
       "\tBRK.A & 0.04130865 & 0.04861686 & 0.8530933 & 0.040133557 & 0.1460449 & 5.883988 &  0.019962555\\\\\n",
       "\tJPM & 0.06076057 & 0.06955375 & 0.8830098 & 0.026204430 & 0.1391215 & 5.631543 & -0.005293909\\\\\n",
       "\\end{tabular}\n"
      ],
      "text/markdown": [
       "\n",
       "A data.frame: 6 × 7\n",
       "\n",
       "| <!--/--> | mu &lt;dbl&gt; | omega &lt;dbl&gt; | beta &lt;dbl&gt; | alpha &lt;dbl&gt; | gamma &lt;dbl&gt; | nu &lt;dbl&gt; | lambda &lt;dbl&gt; |\n",
       "|---|---|---|---|---|---|---|---|\n",
       "| AAPL | 0.12978435 | 0.16638333 | 0.8358638 | 0.031445036 | 0.1669702 | 4.848357 | -0.019006261 |\n",
       "| AMZN | 0.10249669 | 0.23998005 | 0.8436016 | 0.019162700 | 0.1693909 | 4.132827 | -0.017243507 |\n",
       "| MSFT | 0.07979481 | 0.10945588 | 0.8515882 | 0.028103727 | 0.1634672 | 4.664140 | -0.014707025 |\n",
       "| GOOGL | 0.06547232 | 0.12138362 | 0.8859608 | 0.004658702 | 0.1374019 | 3.789466 | -0.056483639 |\n",
       "| BRK.A | 0.04130865 | 0.04861686 | 0.8530933 | 0.040133557 | 0.1460449 | 5.883988 |  0.019962555 |\n",
       "| JPM | 0.06076057 | 0.06955375 | 0.8830098 | 0.026204430 | 0.1391215 | 5.631543 | -0.005293909 |\n",
       "\n"
      ],
      "text/plain": [
       "      mu         omega      beta      alpha       gamma     nu      \n",
       "AAPL  0.12978435 0.16638333 0.8358638 0.031445036 0.1669702 4.848357\n",
       "AMZN  0.10249669 0.23998005 0.8436016 0.019162700 0.1693909 4.132827\n",
       "MSFT  0.07979481 0.10945588 0.8515882 0.028103727 0.1634672 4.664140\n",
       "GOOGL 0.06547232 0.12138362 0.8859608 0.004658702 0.1374019 3.789466\n",
       "BRK.A 0.04130865 0.04861686 0.8530933 0.040133557 0.1460449 5.883988\n",
       "JPM   0.06076057 0.06955375 0.8830098 0.026204430 0.1391215 5.631543\n",
       "      lambda      \n",
       "AAPL  -0.019006261\n",
       "AMZN  -0.017243507\n",
       "MSFT  -0.014707025\n",
       "GOOGL -0.056483639\n",
       "BRK.A  0.019962555\n",
       "JPM   -0.005293909"
      ]
     },
     "metadata": {},
     "output_type": "display_data"
    }
   ],
   "source": [
    "# Estimated parameters\n",
    "estimates <- data.frame(par1) \n",
    "colnames(estimates) <- c(\"mu\",\"omega\",\"beta\",\"alpha\",\"gamma\",\"nu\",\"lambda\")\n",
    "rownames(estimates) <- names(retdf[,2:ncol(retdf)])\n",
    "estimates_df <- data.frame(estimates)\n",
    "estimates_df"
   ]
  },
  {
   "cell_type": "code",
   "execution_count": 6,
   "id": "b483b201-6eb6-40bd-b4f4-12de908848e8",
   "metadata": {},
   "outputs": [
    {
     "data": {
      "text/html": [
       "<table class=\"dataframe\">\n",
       "<caption>A data.frame: 6 × 7</caption>\n",
       "<thead>\n",
       "\t<tr><th></th><th scope=col>mu</th><th scope=col>omega</th><th scope=col>beta</th><th scope=col>alpha</th><th scope=col>gamma</th><th scope=col>nu</th><th scope=col>lambda</th></tr>\n",
       "\t<tr><th></th><th scope=col>&lt;dbl&gt;</th><th scope=col>&lt;dbl&gt;</th><th scope=col>&lt;dbl&gt;</th><th scope=col>&lt;dbl&gt;</th><th scope=col>&lt;dbl&gt;</th><th scope=col>&lt;dbl&gt;</th><th scope=col>&lt;dbl&gt;</th></tr>\n",
       "</thead>\n",
       "<tbody>\n",
       "\t<tr><th scope=row>AAPL</th><td>0.02669874</td><td>0.03357633</td><td>0.02204074</td><td>0.013600308</td><td>0.03068413</td><td>0.4280372</td><td>0.02508545</td></tr>\n",
       "\t<tr><th scope=row>AMZN</th><td>0.03019706</td><td>0.05854094</td><td>0.02785216</td><td>0.012670506</td><td>0.03441710</td><td>0.3059468</td><td>0.02508477</td></tr>\n",
       "\t<tr><th scope=row>MSFT</th><td>0.02318246</td><td>0.02506643</td><td>0.02283986</td><td>0.013927875</td><td>0.03161742</td><td>0.3879489</td><td>0.02453277</td></tr>\n",
       "\t<tr><th scope=row>GOOGL</th><td>0.02483540</td><td>0.03262020</td><td>0.02187641</td><td>0.005699393</td><td>0.02828748</td><td>0.2707511</td><td>0.02438474</td></tr>\n",
       "\t<tr><th scope=row>BRK.A</th><td>0.01661818</td><td>0.01115900</td><td>0.02240677</td><td>0.014363482</td><td>0.02790487</td><td>0.5970090</td><td>0.02506898</td></tr>\n",
       "\t<tr><th scope=row>JPM</th><td>0.02389222</td><td>0.01709259</td><td>0.01830416</td><td>0.011164910</td><td>0.02494914</td><td>0.5553759</td><td>0.02528895</td></tr>\n",
       "</tbody>\n",
       "</table>\n"
      ],
      "text/latex": [
       "A data.frame: 6 × 7\n",
       "\\begin{tabular}{r|lllllll}\n",
       "  & mu & omega & beta & alpha & gamma & nu & lambda\\\\\n",
       "  & <dbl> & <dbl> & <dbl> & <dbl> & <dbl> & <dbl> & <dbl>\\\\\n",
       "\\hline\n",
       "\tAAPL & 0.02669874 & 0.03357633 & 0.02204074 & 0.013600308 & 0.03068413 & 0.4280372 & 0.02508545\\\\\n",
       "\tAMZN & 0.03019706 & 0.05854094 & 0.02785216 & 0.012670506 & 0.03441710 & 0.3059468 & 0.02508477\\\\\n",
       "\tMSFT & 0.02318246 & 0.02506643 & 0.02283986 & 0.013927875 & 0.03161742 & 0.3879489 & 0.02453277\\\\\n",
       "\tGOOGL & 0.02483540 & 0.03262020 & 0.02187641 & 0.005699393 & 0.02828748 & 0.2707511 & 0.02438474\\\\\n",
       "\tBRK.A & 0.01661818 & 0.01115900 & 0.02240677 & 0.014363482 & 0.02790487 & 0.5970090 & 0.02506898\\\\\n",
       "\tJPM & 0.02389222 & 0.01709259 & 0.01830416 & 0.011164910 & 0.02494914 & 0.5553759 & 0.02528895\\\\\n",
       "\\end{tabular}\n"
      ],
      "text/markdown": [
       "\n",
       "A data.frame: 6 × 7\n",
       "\n",
       "| <!--/--> | mu &lt;dbl&gt; | omega &lt;dbl&gt; | beta &lt;dbl&gt; | alpha &lt;dbl&gt; | gamma &lt;dbl&gt; | nu &lt;dbl&gt; | lambda &lt;dbl&gt; |\n",
       "|---|---|---|---|---|---|---|---|\n",
       "| AAPL | 0.02669874 | 0.03357633 | 0.02204074 | 0.013600308 | 0.03068413 | 0.4280372 | 0.02508545 |\n",
       "| AMZN | 0.03019706 | 0.05854094 | 0.02785216 | 0.012670506 | 0.03441710 | 0.3059468 | 0.02508477 |\n",
       "| MSFT | 0.02318246 | 0.02506643 | 0.02283986 | 0.013927875 | 0.03161742 | 0.3879489 | 0.02453277 |\n",
       "| GOOGL | 0.02483540 | 0.03262020 | 0.02187641 | 0.005699393 | 0.02828748 | 0.2707511 | 0.02438474 |\n",
       "| BRK.A | 0.01661818 | 0.01115900 | 0.02240677 | 0.014363482 | 0.02790487 | 0.5970090 | 0.02506898 |\n",
       "| JPM | 0.02389222 | 0.01709259 | 0.01830416 | 0.011164910 | 0.02494914 | 0.5553759 | 0.02528895 |\n",
       "\n"
      ],
      "text/plain": [
       "      mu         omega      beta       alpha       gamma      nu       \n",
       "AAPL  0.02669874 0.03357633 0.02204074 0.013600308 0.03068413 0.4280372\n",
       "AMZN  0.03019706 0.05854094 0.02785216 0.012670506 0.03441710 0.3059468\n",
       "MSFT  0.02318246 0.02506643 0.02283986 0.013927875 0.03161742 0.3879489\n",
       "GOOGL 0.02483540 0.03262020 0.02187641 0.005699393 0.02828748 0.2707511\n",
       "BRK.A 0.01661818 0.01115900 0.02240677 0.014363482 0.02790487 0.5970090\n",
       "JPM   0.02389222 0.01709259 0.01830416 0.011164910 0.02494914 0.5553759\n",
       "      lambda    \n",
       "AAPL  0.02508545\n",
       "AMZN  0.02508477\n",
       "MSFT  0.02453277\n",
       "GOOGL 0.02438474\n",
       "BRK.A 0.02506898\n",
       "JPM   0.02528895"
      ]
     },
     "metadata": {},
     "output_type": "display_data"
    }
   ],
   "source": [
    "# Standard errors \n",
    "se <- data.frame(se1) \n",
    "colnames(se) <- c(\"mu\",\"omega\",\"beta\",\"alpha\",\"gamma\",\"nu\",\"lambda\")\n",
    "rownames(se) <- names(retdf[,2:ncol(retdf)])\n",
    "se_df <- data.frame(se)\n",
    "se_df"
   ]
  },
  {
   "cell_type": "code",
   "execution_count": 7,
   "id": "8e379359-6bd9-46f1-b156-16aeb6eda84a",
   "metadata": {},
   "outputs": [
    {
     "data": {
      "text/html": [
       "<table class=\"dataframe\">\n",
       "<caption>A data.frame: 6 × 3</caption>\n",
       "<thead>\n",
       "\t<tr><th></th><th scope=col>log-likelihood</th><th scope=col>AIC</th><th scope=col>BIC</th></tr>\n",
       "\t<tr><th></th><th scope=col>&lt;dbl&gt;</th><th scope=col>&lt;dbl&gt;</th><th scope=col>&lt;dbl&gt;</th></tr>\n",
       "</thead>\n",
       "<tbody>\n",
       "\t<tr><th scope=row>AAPL</th><td>-5631.736</td><td>11277.473</td><td>11319.61</td></tr>\n",
       "\t<tr><th scope=row>AMZN</th><td>-5969.654</td><td>11953.308</td><td>11995.45</td></tr>\n",
       "\t<tr><th scope=row>MSFT</th><td>-5217.575</td><td>10449.150</td><td>10491.29</td></tr>\n",
       "\t<tr><th scope=row>GOOGL</th><td>-5313.324</td><td>10640.647</td><td>10682.79</td></tr>\n",
       "\t<tr><th scope=row>BRK.A</th><td>-4275.199</td><td> 8564.398</td><td> 8606.54</td></tr>\n",
       "\t<tr><th scope=row>JPM</th><td>-5435.950</td><td>10885.900</td><td>10928.04</td></tr>\n",
       "</tbody>\n",
       "</table>\n"
      ],
      "text/latex": [
       "A data.frame: 6 × 3\n",
       "\\begin{tabular}{r|lll}\n",
       "  & log-likelihood & AIC & BIC\\\\\n",
       "  & <dbl> & <dbl> & <dbl>\\\\\n",
       "\\hline\n",
       "\tAAPL & -5631.736 & 11277.473 & 11319.61\\\\\n",
       "\tAMZN & -5969.654 & 11953.308 & 11995.45\\\\\n",
       "\tMSFT & -5217.575 & 10449.150 & 10491.29\\\\\n",
       "\tGOOGL & -5313.324 & 10640.647 & 10682.79\\\\\n",
       "\tBRK.A & -4275.199 &  8564.398 &  8606.54\\\\\n",
       "\tJPM & -5435.950 & 10885.900 & 10928.04\\\\\n",
       "\\end{tabular}\n"
      ],
      "text/markdown": [
       "\n",
       "A data.frame: 6 × 3\n",
       "\n",
       "| <!--/--> | log-likelihood &lt;dbl&gt; | AIC &lt;dbl&gt; | BIC &lt;dbl&gt; |\n",
       "|---|---|---|---|\n",
       "| AAPL | -5631.736 | 11277.473 | 11319.61 |\n",
       "| AMZN | -5969.654 | 11953.308 | 11995.45 |\n",
       "| MSFT | -5217.575 | 10449.150 | 10491.29 |\n",
       "| GOOGL | -5313.324 | 10640.647 | 10682.79 |\n",
       "| BRK.A | -4275.199 |  8564.398 |  8606.54 |\n",
       "| JPM | -5435.950 | 10885.900 | 10928.04 |\n",
       "\n"
      ],
      "text/plain": [
       "      log-likelihood AIC       BIC     \n",
       "AAPL  -5631.736      11277.473 11319.61\n",
       "AMZN  -5969.654      11953.308 11995.45\n",
       "MSFT  -5217.575      10449.150 10491.29\n",
       "GOOGL -5313.324      10640.647 10682.79\n",
       "BRK.A -4275.199       8564.398  8606.54\n",
       "JPM   -5435.950      10885.900 10928.04"
      ]
     },
     "metadata": {},
     "output_type": "display_data"
    }
   ],
   "source": [
    "# AIC, BIC and log-likelihood \n",
    "gof_df <- data.frame(gofind1)\n",
    "colnames(gof_df) <- c(\"log-likelihood\",\"AIC\",\"BIC\")\n",
    "rownames(gof_df) <- names(retdf[,2:ncol(retdf)])\n",
    "gof_df"
   ]
  },
  {
   "cell_type": "markdown",
   "id": "ac4662f9-35ed-498e-a066-7c47ae42941e",
   "metadata": {},
   "source": [
    "Visualize how log-returns, $R_t$ and standardized returns, $Z_t$ look like:"
   ]
  },
  {
   "cell_type": "code",
   "execution_count": 8,
   "id": "133ff18a-ec15-4df3-b4f8-f4dae2587f72",
   "metadata": {},
   "outputs": [],
   "source": [
    "GJRGARCHoutputs <- function(par, ret) {\n",
    "  # Conditional volatility: GJR-GARCH(1,1,1)\n",
    "  # Mean: unconditional mean\n",
    "  # Error distribution: Skewed-t of Hansen (1994) \n",
    "  TT <- length(ret)\n",
    "  \n",
    "  # Starting values:\n",
    "  rbar <- mean(ret)\n",
    "  condVar <- matrix(rep(0,TT),TT)\n",
    "  epsi <- matrix(rep(0,TT),TT)\n",
    "  z <- matrix(rep(0,TT),TT)\n",
    "  condVar[1] <- mean((ret-rbar)^2)\n",
    "  epsi[1] <- sqrt(condVar[1])\n",
    "  z[1] <- 1\n",
    "  \n",
    "  # Unconditional mean:\n",
    "  mu <- par[1]\n",
    "  \n",
    "  # Conditional variance:\n",
    "  # sigma_{t}^2 = omega + beta*sigma_{t-1}^2 + alpha*epsilon_{t-1}^2 + gamma*epsilon{t-1}^2*ind{z_{t-1}<0}\n",
    "  b0 <- par[2] # omega\n",
    "  b1 <- par[3] # beta\n",
    "  b2 <- par[4] # alpha\n",
    "  b3 <- par[5] # gamma\n",
    "    \n",
    "  # GJR-GARCH(1,1) :\n",
    "  for (t in 2 : TT)  {\n",
    "  condVar[t] <-  b0 + b1*condVar[t-1] + b2*epsi[t-1]^2 + b3*min(epsi[t-1],0)^2 # GJR-GARCH(1,1) \n",
    "  z[t] <- (ret[t]-mu)/sqrt(condVar[t])   \n",
    "  epsi[t] <- z[t]*sqrt(condVar[t]) \n",
    "  }\n",
    "  sigmaPrime <- sqrt( b0 + b1*tail(condVar,1) + b2*tail(epsi,1)^2 + b3*min(tail(epsi,1),0)^2 )\n",
    " \n",
    "  # Distribution parameters:\n",
    "  a <- tail(par,2) \n",
    "  nu <- a[1] # degrees of freedom\n",
    "  lambda <- a[2] # skewnes parameter\n",
    "\n",
    "  # Output\n",
    "  out <- list(z=z,condVar=condVar,sigmaPrime=sigmaPrime)\n",
    "  return(out)\n",
    "}"
   ]
  },
  {
   "cell_type": "code",
   "execution_count": 10,
   "id": "3a9ba88f-c7fa-4f2c-9100-cd61da6866c3",
   "metadata": {},
   "outputs": [
    {
     "data": {
      "image/png": "[encoded data removed]",
      "text/plain": [
       "plot without title"
      ]
     },
     "metadata": {
      "image/png": {
       "height": 420,
       "width": 420
      }
     },
     "output_type": "display_data"
    },
    {
     "data": {
      "image/png": "[encoded data removed]",
      "text/plain": [
       "plot without title"
      ]
     },
     "metadata": {
      "image/png": {
       "height": 420,
       "width": 420
      }
     },
     "output_type": "display_data"
    }
   ],
   "source": [
    "library(ggplot2)\n",
    "\n",
    "# Choose an asset:\n",
    "asset <- \"AMZN\"\n",
    "estPeriod <- 1000 # days\n",
    "\n",
    "out <- GJRGARCHoutputs(par=as.matrix(estimates_df[\"AMZN\",]), ret=as.matrix(tail(retdf[asset],estPeriod))) \n",
    "\n",
    "plotdf <- data.frame(tail(retdf[,\"date\"],estPeriod), tail(retdf[asset],estPeriod), out$z)\n",
    "                       \n",
    "names(plotdf) <- c(\"date\",\"r\",\"z\")\n",
    "rplot <- ggplot(plotdf, aes(x = date)) + \n",
    "  geom_line(aes(y = r), size = 0.3, color = \"darkblue\") +\n",
    "  labs(title = \"returns\", \n",
    "       #subtitle = print(\"Total sample\"),\n",
    "       x = \"date\",\n",
    "       y = \"r\" )\n",
    "\n",
    "zplot <- ggplot(plotdf, aes(x = date)) + \n",
    "  geom_line(aes(y = z), size = 0.3, color = \"darkred\") +\n",
    "  labs(title = \"standardized returns\", \n",
    "       #subtitle = print(\"Total sample\"),\n",
    "       x = \"date\",\n",
    "       y = \"z\" )\n",
    "\n",
    "rplot\n",
    "zplot"
   ]
  },
  {
   "cell_type": "code",
   "execution_count": 11,
   "id": "d75949a5-0aa9-439d-9531-9ab249829c1e",
   "metadata": {},
   "outputs": [
    {
     "data": {
      "text/plain": [
       "       r                  z           \n",
       " Min.   :-8.25350   Min.   :-4.90043  \n",
       " 1st Qu.:-0.86429   1st Qu.:-0.54249  \n",
       " Median : 0.13236   Median : 0.01696  \n",
       " Mean   : 0.07375   Mean   :-0.02156  \n",
       " 3rd Qu.: 1.09074   3rd Qu.: 0.50789  \n",
       " Max.   :12.69489   Max.   : 4.59464  "
      ]
     },
     "metadata": {},
     "output_type": "display_data"
    }
   ],
   "source": [
    " summary(plotdf[,2:3])"
   ]
  },
  {
   "cell_type": "markdown",
   "id": "a0895393-a56f-4b47-b2dc-6f613fc0cdcf",
   "metadata": {},
   "source": [
    "## 4. Dependence structure (R-Vine copula)\n",
    "### 4.1. Dependent uniforms\n",
    "Copula model input is $V_{i,t} = F(Z_{i,t})$, $i=1,2,3,...,d$."
   ]
  },
  {
   "cell_type": "code",
   "execution_count": 12,
   "id": "ceb14a79-1eba-4db8-90d1-02336f2adb94",
   "metadata": {},
   "outputs": [],
   "source": [
    "# Skewed-t CDF\n",
    "skewtcdf <- function(x, nu, lambda) {\n",
    "  # Compute the Hansen's skewed-t CDF\n",
    "  # USAGE:\n",
    "  #   P = skewtcdf(X,NU,LAMBDA)\n",
    "  \n",
    "  # INPUTS:\n",
    "  #   X      - Standardized T random variables, either scalar or column vector\n",
    "  #   nu     - Degree of freedom parameter (scalar)\n",
    "  #   lambda - Degree of freedom parameter (scalar) \n",
    "  \n",
    "  # OUTPUTS:\n",
    "  #   P      - Cumulative distribution evaluated at x\n",
    "  \n",
    "  # COMMENTS:\n",
    "  #   nu > 2\n",
    "  #   -.99 < lambda < .99  \n",
    "  \n",
    "  # REFERENCE:\n",
    "  #   [1] Hansen (1994), Intl.Econ.Rev. (35)\n",
    "  \n",
    "  c <- gamma((nu+1)/2)/(sqrt(pi*(nu-2))*gamma(nu/2))\n",
    "  a <- 4*lambda*c*((nu-2)/(nu-1))\n",
    "  b <- sqrt(1 + 3*lambda^2 - a^2)\n",
    "  \n",
    "  f1 <- which(x <  -a/b)\n",
    "  f2 <- which(x >= -a/b)\n",
    "  \n",
    "  y1 <- (b*x+a)/(1-lambda)*sqrt(nu/(nu-2))  \n",
    "  y2 <- (b*x+a)/(1+lambda)*sqrt(nu/(nu-2)) \n",
    "  \n",
    "  p = rep(NaN,length(x))\n",
    "  p[f1] <- (1-lambda)*pt(y1[f1], nu, lower.tail = TRUE, log.p = FALSE)\n",
    "  p[f2] <- ((1-lambda)/2  + (1+lambda)*(pt(y2[f2], nu, lower.tail = TRUE, log.p = FALSE)-0.5))\n",
    "  \n",
    "  return(p) \n",
    "} "
   ]
  },
  {
   "cell_type": "code",
   "execution_count": 13,
   "id": "958db36e-cbb3-429c-ad57-ea98367b83ed",
   "metadata": {},
   "outputs": [
    {
     "name": "stdout",
     "output_type": "stream",
     "text": [
      "      AAPL                AMZN                MSFT          \n",
      " Min.   :0.0002077   Min.   :0.0003202   Min.   :0.0000492  \n",
      " 1st Qu.:0.2590184   1st Qu.:0.2448353   1st Qu.:0.2534846  \n",
      " Median :0.4840498   Median :0.4967912   Median :0.4931586  \n",
      " Mean   :0.4977839   Mean   :0.4994362   Mean   :0.5001561  \n",
      " 3rd Qu.:0.7536035   3rd Qu.:0.7544287   3rd Qu.:0.7540477  \n",
      " Max.   :0.9996391   Max.   :0.9999184   Max.   :0.9999257  \n",
      "     GOOGL               BRK.A                JPM           \n",
      " Min.   :0.0004261   Min.   :0.0001616   Min.   :0.0001879  \n",
      " 1st Qu.:0.2528895   1st Qu.:0.2524948   1st Qu.:0.2526731  \n",
      " Median :0.4934967   Median :0.5001526   Median :0.4938428  \n",
      " Mean   :0.5001249   Mean   :0.5015749   Mean   :0.4992113  \n",
      " 3rd Qu.:0.7507267   3rd Qu.:0.7497685   3rd Qu.:0.7506333  \n",
      " Max.   :0.9999627   Max.   :0.9998938   Max.   :0.9998087  \n"
     ]
    },
    {
     "data": {
      "text/html": [
       "<table class=\"dataframe\">\n",
       "<caption>A matrix: 6 × 6 of type dbl</caption>\n",
       "<thead>\n",
       "\t<tr><th scope=col>AAPL</th><th scope=col>AMZN</th><th scope=col>MSFT</th><th scope=col>GOOGL</th><th scope=col>BRK.A</th><th scope=col>JPM</th></tr>\n",
       "</thead>\n",
       "<tbody>\n",
       "\t<tr><td>0.875342951</td><td>0.88353580</td><td>0.87700131</td><td>0.890792897</td><td>0.866838562</td><td>0.868976105</td></tr>\n",
       "\t<tr><td>0.106401791</td><td>0.64646269</td><td>0.07475900</td><td>0.614357043</td><td>0.997933437</td><td>0.001563394</td></tr>\n",
       "\t<tr><td>0.007321034</td><td>0.01499829</td><td>0.01984519</td><td>0.003420102</td><td>0.008790664</td><td>0.114181185</td></tr>\n",
       "\t<tr><td>0.847076666</td><td>0.29909725</td><td>0.73385250</td><td>0.178976508</td><td>0.163804875</td><td>0.508293617</td></tr>\n",
       "\t<tr><td>0.714655017</td><td>0.33311203</td><td>0.62050135</td><td>0.564286489</td><td>0.208601825</td><td>0.228068363</td></tr>\n",
       "\t<tr><td>0.650340835</td><td>0.90550328</td><td>0.61958882</td><td>0.458723683</td><td>0.988085045</td><td>0.794831938</td></tr>\n",
       "</tbody>\n",
       "</table>\n"
      ],
      "text/latex": [
       "A matrix: 6 × 6 of type dbl\n",
       "\\begin{tabular}{llllll}\n",
       " AAPL & AMZN & MSFT & GOOGL & BRK.A & JPM\\\\\n",
       "\\hline\n",
       "\t 0.875342951 & 0.88353580 & 0.87700131 & 0.890792897 & 0.866838562 & 0.868976105\\\\\n",
       "\t 0.106401791 & 0.64646269 & 0.07475900 & 0.614357043 & 0.997933437 & 0.001563394\\\\\n",
       "\t 0.007321034 & 0.01499829 & 0.01984519 & 0.003420102 & 0.008790664 & 0.114181185\\\\\n",
       "\t 0.847076666 & 0.29909725 & 0.73385250 & 0.178976508 & 0.163804875 & 0.508293617\\\\\n",
       "\t 0.714655017 & 0.33311203 & 0.62050135 & 0.564286489 & 0.208601825 & 0.228068363\\\\\n",
       "\t 0.650340835 & 0.90550328 & 0.61958882 & 0.458723683 & 0.988085045 & 0.794831938\\\\\n",
       "\\end{tabular}\n"
      ],
      "text/markdown": [
       "\n",
       "A matrix: 6 × 6 of type dbl\n",
       "\n",
       "| AAPL | AMZN | MSFT | GOOGL | BRK.A | JPM |\n",
       "|---|---|---|---|---|---|\n",
       "| 0.875342951 | 0.88353580 | 0.87700131 | 0.890792897 | 0.866838562 | 0.868976105 |\n",
       "| 0.106401791 | 0.64646269 | 0.07475900 | 0.614357043 | 0.997933437 | 0.001563394 |\n",
       "| 0.007321034 | 0.01499829 | 0.01984519 | 0.003420102 | 0.008790664 | 0.114181185 |\n",
       "| 0.847076666 | 0.29909725 | 0.73385250 | 0.178976508 | 0.163804875 | 0.508293617 |\n",
       "| 0.714655017 | 0.33311203 | 0.62050135 | 0.564286489 | 0.208601825 | 0.228068363 |\n",
       "| 0.650340835 | 0.90550328 | 0.61958882 | 0.458723683 | 0.988085045 | 0.794831938 |\n",
       "\n"
      ],
      "text/plain": [
       "     AAPL        AMZN       MSFT       GOOGL       BRK.A       JPM        \n",
       "[1,] 0.875342951 0.88353580 0.87700131 0.890792897 0.866838562 0.868976105\n",
       "[2,] 0.106401791 0.64646269 0.07475900 0.614357043 0.997933437 0.001563394\n",
       "[3,] 0.007321034 0.01499829 0.01984519 0.003420102 0.008790664 0.114181185\n",
       "[4,] 0.847076666 0.29909725 0.73385250 0.178976508 0.163804875 0.508293617\n",
       "[5,] 0.714655017 0.33311203 0.62050135 0.564286489 0.208601825 0.228068363\n",
       "[6,] 0.650340835 0.90550328 0.61958882 0.458723683 0.988085045 0.794831938"
      ]
     },
     "metadata": {},
     "output_type": "display_data"
    }
   ],
   "source": [
    "marginparnames <- c(\"mu\",\"omega\",\"beta\",\"alpha\",\"gamma\",\"nu\",\"lambda\")\n",
    "v <- list()\n",
    "d <- 6 # portfolio dimension (number of stocks)\n",
    "dd <- d + 1\n",
    "\n",
    "for (i in names(retdf[,2:dd])){\n",
    "  par0 <- as.matrix(estimates_df[i,])\n",
    "  ret <- as.matrix(retdf[,i])\n",
    "  out <- GJRGARCHoutputs(par=as.numeric(par0), ret=ret) \n",
    "  z <- as.matrix(out$z)\n",
    "  v[[i]] <- skewtcdf(z, as.numeric(par0[i,\"nu\"]), as.numeric(par0[i,\"lambda\"]))\n",
    "}\n",
    "\n",
    "vdata <- matrix(rep(NaN,d*nrow(retdf)), nrow(retdf))\n",
    "colnames(vdata) <- names(retdf[,2:dd]) \n",
    "for (i in names(retdf[,2:dd])) {\n",
    "  vdata[,i] <- v[[i]]\n",
    "}\n",
    " \n",
    "print(summary(vdata)) # vdata represent probabilities\n",
    "\n",
    "head(vdata)"
   ]
  },
  {
   "cell_type": "markdown",
   "id": "e3b34bd9-1681-469c-a3f1-86d5ca36420c",
   "metadata": {},
   "source": [
    "### 4.2. R-Vine copula parameter estimation"
   ]
  },
  {
   "cell_type": "code",
   "execution_count": 16,
   "id": "71a2df9d-ccd3-49fe-ba96-2b5927a87fb7",
   "metadata": {},
   "outputs": [],
   "source": [
    "#install.packages(\"VineCopula\")\n",
    "library(VineCopula)\n",
    "RVineStruct <- RVineStructureSelect(data=vdata, familyset = NA, type=\"RVine\",\n",
    "                                      selectioncrit = \"BIC\",\n",
    "                                      indeptest = TRUE, level = 0.05,\n",
    "                                      trunclevel = NA, progress = FALSE,\n",
    "                                      weights = NA,\n",
    "                                      treecrit = \"tau\",\n",
    "                                      rotations = TRUE,\n",
    "                                      se = FALSE,\n",
    "                                      presel = FALSE,\n",
    "                                      method = \"mle\",\n",
    "                                      cores = 1)"
   ]
  },
  {
   "cell_type": "code",
   "execution_count": 17,
   "id": "c3ea314a-4e68-4f2a-b625-449cafe1c7e5",
   "metadata": {},
   "outputs": [
    {
     "data": {
      "text/plain": [
       "R-vine copula with the following pair-copulas:\n",
       "Tree 1:\n",
       "4,2  t (par = 0.63, par2 = 4.87, tau = 0.44) \n",
       "4,1  Survival Gumbel (par = 1.53, tau = 0.35) \n",
       "3,4  t (par = 0.61, par2 = 4.06, tau = 0.42) \n",
       "5,3  t (par = 0.44, par2 = 5.57, tau = 0.29) \n",
       "6,5  t (par = 0.67, par2 = 6.79, tau = 0.47) \n",
       "\n",
       "Tree 2:\n",
       "3,2;4  Survival BB8 (par = 2.22, par2 = 0.71, tau = 0.19) \n",
       "3,1;4  Frank (par = 1.89, tau = 0.2) \n",
       "5,4;3  Survival BB8 (par = 1.9, par2 = 0.77, tau = 0.17) \n",
       "6,3;5  Survival Gumbel (par = 1.11, tau = 0.1) \n",
       "\n",
       "Tree 3:\n",
       "1,2;3,4  Frank (par = 0.98, tau = 0.11) \n",
       "5,1;3,4  Frank (par = 0.7, tau = 0.08) \n",
       "6,4;5,3  t (par = 0.11, par2 = 15.4, tau = 0.07) \n",
       "\n",
       "Tree 4:\n",
       "5,2;1,3,4  Frank (par = 0.36, tau = 0.04) \n",
       "6,1;5,3,4  Frank (par = 0.37, tau = 0.04) \n",
       "\n",
       "Tree 5:\n",
       "6,2;5,1,3,4  Independence \n",
       "\n",
       "---\n",
       "1 <-> AAPL,   2 <-> AMZN,   3 <-> MSFT,\n",
       "4 <-> GOOGL,   5 <-> BRK.A,   6 <-> JPM"
      ]
     },
     "metadata": {},
     "output_type": "display_data"
    }
   ],
   "source": [
    "# Let's take a look to the C-Vine structure:\n",
    "RVineStruct  "
   ]
  },
  {
   "cell_type": "markdown",
   "id": "743fa399-b96e-49ef-9849-65b8c45cc3c0",
   "metadata": {},
   "source": [
    "## 5. Portfolio optimization\n",
    "Let define the portfolio return by $$R_p(\\mathbf{w}) = \\sum_{i=1}^{d}w_i R_i,$$ were $\\mathbf{w}=(w_1,...,w_d)'$, $w_1 + ... + w_d = 1$ and $w_i \\in [0,1]$ for $i=1,2,...,d$. The portfolio expected shortfall at coverage level $\\alpha$ is given by $$ ES_\\alpha(R_p)=\\mathbb{E}(R_p(\\mathbf{w})|R_p(\\mathbf{w})<q_\\alpha),$$ where $\\alpha \\in(0,1)$ and $q_\\alpha$ denotes the $\\alpha$-quantile of $R_p$.\n",
    "\n",
    "According to Rockafellar and Uryasev (2000), the optimal portfolio allocation corresponds to the vector of weights $\\mathbf{w}=(w_1,...,w_d)'$ that solves the following problem: \n",
    " $$\\left.  \\begin{array}{c}\n",
    " \\min_{\\mathbf{w}} - ES_{\\alpha}(w_1 R_1 + ... + w_d R_d)  \\\\ \n",
    " \\text{s.t.} \n",
    " \\left\\{ \n",
    " \\begin{array}{c}\n",
    " w_1 \\geq 0,..., w_d \\geq 0 \\\\\n",
    " w_1 + ... + w_d = 1 \\\\\n",
    " w_1 \\mu_1 + ... + w_d\\mu_d = r_0\n",
    " \\end{array} \\right.\n",
    " \\end{array} \\right\\}$$\n",
    " \n",
    "That is, we choose the portfolio allocation in such a way that market risk (measured by the ES) is minimized and $r_0$ is an investor's decision. The portfolio allocation that minimizes risk without considering $r_0$ is called global minimum wisk (GMR) portfolio."
   ]
  },
  {
   "cell_type": "code",
   "execution_count": 20,
   "id": "1692926f-4652-479a-94a9-431b7dea9ea0",
   "metadata": {},
   "outputs": [],
   "source": [
    "N = 100000 \n",
    "alpha = 0.05 # coverage level for expected shortfall\n",
    "w <- matrix(rep(NaN,d),1)"
   ]
  },
  {
   "cell_type": "code",
   "execution_count": 21,
   "id": "09e087b7-8b8d-4ca2-9218-721f26db3aef",
   "metadata": {},
   "outputs": [],
   "source": [
    "# Simulate dependent uniforms, v, from the copula\n",
    "RVM <- RVineMatrix(Matrix = RVineStruct$Matrix, family = RVineStruct$family,\n",
    "                     par = RVineStruct$par, par2 = RVineStruct$par2,\n",
    "                     names=names(retdf[,2:dd]))\n",
    "\n",
    "vdata <- RVineSim(N, RVM, U = NULL)"
   ]
  },
  {
   "cell_type": "code",
   "execution_count": 22,
   "id": "605314b6-db95-45b3-a775-e95bfc02647c",
   "metadata": {},
   "outputs": [],
   "source": [
    "# Skewed-t inverse\n",
    "skewtinv <- function(p, nu, lambda) {\n",
    "  # USAGE:\n",
    "  #   X=skewtinv(P,V,LAMBDA)\n",
    "  \n",
    "  # INPUTS:\n",
    "  #   P      - Values to be inverted, P in [0,1]\n",
    "  #   nu     - Degree of freedom parameter (scalar)\n",
    "  #   lambda - Degree of freedom parameter (scalar) \n",
    "  \n",
    "  # OUTPUTS:\n",
    "  #   X      - Skewed T distributed random variables corresponding to P\n",
    "  \n",
    "  # COMMENTS:\n",
    "  #   nu > 2\n",
    "  #   -.99 < lambda < .99  \n",
    "  \n",
    "  # REFERENCE:\n",
    "  #   [1] Hansen (1994), Intl.Econ.Rev. (35)\n",
    "  \n",
    "  c <- gamma((nu+1)/2)/(sqrt(pi*(nu-2))*gamma(nu/2))\n",
    "  a <- 4*lambda*c*((nu-2)/(nu-1))\n",
    "  b <- sqrt(1 + 3*lambda^2 - a^2)\n",
    "  \n",
    "  f1 <- which(p <  (1-lambda)/2)\n",
    "  f2 <- which(p >= (1-lambda)/2)\n",
    "  \n",
    "  inv1 <- ((1-lambda)/b)*sqrt((nu-2)/nu)*qt(p[f1]/(1-lambda),nu) - a/b\n",
    "  inv2 <- ((1+lambda)/b)*sqrt((nu-2)/nu)*qt(0.5+1/(1+lambda)*(p[f2]-(1-lambda)/2),nu) - a/b\n",
    "  \n",
    "  x <- rep(NaN,length(p))\n",
    "  x[f1] <- inv1\n",
    "  x[f2] <- inv2\n",
    "  return(x) \n",
    "}  "
   ]
  },
  {
   "cell_type": "code",
   "execution_count": 23,
   "id": "c790a7ab-41ca-4746-853e-801e12074a2d",
   "metadata": {},
   "outputs": [],
   "source": [
    "# Recover z by using the fact that z = F^(-1)(v) \n",
    "zdata <- matrix(rep(NaN,N*d),N)\n",
    "colnames(zdata) <- names(retdf[,2:dd])\n",
    "for (i in names(retdf[,2:dd])){\n",
    "  zdata[,i] <- skewtinv(vdata[,i],as.numeric(estimates_df[i,\"nu\"]),as.numeric(estimates_df[i,\"lambda\"]))\n",
    "}"
   ]
  },
  {
   "cell_type": "code",
   "execution_count": 24,
   "id": "e4d592f5-c26c-4068-bf8e-2dd2b07fd162",
   "metadata": {},
   "outputs": [],
   "source": [
    "# Recover r by using the fact that r = mu + ht*z\n",
    "rdata <- matrix(rep(NaN,N*d),N)\n",
    "colnames(rdata) <- names(retdf[,2:dd])\n",
    "for (i in names(retdf[,2:dd])){\n",
    "  par0 <- as.numeric(estimates_df[i,])\n",
    "  ret <- as.numeric(retdf[,i])\n",
    "  out <- GJRGARCHoutputs(par=as.numeric(par0), ret=ret) \n",
    "  ht <- as.numeric(out$sigmaPrime)\n",
    "  rdata[,i] <- estimates_df[i,\"mu\"] + sqrt(ht)*zdata[,i]\n",
    "}"
   ]
  },
  {
   "cell_type": "code",
   "execution_count": 25,
   "id": "813fb276-57d1-48c0-a19d-677b6a345e75",
   "metadata": {},
   "outputs": [],
   "source": [
    "# Objective function (expected shortfall)\n",
    "ES_RockafellarUryasev2000 <- function(x0, rdata, alpha) {\n",
    "  m = ncol(rdata)\n",
    "  v = x0[1]\n",
    "  w = matrix(x0[1:m+1])\n",
    "  rp = t(w)%*%t(rdata)\n",
    "  di = pmax(0, v-rp)\n",
    "  ES = - (1/alpha)*mean(di) + v\n",
    "  ES = - ES\n",
    "  return(ES)\n",
    "}"
   ]
  },
  {
   "cell_type": "code",
   "execution_count": 26,
   "id": "38b9ba44-4933-4018-b2fd-10aee3073699",
   "metadata": {},
   "outputs": [],
   "source": [
    "# Non-linear optimization\n",
    "# Starting values: \n",
    "v0 <- -0.1\n",
    "w0 <- rep(1,d)*(1/d)  \n",
    "x0 <- matrix(c(v0,w0),1)\n",
    "\n",
    "# Optimization restrictions:\n",
    "lb <- c(-100, rep(0,d))  # lower bounds for x = (v,w1, ... ,wm)\n",
    "ub <- c( 100, rep(1,d))  # upper bounds for x = (v,w1, ... ,wm)\n",
    "A  <- - matrix(c(0, estimates_df[ ,\"mu\"]),1)\n",
    "b  <- - min(estimates_df[ ,\"mu\"])  \n",
    "Aeq  <- matrix(c(0, rep(1,d)),1) \n",
    "beq   <- 1 \n",
    "\n",
    "# Global minimum risk portfolio:\n",
    "x1 <- fmincon(x0=x0,\n",
    "              rdata=rdata,\n",
    "              alpha=alpha, # coverage level for expected shortfall \n",
    "              ES_RockafellarUryasev2000, # <-- objective function defined before\n",
    "              ub=ub, # parameter upper bounds\n",
    "              lb=lb, # parameter lower bounds\n",
    "              A=A,   # inequality restrictions\n",
    "              b=b,   # inequality restrictions\n",
    "              Aeq=Aeq,  # equality restrictions\n",
    "              beq=beq,  # equality restrictions\n",
    "              tol = 1e-05)\n",
    "\n",
    "# Final value  \n",
    "ES <- - x1$value \n",
    "\n",
    "# Variables final values\n",
    "xw <- x1$par\n",
    "w <- tail(xw, d) # corresponding weights for the minimum E(r) portfolio\n",
    "ExpRet <- as.numeric(w%*%estimates_df[ ,\"mu\"])"
   ]
  },
  {
   "cell_type": "code",
   "execution_count": 27,
   "id": "529018c3-5cc3-4ff6-9746-45d8743661ce",
   "metadata": {},
   "outputs": [],
   "source": [
    "# Efficient frontier\n",
    "points = 50 # for grid that will be used in the efficient frontier\n",
    "gridER <- - linspace(ExpRet, max(estimates_df[ ,\"mu\"])-0.001, points)\n",
    "\n",
    "for (i in 2 : points) {\n",
    "  # Set right hand side coefficients\n",
    "  b  <- gridER[i]\n",
    "  x1 <- fmincon(x0=x0,\n",
    "                rdata=rdata,\n",
    "                alpha=alpha,\n",
    "                ES_RockafellarUryasev2000,\n",
    "                ub=ub,lb=lb,\n",
    "                A=A,b=b,\n",
    "                Aeq=Aeq,beq=beq,\n",
    "                tol=1e-04, maxiter = 10000)\n",
    "  ES <- rbind(ES,-x1$value)\n",
    "  xw <- x1$par\n",
    "  w <- rbind(w,tail(xw, d))\n",
    "  ExpRet <- rbind(ExpRet,w[i, ]%*%estimates_df[ ,\"mu\"]) \n",
    "}"
   ]
  },
  {
   "cell_type": "code",
   "execution_count": 28,
   "id": "a6bc2ef1-c28b-4905-99e2-7cc17759f7da",
   "metadata": {},
   "outputs": [
    {
     "data": {
      "image/png": "[encoded data removed]",
      "text/plain": [
       "plot without title"
      ]
     },
     "metadata": {
      "image/png": {
       "height": 420,
       "width": 420
      }
     },
     "output_type": "display_data"
    }
   ],
   "source": [
    "# Efficient Frontier plot\n",
    "ES_EF <- ES\n",
    "Er_EF <- ExpRet\n",
    "wdf_NLP <- data.frame(w)\n",
    "EFdf_NLP <- data.frame(matrix(c(-ES_EF,Er_EF),ncol = 2))\n",
    "colnames(EFdf_NLP) <-  c(\"ES\", \"Er\")\n",
    "\n",
    "EFplot <- ggplot(EFdf_NLP,aes(x = ES, y = Er)) +\n",
    "  geom_point(size=1, color=\"red\") +\n",
    "  geom_line(color=\"red\")+\n",
    "  geom_point(size=2)+\n",
    "  labs(title = \"Efficient Frontier\",\n",
    "       subtitle = \"Non-Linnear Programming\",\n",
    "       #caption = \" \",\n",
    "       #tag = \"Figure 1\",\n",
    "       x = \"Market risk (-ES)\",\n",
    "       y = \"Expected portfolio return\")\n",
    "EFplot + theme_bw(base_line_size = 0.3)"
   ]
  },
  {
   "cell_type": "markdown",
   "id": "9d99dd7c-f342-4ed4-b306-2a2bcc3c3a43",
   "metadata": {},
   "source": [
    "The Efficient Frontier illustrates the risk/return relationship, i.e., the higher the expected return, the higher the risk. Each dot represents a different portfolio. For instance, the first dot (from left to right) represents the expected return and market risk associated to the Global Minimum Risk portfolio, which results from the following investment strategy:"
   ]
  },
  {
   "cell_type": "code",
   "execution_count": 29,
   "id": "277fd8e2-8935-41af-a953-4e25bc00f4bf",
   "metadata": {},
   "outputs": [
    {
     "name": "stdout",
     "output_type": "stream",
     "text": [
      "         AAPL AMZN MSFT GOOGL BRK.A   JPM\n",
      "weights 24.49 2.43 4.51     0    57 11.58\n"
     ]
    }
   ],
   "source": [
    "# Global Minimum Risk portfolio\n",
    "GMR <- wdf_NLP[1,]*100\n",
    "colnames(GMR) <- names(retdf[,2:dd])\n",
    "rownames(GMR) <- \"weights\"\n",
    "print(round(GMR,2))"
   ]
  },
  {
   "cell_type": "markdown",
   "id": "78db24bb-c7ba-4110-8dab-16d1f9d9c04b",
   "metadata": {},
   "source": [
    "The GMR portfolio would by given by investing the higher proportion of total wealth, e.g., approximately a 57%, in BRK.A, a 24.49% in APPL, a 4.51% in MSFT, a 11.58% in JPM, a 2.43% in AMZN and nothing in GOOGL. According to this strategy, the expected shortfall with a coverage level of 5% and the expected portfolio return would be given by: "
   ]
  },
  {
   "cell_type": "code",
   "execution_count": 33,
   "id": "198e6639-2287-46e4-8b3a-4c7fa37dd9f3",
   "metadata": {},
   "outputs": [
    {
     "name": "stdout",
     "output_type": "stream",
     "text": [
      "              Expected shortfall (5%) Expected Return\n",
      "GMR portfolio                   -1.93            0.07\n"
     ]
    }
   ],
   "source": [
    "GMR_EF <- data.frame(ES_EF[1],Er_EF[1])\n",
    "colnames(GMR_EF) <- c(\"Expected shortfall (5%)\",\"Expected Return\")\n",
    "rownames(GMR_EF) <- \"GMR portfolio\"\n",
    "print(round(GMR_EF,2))"
   ]
  },
  {
   "cell_type": "markdown",
   "id": "24c1b95b-2582-4240-aa94-1dbe52769f52",
   "metadata": {},
   "source": [
    "### References\n",
    "* Aas, K., Czado, C., Frigessi, A., Bakken, H. (2009). Pair-copula constructions of multiple dependence. Insurance: Mathematics and Economics 44 (2), 182– 198.\n",
    "\n",
    "* Hansen, B. (1994). Autoregressive Conditional Density Estimation. International Economic Review, 35(3), 705-730. doi:10.2307/2527081\n",
    "\n",
    "* Rockafellar and Uryasev (2000). Optimization of conditional value-at-risk. Journal of Risk 3: 21-41."
   ]
  }
 ],
 "metadata": {
  "kernelspec": {
   "display_name": "R",
   "language": "R",
   "name": "ir"
  },
  "language_info": {
   "codemirror_mode": "r",
   "file_extension": ".r",
   "mimetype": "text/x-r-source",
   "name": "R",
   "pygments_lexer": "r",
   "version": "4.1.2"
  }
 },
 "nbformat": 4,
 "nbformat_minor": 5
}
