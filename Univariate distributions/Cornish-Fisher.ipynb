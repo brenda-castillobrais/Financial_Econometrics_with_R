{
 "cells": [
  {
   "cell_type": "markdown",
   "id": "5934c507",
   "metadata": {},
   "source": [
    "# Cornish-Fisher expansion (fourth order)\n",
    "\n",
    "We follow here the specification of the Cornish-Fisher expansion described in Aboura and Maillard (2016). A random variable $Y$ follows a two-parameter Cornish-Fisher distribution (a CF distribution, for short) with parameters $\\psi _{1}$ and $\\psi _{2}$ if\n",
    "\n",
    "\\begin{equation}\n",
    "Y = a_{0}(\\psi _{1},\\psi _{2})+a_{1}(\\psi _{1},\\psi _{2})W+a_{2}(\\psi\n",
    "_{1},\\psi _{2})W^{2}+a_{3}(\\psi _{1},\\psi _{2})W^{3},  \\label{Cornish}\n",
    "\\end{equation}\n",
    "where $W$ is a standard normal random variable, $\\psi _{1},$ $\\psi _{2}$ are\n",
    "parameters such that \n",
    "\n",
    "\\begin{equation*}\n",
    "\\left \\vert \\psi _{1}\\right \\vert <6(\\sqrt{2}-1)\\approx 2.4853\n",
    "\\end{equation*}\n",
    "\n",
    "and \n",
    "\\begin{equation*}\n",
    "\\psi _{2}\\in \\left( \\frac{36+11\\psi _{1}^{2}-\\sqrt{\\psi _{1}^{4}-216\\psi\n",
    "_{1}^{2}+1296}}{9},\\frac{36+11\\psi _{1}^{2}+\\sqrt{\\psi _{1}^{4}-216\\psi\n",
    "_{1}^{2}+1296}}{9}\\right) ,\n",
    "\\end{equation*}\n",
    "\n",
    "and we denote $a_{0}(\\psi _{1},\\psi _{2})=-\\psi _{1}/6,$ $a_{1}(\\psi_{1},\\psi _{2})=1-\\psi _{2}/8+5\\psi _{1}^{2}/36,$ $a_{2}(\\psi _{1},\\psi_{2})=\\psi _{1}/6$ and $a_{3}(\\psi _{1},\\psi _{2})=\\psi _{2}/24-\\psi_{1}^{2}/18$. For simplicity, hereafter we write $a_{j}$ instead of $a_{j}(\\psi _{1},\\psi _{2})$. Note that the conditions on $\\psi _{1}$ and $\\psi _{2}$ are introduced to guarantee that the transformation from $W$ to $Y $ is one-to-one. \n",
    "\n",
    "Denote $$h(W):=a_{0}+a_{1}W+a_{2}W^{2}+a_{3}W^{3}.$$"
   ]
  },
  {
   "cell_type": "markdown",
   "id": "dae49141",
   "metadata": {},
   "source": [
    "# CDF\n",
    "\n",
    "The cdf of $Y$ is $$F_{Y}(y\\mid \\psi _{1},\\psi _{2})=\\Phi(h^{-1}(y)).$$"
   ]
  },
  {
   "cell_type": "code",
   "execution_count": 104,
   "id": "b24afc8c",
   "metadata": {},
   "outputs": [],
   "source": [
    "library('GoFKernel')\n",
    "\n",
    "# Cornish-Fisher cdf\n",
    "CFcdf <- function(y,par1,par2){\n",
    "    F <- NULL\n",
    "    a0 <- -par1/6 \n",
    "    a1 <- 1-par2/8+(5/36)*par1^2  \n",
    "    a2 <- par1/6\n",
    "    a3 <- par2/24-(par1^2)/18 \n",
    "    h <- function(x){a0+a1*x+a2*x^2+a3*x^3}\n",
    "    hinv <- inverse(h)\n",
    "    for (i in 1:length(y)){\n",
    "        F <- rbind(F,pnorm(hinv(y[i])))     \n",
    "    } \n",
    "    return(F)\n",
    "}"
   ]
  },
  {
   "cell_type": "markdown",
   "id": "3f749390",
   "metadata": {},
   "source": [
    " ## CDF visualization"
   ]
  },
  {
   "cell_type": "code",
   "execution_count": 108,
   "id": "f8710297",
   "metadata": {},
   "outputs": [
    {
     "data": {
      "image/png": "[encoded data removed]",
      "text/plain": [
       "plot without title"
      ]
     },
     "metadata": {
      "image/png": {
       "height": 420,
       "width": 600
      }
     },
     "output_type": "display_data"
    }
   ],
   "source": [
    "library(pracma) \n",
    "library(ggplot2)\n",
    " \n",
    "y <- seq(from = -4, to = 4, by = 0.001)\n",
    " \n",
    "F1 <- CFcdf(y,-1.36,4)\n",
    "F2 <- CFcdf(y, 1.36,4)\n",
    "F3 <- CFcdf(y,0,3)\n",
    " \n",
    "df <- data.frame(cbind(y,F1,F2,F3))\n",
    "colnames(df) <- c(\"y\",\"F1\",\"F2\",\"F3\")\n",
    "\n",
    "sk <- c(\"negative skewness\" = \"red\",\"positive skewness\"=\"darkgreen\", \"symmetric\"=\"darkblue\")\n",
    "ewfigure <- ggplot(df, aes(x = y)) +\n",
    "  geom_line(aes(y = F1, color=\"negative skewness\"), linetype = \"solid\", size = 1.3) +\n",
    "  geom_line(aes(y = F2, color=\"positive skewness\"), linetype = \"solid\", size = 1.3) +\n",
    "  geom_line(aes(y = F3, color=\"symmetric\"), linetype = \"solid\", size = 1.3) +\n",
    "  labs(title = \"Cornish Fisher distribution\",\n",
    "       #subtitle =  ,\n",
    "       color = \"skewness\",\n",
    "       y = \"F(y)\",\n",
    "       x = \"y\") +\n",
    "  scale_color_manual(values = sk)\n",
    "options(repr.plot.width=10, repr.plot.height=7)\n",
    "ewfigure +  theme_bw(base_line_size = 0.1)"
   ]
  },
  {
   "cell_type": "markdown",
   "id": "c8501f12",
   "metadata": {},
   "source": [
    "# PDF\n",
    "\n",
    "The pdf of $Y$ is\n",
    "\n",
    "\\begin{equation*}\n",
    "f_{Y}(y\\mid \\psi _{1},\\psi _{2})=\\frac{\\phi (d(y,\\psi _{1},\\psi _{2}))}{(\\frac{\\psi _{2}}{8}-\\frac{\\psi _{1}^{2}}{6})d(y,\\psi _{1},\\psi _{2})^{2}+\\frac{\\psi _{1}}{3}d(y,\\psi _{1},\\psi _{2})+1-\\frac{\\psi _{2}}{8}+\\frac{5\\psi _{1}^{2}}{36}}.\n",
    "\\end{equation*}\n",
    "\n",
    "where $\\phi (\\cdot )$ denotes the standard normal pdf, \n",
    "\\begin{equation*}\n",
    "d(y,\\psi _{1},\\psi _{2})\\equiv -\\frac{a_{2}}{3a_{3}}+\\sqrt[3]{-\\frac{\n",
    "q(y,\\psi _{1},\\psi _{2})}{2}+\\sqrt{\\Delta (y,\\psi _{1},\\psi _{2})}}+\\sqrt[3]{\n",
    "-\\frac{q(y,\\psi _{1},\\psi _{2})}{2}-\\sqrt{\\Delta (y,\\psi _{1},\\psi _{2})}},\n",
    "\\end{equation*}\n",
    "\\begin{equation*}\n",
    "q(y,\\psi _{1},\\psi _{2})\\equiv \\frac{%\n",
    "2a_{2}^{3}-9a_{1}a_{2}a_{3}+27a_{3}^{2}(a_{0}-y)}{27a_{3}^{3}},\\text{ and}\n",
    "\\end{equation*}\n",
    "\\begin{equation*}\n",
    "\\Delta (y,\\psi _{1},\\psi _{2})\\equiv \\frac{q(y,\\psi _{1},\\psi _{2})^{2}}{4}+%\n",
    "\\frac{(3a_{1}a_{3}-a_{2}^{2})^{3}}{729a_{3}^{6}}.\n",
    "\\end{equation*}\n",
    "\n",
    "\n",
    "m$_{Y}=0$ and \n",
    "\\begin{equation*}\n",
    "\\text{v}_{Y}=1+\\frac{1}{96}\\psi _{2}^{2}+\\frac{25}{1296}\\psi _{1}^{4}-\\frac{1%\n",
    "}{36}\\psi _{2}\\psi _{1}^{2}.\n",
    "\\end{equation*}"
   ]
  },
  {
   "cell_type": "code",
   "execution_count": 26,
   "id": "974d48ce",
   "metadata": {},
   "outputs": [],
   "source": [
    "library(pracma) # the function requires this package\n",
    "\n",
    "CFpdf <- function(y,par1,par2){\n",
    "\n",
    "    a0 <- -par1/6 \n",
    "    a1 <- 1-par2/8+(5/36)*par1^2  \n",
    "    a2 <- par1/6\n",
    "    a3 <- par2/24-(par1^2)/18 \n",
    "\n",
    "    A <- (2*a2^3 - 9*a1*a2*a3 + 27*(a3^2)*(a0-y))/(27*a3^3)  \n",
    "    B <- (A^2)/4 + ((3*a1*a3 - a2^2)^3)/(729*a3^6)  \n",
    "    C <- -a2/(3*a3) + nthroot(-0.5*A + (B)^(1/2),3)  + nthroot((-0.5*A - (B)^(1/2)),3)  \n",
    "\n",
    "    num <- dnorm(C) ;\n",
    "    den <- (par2/8 - (par1^2)/6)*(C^2) + (par1/3)*C + 1 - par2/8 + (5*(par1^2))/36 \n",
    "\n",
    "    f = num/den \n",
    "    return(f)\n",
    "    }"
   ]
  },
  {
   "cell_type": "markdown",
   "id": "238cedd8",
   "metadata": {},
   "source": [
    "## Density visualization"
   ]
  },
  {
   "cell_type": "code",
   "execution_count": 67,
   "id": "9a2df92e",
   "metadata": {},
   "outputs": [
    {
     "data": {
      "image/png": "[encoded data removed]",
      "text/plain": [
       "plot without title"
      ]
     },
     "metadata": {
      "image/png": {
       "height": 420,
       "width": 600
      }
     },
     "output_type": "display_data"
    }
   ],
   "source": [
    "library(pracma) \n",
    "library(ggplot2)\n",
    " \n",
    "y <- seq(from = -5, to = 5, by = 0.01)\n",
    " \n",
    "f1 <- CFpdf(y,-1.36,4)\n",
    "f2 <- CFpdf(y, 1.36,4)\n",
    "f3 <- CFpdf(y,0,3)\n",
    " \n",
    "df <- data.frame(cbind(y,f1,f2,f3))\n",
    "colnames(df) <- c(\"y\",\"f1\",\"f2\",\"f3\")\n",
    "\n",
    "sk <- c(\"negative skewness\" = \"red\",\"positive skewness\"=\"darkgreen\", \"symmetric\"=\"darkblue\")\n",
    "ewfigure <- ggplot(df, aes(x = y)) +\n",
    "  geom_line(aes(y = f1, color=\"negative skewness\"), linetype = \"solid\", size = 1.3) +\n",
    "  geom_line(aes(y = f2, color=\"positive skewness\"), linetype = \"solid\", size = 1.3) +\n",
    "  geom_line(aes(y = f3, color=\"symmetric\"), linetype = \"solid\", size = 1.3) +\n",
    "  labs(title = \"Cornish Fisher density\",\n",
    "       #subtitle =  ,\n",
    "       color = \"skewness\",\n",
    "       x = \"y\",\n",
    "       y = \"f(y)\") +\n",
    "  scale_color_manual(values = sk)\n",
    "options(repr.plot.width=10, repr.plot.height=7)\n",
    "ewfigure +  theme_bw(base_line_size = 0.1)"
   ]
  },
  {
   "cell_type": "markdown",
   "id": "e3418c35",
   "metadata": {},
   "source": [
    "# Quantile\n",
    "\n",
    "The $\\alpha$-quantile, denoted $q_Y(\\alpha \\mid \\psi _{1},\\psi _{2})$, is given by\n",
    "\\begin{equation}\n",
    "\\text{q}_{Y}(\\alpha \\mid \\psi _{1},\\psi _{2})=a_{0}+a_{1}\\Phi ^{-1}(\\alpha\n",
    ")+a_{2}\\Phi ^{-1}(\\alpha )^{2}+a_{3}\\Phi ^{-1}(\\alpha )^{3}\n",
    "\\end{equation}"
   ]
  },
  {
   "cell_type": "code",
   "execution_count": 10,
   "id": "9f1eefdc",
   "metadata": {},
   "outputs": [],
   "source": [
    "CFquantile <- function(alpha,par1,par2){\n",
    "    \n",
    "    a0 <- -par1/6 \n",
    "    a1 <- 1-par2/8+(5/36)*par1^2  \n",
    "    a2 <- par1/6\n",
    "    a3 <- par2/24-(par1^2)/18\n",
    "    \n",
    "    q <- a0 + a1*qnorm(alpha) + a2*qnorm(alpha)^2 + a3*qnorm(alpha)^3\n",
    "    \n",
    "    return(q)\n",
    "}"
   ]
  },
  {
   "cell_type": "markdown",
   "id": "464dc1c7",
   "metadata": {},
   "source": [
    "## Quantile visualization"
   ]
  },
  {
   "cell_type": "code",
   "execution_count": 122,
   "id": "3b19775c",
   "metadata": {},
   "outputs": [
    {
     "data": {
      "image/png": "[encoded data removed]",
      "text/plain": [
       "plot without title"
      ]
     },
     "metadata": {
      "image/png": {
       "height": 420,
       "width": 600
      }
     },
     "output_type": "display_data"
    }
   ],
   "source": [
    "library(pracma) \n",
    "library(ggplot2)\n",
    " \n",
    "p <- seq(from = 0.001, to = 0.999, by = 0.0001)\n",
    " \n",
    "q1 <- CFquantile(p,-1.36,4)\n",
    "q2 <- CFquantile(p, 1.36,4)\n",
    "q3 <- CFquantile(p,0,3)\n",
    " \n",
    "df <- data.frame(cbind(p,q1,q2,q3))\n",
    "colnames(df) <- c(\"p\",\"q1\",\"q2\",\"q3\")\n",
    "\n",
    "sk <- c(\"negative skewness\" = \"red\",\"positive skewness\"=\"darkgreen\", \"symmetric\"=\"darkblue\")\n",
    "ewfigure <- ggplot(df, aes(x = p)) +\n",
    "  geom_line(aes(y = q1, color=\"negative skewness\"), linetype = \"solid\", size = 1.3) +\n",
    "  geom_line(aes(y = q2, color=\"positive skewness\"), linetype = \"solid\", size = 1.3) +\n",
    "  geom_line(aes(y = q3, color=\"symmetric\"), linetype = \"solid\", size = 1.3) +\n",
    "  labs(title = \"Cornish Fisher quantiles\",\n",
    "       #subtitle =  ,\n",
    "       color = \"skewness\",\n",
    "       x = \"F(y)\",\n",
    "       y = \"y\") +\n",
    "  scale_color_manual(values = sk)\n",
    "\n",
    "options(repr.plot.width=10, repr.plot.height=7)\n",
    "ewfigure +  theme_bw(base_line_size = 0.1)"
   ]
  }
 ],
 "metadata": {
  "kernelspec": {
   "display_name": "R",
   "language": "R",
   "name": "ir"
  },
  "language_info": {
   "codemirror_mode": "r",
   "file_extension": ".r",
   "mimetype": "text/x-r-source",
   "name": "R",
   "pygments_lexer": "r",
   "version": "4.1.2"
  }
 },
 "nbformat": 4,
 "nbformat_minor": 5
}
